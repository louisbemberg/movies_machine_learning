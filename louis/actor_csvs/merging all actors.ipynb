{
 "cells": [
  {
   "cell_type": "markdown",
   "id": "6b82137e",
   "metadata": {},
   "source": [
    "# Merging all actors into a single & unique CSV"
   ]
  },
  {
   "cell_type": "code",
   "execution_count": 1,
   "id": "7f5eb6ed",
   "metadata": {},
   "outputs": [],
   "source": [
    "import pandas as pd\n",
    "import numpy as np"
   ]
  },
  {
   "cell_type": "code",
   "execution_count": 11,
   "id": "f263e0a4",
   "metadata": {},
   "outputs": [
    {
     "name": "stdout",
     "output_type": "stream",
     "text": [
      "           # actor_name\n",
      "0     Katharine Hepburn\n",
      "1        Ingrid Bergman\n",
      "2          Meryl Streep\n",
      "3           Bette Davis\n",
      "4          Vivien Leigh\n",
      "...                 ...\n",
      "5841    Tiffany Haddish\n",
      "5842  Timothée Chalamet\n",
      "5843       Lucas Hedges\n",
      "5844      Janelle Monáe\n",
      "5845     Letitia Wright\n",
      "\n",
      "[5846 rows x 1 columns]\n"
     ]
    }
   ],
   "source": [
    "# merging all csv files\n",
    "df = pd.concat(\n",
    "    map(pd.read_csv, ['ultimate_actors_list.csv','all_popular_actors.csv', 'best_actors.csv', 'best_actors2.csv', 'best_actresses.csv', 'best_mixed_actors.csv']), ignore_index=True)\n",
    "print(df)"
   ]
  },
  {
   "cell_type": "markdown",
   "id": "78989f02",
   "metadata": {},
   "source": [
    "# Removing duplicate names"
   ]
  },
  {
   "cell_type": "code",
   "execution_count": 14,
   "id": "98f20943",
   "metadata": {},
   "outputs": [
    {
     "data": {
      "text/html": [
       "<div>\n",
       "<style scoped>\n",
       "    .dataframe tbody tr th:only-of-type {\n",
       "        vertical-align: middle;\n",
       "    }\n",
       "\n",
       "    .dataframe tbody tr th {\n",
       "        vertical-align: top;\n",
       "    }\n",
       "\n",
       "    .dataframe thead th {\n",
       "        text-align: right;\n",
       "    }\n",
       "</style>\n",
       "<table border=\"1\" class=\"dataframe\">\n",
       "  <thead>\n",
       "    <tr style=\"text-align: right;\">\n",
       "      <th></th>\n",
       "      <th># actor_name</th>\n",
       "    </tr>\n",
       "  </thead>\n",
       "  <tbody>\n",
       "    <tr>\n",
       "      <th>107</th>\n",
       "      <td>Greer Garson</td>\n",
       "    </tr>\n",
       "    <tr>\n",
       "      <th>130</th>\n",
       "      <td>Emma Thompson</td>\n",
       "    </tr>\n",
       "    <tr>\n",
       "      <th>140</th>\n",
       "      <td>Viola Davis</td>\n",
       "    </tr>\n",
       "    <tr>\n",
       "      <th>143</th>\n",
       "      <td>Holly Hunter</td>\n",
       "    </tr>\n",
       "    <tr>\n",
       "      <th>144</th>\n",
       "      <td>Jane Wyman</td>\n",
       "    </tr>\n",
       "    <tr>\n",
       "      <th>...</th>\n",
       "      <td>...</td>\n",
       "    </tr>\n",
       "    <tr>\n",
       "      <th>279</th>\n",
       "      <td>Abigail Breslin</td>\n",
       "    </tr>\n",
       "    <tr>\n",
       "      <th>280</th>\n",
       "      <td>Mary McDonnell</td>\n",
       "    </tr>\n",
       "    <tr>\n",
       "      <th>281</th>\n",
       "      <td>Lorraine Bracco</td>\n",
       "    </tr>\n",
       "    <tr>\n",
       "      <th>282</th>\n",
       "      <td>Natascha McElhone</td>\n",
       "    </tr>\n",
       "    <tr>\n",
       "      <th>283</th>\n",
       "      <td>Helen Hunt</td>\n",
       "    </tr>\n",
       "  </tbody>\n",
       "</table>\n",
       "<p>100 rows × 1 columns</p>\n",
       "</div>"
      ],
      "text/plain": [
       "          # actor_name\n",
       "107       Greer Garson\n",
       "130      Emma Thompson\n",
       "140        Viola Davis\n",
       "143       Holly Hunter\n",
       "144         Jane Wyman\n",
       "..                 ...\n",
       "279    Abigail Breslin\n",
       "280     Mary McDonnell\n",
       "281    Lorraine Bracco\n",
       "282  Natascha McElhone\n",
       "283         Helen Hunt\n",
       "\n",
       "[100 rows x 1 columns]"
      ]
     },
     "execution_count": 14,
     "metadata": {},
     "output_type": "execute_result"
    }
   ],
   "source": [
    "actors_no_duplicates = df.drop_duplicates()"
   ]
  },
  {
   "cell_type": "code",
   "execution_count": 16,
   "id": "004ab187",
   "metadata": {},
   "outputs": [],
   "source": [
    "actors_no_duplicates.to_csv('ALL_TOP_ACTORS.csv')"
   ]
  },
  {
   "cell_type": "markdown",
   "id": "18254fc1",
   "metadata": {},
   "source": [
    "# Same for directors"
   ]
  },
  {
   "cell_type": "code",
   "execution_count": 20,
   "id": "b4889637",
   "metadata": {},
   "outputs": [
    {
     "name": "stdout",
     "output_type": "stream",
     "text": [
      "          # director_name\n",
      "0     Frances H. Flaherty\n",
      "1              Maya Deren\n",
      "2       Lila Kourkoulakou\n",
      "3          Vera Chytilová\n",
      "4          Mai Zetterling\n",
      "...                   ...\n",
      "3158    Marianna Economou\n",
      "3159        May el-Toukhy\n",
      "3160        Aimilia Milou\n",
      "3161   Evi Kalogiropoulou\n",
      "3162    Alexandra Matheou\n",
      "\n",
      "[3163 rows x 1 columns]\n"
     ]
    }
   ],
   "source": [
    "# merging all csv files\n",
    "df2 = pd.concat(\n",
    "    map(pd.read_csv, ['ultimate_directors_list.csv', 'best_directors.csv', 'all_popular_directors.csv']), ignore_index=True)\n",
    "print(df2)"
   ]
  },
  {
   "cell_type": "code",
   "execution_count": 21,
   "id": "21b114e4",
   "metadata": {},
   "outputs": [
    {
     "data": {
      "text/plain": [
       "Sofia Coppola        12\n",
       "Kathryn Bigelow      12\n",
       "Alfred Hitchcock     10\n",
       "Robert Zemeckis      10\n",
       "Frank Darabont       10\n",
       "                     ..\n",
       "Alexander Kluge       1\n",
       "Lauren Greenfield     1\n",
       "Steve Buscemi         1\n",
       "Denys Arcand          1\n",
       "Uli Edel              1\n",
       "Name: # director_name, Length: 1329, dtype: int64"
      ]
     },
     "execution_count": 21,
     "metadata": {},
     "output_type": "execute_result"
    }
   ],
   "source": [
    "df2['# director_name'].value_counts()"
   ]
  },
  {
   "cell_type": "code",
   "execution_count": 17,
   "id": "21f6387d",
   "metadata": {},
   "outputs": [],
   "source": [
    "directors_no_duplicates = df2.drop_duplicates()"
   ]
  },
  {
   "cell_type": "code",
   "execution_count": 18,
   "id": "8b50c38c",
   "metadata": {},
   "outputs": [],
   "source": [
    "directors_no_duplicates.to_csv('ALL_TOP_DIRECTORS.csv')"
   ]
  }
 ],
 "metadata": {
  "kernelspec": {
   "display_name": "Python 3 (ipykernel)",
   "language": "python",
   "name": "python3"
  },
  "language_info": {
   "codemirror_mode": {
    "name": "ipython",
    "version": 3
   },
   "file_extension": ".py",
   "mimetype": "text/x-python",
   "name": "python",
   "nbconvert_exporter": "python",
   "pygments_lexer": "ipython3",
   "version": "3.8.6"
  },
  "toc": {
   "base_numbering": 1,
   "nav_menu": {},
   "number_sections": true,
   "sideBar": true,
   "skip_h1_title": false,
   "title_cell": "Table of Contents",
   "title_sidebar": "Contents",
   "toc_cell": false,
   "toc_position": {},
   "toc_section_display": true,
   "toc_window_display": false
  }
 },
 "nbformat": 4,
 "nbformat_minor": 5
}
