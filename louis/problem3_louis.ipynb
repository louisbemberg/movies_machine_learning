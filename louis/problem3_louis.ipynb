{
 "cells": [
  {
   "cell_type": "markdown",
   "id": "b71b45c0",
   "metadata": {},
   "source": [
    "# Problem 3: Predict whether a movie will be profitable or not\n",
    "\n",
    "While predicting the exact amount of revenue that a movie will make certainly is interesting, it is also very valuable for a movie-making company to evaluate whether it will be profitable or not, as it could help movie makers make the ultimate decision to pursue a certain movie or not.\n"
   ]
  },
  {
   "cell_type": "code",
   "execution_count": 1,
   "id": "f9b37834",
   "metadata": {},
   "outputs": [],
   "source": [
    "# Loading necessary packages\n",
    "import os\n",
    "import pandas as pd\n",
    "import numpy as np\n",
    "import matplotlib.pyplot as plt"
   ]
  },
  {
   "cell_type": "code",
   "execution_count": 2,
   "id": "0c48fcbe",
   "metadata": {},
   "outputs": [
    {
     "data": {
      "text/html": [
       "<div>\n",
       "<style scoped>\n",
       "    .dataframe tbody tr th:only-of-type {\n",
       "        vertical-align: middle;\n",
       "    }\n",
       "\n",
       "    .dataframe tbody tr th {\n",
       "        vertical-align: top;\n",
       "    }\n",
       "\n",
       "    .dataframe thead th {\n",
       "        text-align: right;\n",
       "    }\n",
       "</style>\n",
       "<table border=\"1\" class=\"dataframe\">\n",
       "  <thead>\n",
       "    <tr style=\"text-align: right;\">\n",
       "      <th></th>\n",
       "      <th>tconst</th>\n",
       "      <th>primaryTitle</th>\n",
       "      <th>originalTitle</th>\n",
       "      <th>startYear</th>\n",
       "      <th>runtimeMinutes</th>\n",
       "      <th>Animation</th>\n",
       "      <th>Fantasy</th>\n",
       "      <th>GameShow</th>\n",
       "      <th>History</th>\n",
       "      <th>Music</th>\n",
       "      <th>...</th>\n",
       "      <th>Sport</th>\n",
       "      <th>War</th>\n",
       "      <th>Western</th>\n",
       "      <th>averageRating</th>\n",
       "      <th>numVotes</th>\n",
       "      <th>budget</th>\n",
       "      <th>revenue</th>\n",
       "      <th>isTopActor</th>\n",
       "      <th>isTopDirector</th>\n",
       "      <th>yearsSinceProduced</th>\n",
       "    </tr>\n",
       "  </thead>\n",
       "  <tbody>\n",
       "    <tr>\n",
       "      <th>0</th>\n",
       "      <td>tt0035423</td>\n",
       "      <td>Kate &amp; Leopold</td>\n",
       "      <td>Kate &amp; Leopold</td>\n",
       "      <td>2001</td>\n",
       "      <td>118</td>\n",
       "      <td>0</td>\n",
       "      <td>1</td>\n",
       "      <td>0</td>\n",
       "      <td>0</td>\n",
       "      <td>0</td>\n",
       "      <td>...</td>\n",
       "      <td>0</td>\n",
       "      <td>0</td>\n",
       "      <td>0</td>\n",
       "      <td>6.4</td>\n",
       "      <td>81936.0</td>\n",
       "      <td>48000000</td>\n",
       "      <td>76019048</td>\n",
       "      <td>1</td>\n",
       "      <td>0</td>\n",
       "      <td>20</td>\n",
       "    </tr>\n",
       "    <tr>\n",
       "      <th>1</th>\n",
       "      <td>tt0116391</td>\n",
       "      <td>Gang</td>\n",
       "      <td>Gang</td>\n",
       "      <td>2000</td>\n",
       "      <td>152</td>\n",
       "      <td>0</td>\n",
       "      <td>0</td>\n",
       "      <td>0</td>\n",
       "      <td>0</td>\n",
       "      <td>0</td>\n",
       "      <td>...</td>\n",
       "      <td>0</td>\n",
       "      <td>0</td>\n",
       "      <td>0</td>\n",
       "      <td>6.2</td>\n",
       "      <td>236.0</td>\n",
       "      <td>30000000</td>\n",
       "      <td>41480851</td>\n",
       "      <td>0</td>\n",
       "      <td>0</td>\n",
       "      <td>21</td>\n",
       "    </tr>\n",
       "    <tr>\n",
       "      <th>2</th>\n",
       "      <td>tt0118589</td>\n",
       "      <td>Glitter</td>\n",
       "      <td>Glitter</td>\n",
       "      <td>2001</td>\n",
       "      <td>104</td>\n",
       "      <td>0</td>\n",
       "      <td>0</td>\n",
       "      <td>0</td>\n",
       "      <td>0</td>\n",
       "      <td>1</td>\n",
       "      <td>...</td>\n",
       "      <td>0</td>\n",
       "      <td>0</td>\n",
       "      <td>0</td>\n",
       "      <td>2.3</td>\n",
       "      <td>23292.0</td>\n",
       "      <td>22000000</td>\n",
       "      <td>5271666</td>\n",
       "      <td>0</td>\n",
       "      <td>0</td>\n",
       "      <td>20</td>\n",
       "    </tr>\n",
       "  </tbody>\n",
       "</table>\n",
       "<p>3 rows × 23 columns</p>\n",
       "</div>"
      ],
      "text/plain": [
       "      tconst    primaryTitle   originalTitle  startYear  runtimeMinutes  \\\n",
       "0  tt0035423  Kate & Leopold  Kate & Leopold       2001             118   \n",
       "1  tt0116391            Gang            Gang       2000             152   \n",
       "2  tt0118589         Glitter         Glitter       2001             104   \n",
       "\n",
       "   Animation  Fantasy  GameShow  History  Music  ...  Sport  War  Western  \\\n",
       "0          0        1         0        0      0  ...      0    0        0   \n",
       "1          0        0         0        0      0  ...      0    0        0   \n",
       "2          0        0         0        0      1  ...      0    0        0   \n",
       "\n",
       "   averageRating  numVotes    budget   revenue  isTopActor  isTopDirector  \\\n",
       "0            6.4   81936.0  48000000  76019048           1              0   \n",
       "1            6.2     236.0  30000000  41480851           0              0   \n",
       "2            2.3   23292.0  22000000   5271666           0              0   \n",
       "\n",
       "   yearsSinceProduced  \n",
       "0                  20  \n",
       "1                  21  \n",
       "2                  20  \n",
       "\n",
       "[3 rows x 23 columns]"
      ]
     },
     "execution_count": 2,
     "metadata": {},
     "output_type": "execute_result"
    }
   ],
   "source": [
    "# Loading the training & testing set\n",
    "# Remember, this has been previously randomly split\n",
    "# The training data contains approx 70% of observations\n",
    "\n",
    "movies_train = pd.read_csv('../00_DATA/train_dataset.csv')\n",
    "movies_test = pd.read_csv('../00_DATA/test_dataset.csv')\n",
    "\n",
    "movies_train.head(3)"
   ]
  },
  {
   "cell_type": "markdown",
   "id": "0c844122",
   "metadata": {},
   "source": [
    "# Creating the dependent Variable\n",
    "\n",
    "As of now, the variable of interest is continuous. That is, the column \"revenue\" contains an amount of dollars of total box office revenue achieved by the movie in question. However, in this section we're only interested in predicted whether 'revenue' is larger than or equal to 'budget'. We create then a new column 'profitable':"
   ]
  },
  {
   "cell_type": "code",
   "execution_count": 3,
   "id": "fbcd59bf",
   "metadata": {},
   "outputs": [],
   "source": [
    "movies_train['profitable'] = np.where(movies_train['revenue'] >= movies_train['budget'], 1, 0)\n",
    "movies_test['profitable'] = np.where(movies_test['revenue'] >= movies_test['budget'], 1, 0)\n"
   ]
  },
  {
   "cell_type": "code",
   "execution_count": 4,
   "id": "395996b9",
   "metadata": {},
   "outputs": [
    {
     "data": {
      "text/html": [
       "<div>\n",
       "<style scoped>\n",
       "    .dataframe tbody tr th:only-of-type {\n",
       "        vertical-align: middle;\n",
       "    }\n",
       "\n",
       "    .dataframe tbody tr th {\n",
       "        vertical-align: top;\n",
       "    }\n",
       "\n",
       "    .dataframe thead th {\n",
       "        text-align: right;\n",
       "    }\n",
       "</style>\n",
       "<table border=\"1\" class=\"dataframe\">\n",
       "  <thead>\n",
       "    <tr style=\"text-align: right;\">\n",
       "      <th></th>\n",
       "      <th>tconst</th>\n",
       "      <th>primaryTitle</th>\n",
       "      <th>originalTitle</th>\n",
       "      <th>startYear</th>\n",
       "      <th>runtimeMinutes</th>\n",
       "      <th>Animation</th>\n",
       "      <th>Fantasy</th>\n",
       "      <th>GameShow</th>\n",
       "      <th>History</th>\n",
       "      <th>Music</th>\n",
       "      <th>...</th>\n",
       "      <th>War</th>\n",
       "      <th>Western</th>\n",
       "      <th>averageRating</th>\n",
       "      <th>numVotes</th>\n",
       "      <th>budget</th>\n",
       "      <th>revenue</th>\n",
       "      <th>isTopActor</th>\n",
       "      <th>isTopDirector</th>\n",
       "      <th>yearsSinceProduced</th>\n",
       "      <th>profitable</th>\n",
       "    </tr>\n",
       "  </thead>\n",
       "  <tbody>\n",
       "    <tr>\n",
       "      <th>0</th>\n",
       "      <td>tt0035423</td>\n",
       "      <td>Kate &amp; Leopold</td>\n",
       "      <td>Kate &amp; Leopold</td>\n",
       "      <td>2001</td>\n",
       "      <td>118</td>\n",
       "      <td>0</td>\n",
       "      <td>1</td>\n",
       "      <td>0</td>\n",
       "      <td>0</td>\n",
       "      <td>0</td>\n",
       "      <td>...</td>\n",
       "      <td>0</td>\n",
       "      <td>0</td>\n",
       "      <td>6.4</td>\n",
       "      <td>81936.0</td>\n",
       "      <td>48000000</td>\n",
       "      <td>76019048</td>\n",
       "      <td>1</td>\n",
       "      <td>0</td>\n",
       "      <td>20</td>\n",
       "      <td>1</td>\n",
       "    </tr>\n",
       "    <tr>\n",
       "      <th>1</th>\n",
       "      <td>tt0116391</td>\n",
       "      <td>Gang</td>\n",
       "      <td>Gang</td>\n",
       "      <td>2000</td>\n",
       "      <td>152</td>\n",
       "      <td>0</td>\n",
       "      <td>0</td>\n",
       "      <td>0</td>\n",
       "      <td>0</td>\n",
       "      <td>0</td>\n",
       "      <td>...</td>\n",
       "      <td>0</td>\n",
       "      <td>0</td>\n",
       "      <td>6.2</td>\n",
       "      <td>236.0</td>\n",
       "      <td>30000000</td>\n",
       "      <td>41480851</td>\n",
       "      <td>0</td>\n",
       "      <td>0</td>\n",
       "      <td>21</td>\n",
       "      <td>1</td>\n",
       "    </tr>\n",
       "    <tr>\n",
       "      <th>2</th>\n",
       "      <td>tt0118589</td>\n",
       "      <td>Glitter</td>\n",
       "      <td>Glitter</td>\n",
       "      <td>2001</td>\n",
       "      <td>104</td>\n",
       "      <td>0</td>\n",
       "      <td>0</td>\n",
       "      <td>0</td>\n",
       "      <td>0</td>\n",
       "      <td>1</td>\n",
       "      <td>...</td>\n",
       "      <td>0</td>\n",
       "      <td>0</td>\n",
       "      <td>2.3</td>\n",
       "      <td>23292.0</td>\n",
       "      <td>22000000</td>\n",
       "      <td>5271666</td>\n",
       "      <td>0</td>\n",
       "      <td>0</td>\n",
       "      <td>20</td>\n",
       "      <td>0</td>\n",
       "    </tr>\n",
       "    <tr>\n",
       "      <th>3</th>\n",
       "      <td>tt0120166</td>\n",
       "      <td>The Sorcerer's Apprentice</td>\n",
       "      <td>The Sorcerer's Apprentice</td>\n",
       "      <td>2001</td>\n",
       "      <td>86</td>\n",
       "      <td>0</td>\n",
       "      <td>1</td>\n",
       "      <td>0</td>\n",
       "      <td>0</td>\n",
       "      <td>0</td>\n",
       "      <td>...</td>\n",
       "      <td>0</td>\n",
       "      <td>0</td>\n",
       "      <td>4.5</td>\n",
       "      <td>565.0</td>\n",
       "      <td>150000000</td>\n",
       "      <td>215283742</td>\n",
       "      <td>0</td>\n",
       "      <td>0</td>\n",
       "      <td>20</td>\n",
       "      <td>1</td>\n",
       "    </tr>\n",
       "    <tr>\n",
       "      <th>4</th>\n",
       "      <td>tt0120467</td>\n",
       "      <td>Vulgar</td>\n",
       "      <td>Vulgar</td>\n",
       "      <td>2000</td>\n",
       "      <td>87</td>\n",
       "      <td>0</td>\n",
       "      <td>0</td>\n",
       "      <td>0</td>\n",
       "      <td>0</td>\n",
       "      <td>0</td>\n",
       "      <td>...</td>\n",
       "      <td>0</td>\n",
       "      <td>0</td>\n",
       "      <td>5.2</td>\n",
       "      <td>4078.0</td>\n",
       "      <td>120000</td>\n",
       "      <td>14904</td>\n",
       "      <td>0</td>\n",
       "      <td>0</td>\n",
       "      <td>21</td>\n",
       "      <td>0</td>\n",
       "    </tr>\n",
       "  </tbody>\n",
       "</table>\n",
       "<p>5 rows × 24 columns</p>\n",
       "</div>"
      ],
      "text/plain": [
       "      tconst               primaryTitle              originalTitle  startYear  \\\n",
       "0  tt0035423             Kate & Leopold             Kate & Leopold       2001   \n",
       "1  tt0116391                       Gang                       Gang       2000   \n",
       "2  tt0118589                    Glitter                    Glitter       2001   \n",
       "3  tt0120166  The Sorcerer's Apprentice  The Sorcerer's Apprentice       2001   \n",
       "4  tt0120467                     Vulgar                     Vulgar       2000   \n",
       "\n",
       "   runtimeMinutes  Animation  Fantasy  GameShow  History  Music  ...  War  \\\n",
       "0             118          0        1         0        0      0  ...    0   \n",
       "1             152          0        0         0        0      0  ...    0   \n",
       "2             104          0        0         0        0      1  ...    0   \n",
       "3              86          0        1         0        0      0  ...    0   \n",
       "4              87          0        0         0        0      0  ...    0   \n",
       "\n",
       "   Western  averageRating  numVotes     budget    revenue  isTopActor  \\\n",
       "0        0            6.4   81936.0   48000000   76019048           1   \n",
       "1        0            6.2     236.0   30000000   41480851           0   \n",
       "2        0            2.3   23292.0   22000000    5271666           0   \n",
       "3        0            4.5     565.0  150000000  215283742           0   \n",
       "4        0            5.2    4078.0     120000      14904           0   \n",
       "\n",
       "   isTopDirector  yearsSinceProduced  profitable  \n",
       "0              0                  20           1  \n",
       "1              0                  21           1  \n",
       "2              0                  20           0  \n",
       "3              0                  20           1  \n",
       "4              0                  21           0  \n",
       "\n",
       "[5 rows x 24 columns]"
      ]
     },
     "execution_count": 4,
     "metadata": {},
     "output_type": "execute_result"
    }
   ],
   "source": [
    "movies_train.head(5)"
   ]
  },
  {
   "cell_type": "code",
   "execution_count": 5,
   "id": "35f6cc1b",
   "metadata": {},
   "outputs": [
    {
     "data": {
      "text/html": [
       "<div>\n",
       "<style scoped>\n",
       "    .dataframe tbody tr th:only-of-type {\n",
       "        vertical-align: middle;\n",
       "    }\n",
       "\n",
       "    .dataframe tbody tr th {\n",
       "        vertical-align: top;\n",
       "    }\n",
       "\n",
       "    .dataframe thead th {\n",
       "        text-align: right;\n",
       "    }\n",
       "</style>\n",
       "<table border=\"1\" class=\"dataframe\">\n",
       "  <thead>\n",
       "    <tr style=\"text-align: right;\">\n",
       "      <th></th>\n",
       "      <th>tconst</th>\n",
       "      <th>primaryTitle</th>\n",
       "      <th>originalTitle</th>\n",
       "      <th>startYear</th>\n",
       "      <th>runtimeMinutes</th>\n",
       "      <th>Animation</th>\n",
       "      <th>Fantasy</th>\n",
       "      <th>GameShow</th>\n",
       "      <th>History</th>\n",
       "      <th>Music</th>\n",
       "      <th>...</th>\n",
       "      <th>War</th>\n",
       "      <th>Western</th>\n",
       "      <th>averageRating</th>\n",
       "      <th>numVotes</th>\n",
       "      <th>budget</th>\n",
       "      <th>revenue</th>\n",
       "      <th>isTopActor</th>\n",
       "      <th>isTopDirector</th>\n",
       "      <th>yearsSinceProduced</th>\n",
       "      <th>profitable</th>\n",
       "    </tr>\n",
       "  </thead>\n",
       "  <tbody>\n",
       "    <tr>\n",
       "      <th>0</th>\n",
       "      <td>tt0293429</td>\n",
       "      <td>Mortal Kombat</td>\n",
       "      <td>Mortal Kombat</td>\n",
       "      <td>2021</td>\n",
       "      <td>110</td>\n",
       "      <td>0</td>\n",
       "      <td>1</td>\n",
       "      <td>0</td>\n",
       "      <td>0</td>\n",
       "      <td>0</td>\n",
       "      <td>...</td>\n",
       "      <td>0</td>\n",
       "      <td>0</td>\n",
       "      <td>6.1</td>\n",
       "      <td>150542.0</td>\n",
       "      <td>20000000</td>\n",
       "      <td>83601013</td>\n",
       "      <td>0</td>\n",
       "      <td>0</td>\n",
       "      <td>0</td>\n",
       "      <td>1</td>\n",
       "    </tr>\n",
       "    <tr>\n",
       "      <th>1</th>\n",
       "      <td>tt0315642</td>\n",
       "      <td>Wazir</td>\n",
       "      <td>Wazir</td>\n",
       "      <td>2016</td>\n",
       "      <td>103</td>\n",
       "      <td>0</td>\n",
       "      <td>0</td>\n",
       "      <td>0</td>\n",
       "      <td>0</td>\n",
       "      <td>0</td>\n",
       "      <td>...</td>\n",
       "      <td>0</td>\n",
       "      <td>0</td>\n",
       "      <td>7.2</td>\n",
       "      <td>18426.0</td>\n",
       "      <td>5200000</td>\n",
       "      <td>9200000</td>\n",
       "      <td>0</td>\n",
       "      <td>0</td>\n",
       "      <td>5</td>\n",
       "      <td>1</td>\n",
       "    </tr>\n",
       "    <tr>\n",
       "      <th>2</th>\n",
       "      <td>tt0385887</td>\n",
       "      <td>Motherless Brooklyn</td>\n",
       "      <td>Motherless Brooklyn</td>\n",
       "      <td>2019</td>\n",
       "      <td>144</td>\n",
       "      <td>0</td>\n",
       "      <td>0</td>\n",
       "      <td>0</td>\n",
       "      <td>0</td>\n",
       "      <td>0</td>\n",
       "      <td>...</td>\n",
       "      <td>0</td>\n",
       "      <td>0</td>\n",
       "      <td>6.8</td>\n",
       "      <td>51825.0</td>\n",
       "      <td>26000000</td>\n",
       "      <td>18377736</td>\n",
       "      <td>1</td>\n",
       "      <td>0</td>\n",
       "      <td>2</td>\n",
       "      <td>0</td>\n",
       "    </tr>\n",
       "    <tr>\n",
       "      <th>3</th>\n",
       "      <td>tt0437086</td>\n",
       "      <td>Alita: Battle Angel</td>\n",
       "      <td>Alita: Battle Angel</td>\n",
       "      <td>2019</td>\n",
       "      <td>122</td>\n",
       "      <td>0</td>\n",
       "      <td>0</td>\n",
       "      <td>0</td>\n",
       "      <td>0</td>\n",
       "      <td>0</td>\n",
       "      <td>...</td>\n",
       "      <td>0</td>\n",
       "      <td>0</td>\n",
       "      <td>7.3</td>\n",
       "      <td>249934.0</td>\n",
       "      <td>170000000</td>\n",
       "      <td>404852543</td>\n",
       "      <td>1</td>\n",
       "      <td>1</td>\n",
       "      <td>2</td>\n",
       "      <td>1</td>\n",
       "    </tr>\n",
       "    <tr>\n",
       "      <th>4</th>\n",
       "      <td>tt0441881</td>\n",
       "      <td>Danger Close</td>\n",
       "      <td>Danger Close: The Battle of Long Tan</td>\n",
       "      <td>2019</td>\n",
       "      <td>118</td>\n",
       "      <td>0</td>\n",
       "      <td>0</td>\n",
       "      <td>0</td>\n",
       "      <td>0</td>\n",
       "      <td>0</td>\n",
       "      <td>...</td>\n",
       "      <td>1</td>\n",
       "      <td>0</td>\n",
       "      <td>6.8</td>\n",
       "      <td>11395.0</td>\n",
       "      <td>23934823</td>\n",
       "      <td>2078370</td>\n",
       "      <td>0</td>\n",
       "      <td>0</td>\n",
       "      <td>2</td>\n",
       "      <td>0</td>\n",
       "    </tr>\n",
       "  </tbody>\n",
       "</table>\n",
       "<p>5 rows × 24 columns</p>\n",
       "</div>"
      ],
      "text/plain": [
       "      tconst         primaryTitle                         originalTitle  \\\n",
       "0  tt0293429        Mortal Kombat                         Mortal Kombat   \n",
       "1  tt0315642                Wazir                                 Wazir   \n",
       "2  tt0385887  Motherless Brooklyn                   Motherless Brooklyn   \n",
       "3  tt0437086  Alita: Battle Angel                   Alita: Battle Angel   \n",
       "4  tt0441881         Danger Close  Danger Close: The Battle of Long Tan   \n",
       "\n",
       "   startYear  runtimeMinutes  Animation  Fantasy  GameShow  History  Music  \\\n",
       "0       2021             110          0        1         0        0      0   \n",
       "1       2016             103          0        0         0        0      0   \n",
       "2       2019             144          0        0         0        0      0   \n",
       "3       2019             122          0        0         0        0      0   \n",
       "4       2019             118          0        0         0        0      0   \n",
       "\n",
       "   ...  War  Western  averageRating  numVotes     budget    revenue  \\\n",
       "0  ...    0        0            6.1  150542.0   20000000   83601013   \n",
       "1  ...    0        0            7.2   18426.0    5200000    9200000   \n",
       "2  ...    0        0            6.8   51825.0   26000000   18377736   \n",
       "3  ...    0        0            7.3  249934.0  170000000  404852543   \n",
       "4  ...    1        0            6.8   11395.0   23934823    2078370   \n",
       "\n",
       "   isTopActor  isTopDirector  yearsSinceProduced  profitable  \n",
       "0           0              0                   0           1  \n",
       "1           0              0                   5           1  \n",
       "2           1              0                   2           0  \n",
       "3           1              1                   2           1  \n",
       "4           0              0                   2           0  \n",
       "\n",
       "[5 rows x 24 columns]"
      ]
     },
     "execution_count": 5,
     "metadata": {},
     "output_type": "execute_result"
    }
   ],
   "source": [
    "movies_test.head(5)"
   ]
  },
  {
   "cell_type": "markdown",
   "id": "85834abb",
   "metadata": {},
   "source": [
    "# Model Generation\n",
    "\n",
    "In this section,  we'll generate classifying models that predict whether a movie is profitable or not given its features. The models we will generate are the following:\n",
    "\n",
    "* baseline\n",
    "* Logistic Regression\n",
    "* CART\n",
    "* Vanilla Bagging\n",
    "* Random Forest\n",
    "* Gradient Boosting\n",
    "\n",
    "We will then evaluate our performance metric of choice, **accuracy**, for each model."
   ]
  },
  {
   "cell_type": "code",
   "execution_count": 6,
   "id": "0f318af6",
   "metadata": {},
   "outputs": [],
   "source": [
    "from sklearn.metrics import confusion_matrix \n",
    "from sklearn.metrics import accuracy_score"
   ]
  },
  {
   "cell_type": "code",
   "execution_count": 7,
   "id": "c9fb59a8",
   "metadata": {},
   "outputs": [],
   "source": [
    "# defining my own metrics functions to use for later\n",
    "def tpr_score(y_test, y_pred):\n",
    "    cm = confusion_matrix(y_test, y_pred).ravel()\n",
    "    return (cm[3]) / (cm[3] + cm[2])\n",
    "    \n",
    "def fpr_score(y_test, y_pred):\n",
    "    cm = confusion_matrix(y_test, y_pred).ravel()\n",
    "    return (cm[1]) / (cm[1] + cm[0])"
   ]
  },
  {
   "cell_type": "markdown",
   "id": "d73e8ce7",
   "metadata": {},
   "source": [
    "## Baseline Model\n",
    "\n",
    "Let us first build a baseline model that we'll use as \"strict minimum\" to assess the performance of the next models. A baseline model simply predicts whatever happens most frequently in the training set. Let us inspect:"
   ]
  },
  {
   "cell_type": "code",
   "execution_count": 8,
   "id": "25216238",
   "metadata": {},
   "outputs": [
    {
     "data": {
      "text/plain": [
       "1    3947\n",
       "0    1604\n",
       "Name: profitable, dtype: int64"
      ]
     },
     "execution_count": 8,
     "metadata": {},
     "output_type": "execute_result"
    }
   ],
   "source": [
    "# Which value. of \"profitable\" happens most frequently on the training set?\n",
    "movies_train['profitable'].value_counts()"
   ]
  },
  {
   "cell_type": "markdown",
   "id": "c43988e8",
   "metadata": {},
   "source": [
    "There are more profitable movies than non-profitable. Therefore, our baseline model will always predict profitable = 1."
   ]
  },
  {
   "cell_type": "code",
   "execution_count": 48,
   "id": "a2febccd",
   "metadata": {},
   "outputs": [],
   "source": [
    "baseline_y_pred = [1 for pred in movies_test['profitable']]\n",
    "y_actual = movies_test['profitable']"
   ]
  },
  {
   "cell_type": "code",
   "execution_count": 49,
   "id": "2a223fcc",
   "metadata": {},
   "outputs": [
    {
     "name": "stdout",
     "output_type": "stream",
     "text": [
      "Confusion Matrix of the Baseline Model [   0  634    0 1721]\n",
      "Accuracy of the baseline model: 0.7307855626326963\n"
     ]
    }
   ],
   "source": [
    "# CM and performance metrics of the baseline model\n",
    "\n",
    "baseline_cm = confusion_matrix(y_actual, baseline_y_pred).ravel()\n",
    "baseline_accuracy = accuracy_score(y_actual, baseline_y_pred)\n",
    "\n",
    "print(\"Confusion Matrix of the Baseline Model\", baseline_cm)\n",
    "print(\"Accuracy of the baseline model:\", baseline_accuracy)"
   ]
  },
  {
   "cell_type": "markdown",
   "id": "5ceaa541",
   "metadata": {},
   "source": [
    "# Logistic Regression"
   ]
  },
  {
   "cell_type": "markdown",
   "id": "def5e67e",
   "metadata": {},
   "source": [
    "### Ignored irrelevant columns:\n",
    "\n",
    "Before we even begin modelling, some columns must be removed/Ignored as they are not relevant for this study:\n",
    "- tconst is just a database ID and carries no relevance\n",
    "- primaryTitle and originalTitle are not relevant, as we chose not to do NLP on titles for this portion of the project\n",
    "- startYear, as we used it to obtain yearsSinceProduces\n",
    "- **important** numVotes and averageRating: We assume in this study that ratings are gathered AFTER the revenue is obtained. Therefore it may not be relevant for companies willing to determine profitability BEFORE movies are released.\n",
    "- revenue: As it was used to create the dependent variable, we cannot use it to predict profitability"
   ]
  },
  {
   "cell_type": "code",
   "execution_count": 11,
   "id": "02be75ae",
   "metadata": {},
   "outputs": [
    {
     "name": "stdout",
     "output_type": "stream",
     "text": [
      "<class 'pandas.core.frame.DataFrame'>\n",
      "RangeIndex: 5551 entries, 0 to 5550\n",
      "Data columns (total 24 columns):\n",
      " #   Column              Non-Null Count  Dtype  \n",
      "---  ------              --------------  -----  \n",
      " 0   tconst              5551 non-null   object \n",
      " 1   primaryTitle        5551 non-null   object \n",
      " 2   originalTitle       5551 non-null   object \n",
      " 3   startYear           5551 non-null   int64  \n",
      " 4   runtimeMinutes      5551 non-null   int64  \n",
      " 5   Animation           5551 non-null   int64  \n",
      " 6   Fantasy             5551 non-null   int64  \n",
      " 7   GameShow            5551 non-null   int64  \n",
      " 8   History             5551 non-null   int64  \n",
      " 9   Music               5551 non-null   int64  \n",
      " 10  Musical             5551 non-null   int64  \n",
      " 11  News                5551 non-null   int64  \n",
      " 12  SciFi               5551 non-null   int64  \n",
      " 13  Sport               5551 non-null   int64  \n",
      " 14  War                 5551 non-null   int64  \n",
      " 15  Western             5551 non-null   int64  \n",
      " 16  averageRating       5551 non-null   float64\n",
      " 17  numVotes            5551 non-null   float64\n",
      " 18  budget              5551 non-null   int64  \n",
      " 19  revenue             5551 non-null   int64  \n",
      " 20  isTopActor          5551 non-null   int64  \n",
      " 21  isTopDirector       5551 non-null   int64  \n",
      " 22  yearsSinceProduced  5551 non-null   int64  \n",
      " 23  profitable          5551 non-null   int64  \n",
      "dtypes: float64(2), int64(19), object(3)\n",
      "memory usage: 1.0+ MB\n"
     ]
    }
   ],
   "source": [
    "movies_train.info()"
   ]
  },
  {
   "cell_type": "code",
   "execution_count": 12,
   "id": "0d1b4bc4",
   "metadata": {},
   "outputs": [
    {
     "data": {
      "text/plain": [
       "'profitable ~ tconst + primaryTitle + originalTitle + startYear + runtimeMinutes + Animation + Fantasy + GameShow + History + Music + Musical + News + SciFi + Sport + War + Western + averageRating + numVotes + budget + revenue + isTopActor + isTopDirector + yearsSinceProduced'"
      ]
     },
     "execution_count": 12,
     "metadata": {},
     "output_type": "execute_result"
    }
   ],
   "source": [
    "# function that writes the formula for us, if needed\n",
    "def formula_for_logreg(df, y, cols_to_remove=[]):\n",
    "    return y + ' ~ ' + ' + '.join(df.columns.drop([y] + cols_to_remove))\n",
    "\n",
    "formula_for_logreg(movies_train, 'profitable', [])"
   ]
  },
  {
   "cell_type": "markdown",
   "id": "7d4b90a1",
   "metadata": {},
   "source": [
    "### Logistic Regression model #0 "
   ]
  },
  {
   "cell_type": "code",
   "execution_count": 75,
   "id": "3813a950",
   "metadata": {},
   "outputs": [
    {
     "name": "stdout",
     "output_type": "stream",
     "text": [
      "Optimization terminated successfully.\n",
      "         Current function value: 0.576422\n",
      "         Iterations 6\n",
      "                           Logit Regression Results                           \n",
      "==============================================================================\n",
      "Dep. Variable:             profitable   No. Observations:                 5551\n",
      "Model:                          Logit   Df Residuals:                     5535\n",
      "Method:                           MLE   Df Model:                           15\n",
      "Date:                Fri, 03 Dec 2021   Pseudo R-squ.:                 0.04124\n",
      "Time:                        20:31:33   Log-Likelihood:                -3199.7\n",
      "converged:                       True   LL-Null:                       -3337.3\n",
      "Covariance Type:            nonrobust   LLR p-value:                 7.596e-50\n",
      "======================================================================================\n",
      "                         coef    std err          z      P>|z|      [0.025      0.975]\n",
      "--------------------------------------------------------------------------------------\n",
      "Intercept              0.4478      0.171      2.611      0.009       0.112       0.784\n",
      "runtimeMinutes         0.0033      0.001      2.297      0.022       0.000       0.006\n",
      "Animation              0.0017      0.164      0.010      0.992      -0.320       0.324\n",
      "Fantasy               -0.0376      0.131     -0.286      0.775      -0.295       0.220\n",
      "History               -0.8284      0.173     -4.796      0.000      -1.167      -0.490\n",
      "Music                 -0.1165      0.172     -0.677      0.498      -0.454       0.221\n",
      "Musical               -0.3502      0.301     -1.162      0.245      -0.941       0.240\n",
      "News                   0.5100      0.843      0.605      0.545      -1.142       2.162\n",
      "SciFi                 -0.2187      0.139     -1.569      0.117      -0.492       0.054\n",
      "Sport                 -0.0500      0.215     -0.233      0.816      -0.471       0.371\n",
      "War                   -0.4580      0.236     -1.938      0.053      -0.921       0.005\n",
      "Western               -0.9869      0.443     -2.229      0.026      -1.855      -0.119\n",
      "budget              1.193e-08   9.64e-10     12.366      0.000       1e-08    1.38e-08\n",
      "isTopActor            -0.0299      0.101     -0.298      0.766      -0.227       0.167\n",
      "isTopDirector          0.2000      0.105      1.898      0.058      -0.007       0.407\n",
      "yearsSinceProduced    -0.0194      0.007     -2.826      0.005      -0.033      -0.006\n",
      "======================================================================================\n"
     ]
    }
   ],
   "source": [
    "# logreg0: All relevant features except numVotes and averageRating\n",
    "import statsmodels.formula.api as smf\n",
    "\n",
    "# Removed: numVotes, averageRating\n",
    "logreg0 = smf.logit(formula = ''' profitable ~ \n",
    "                    runtimeMinutes +  \n",
    "                    Animation + \n",
    "                    Fantasy + \n",
    "                    History + \n",
    "                    Music + \n",
    "                    Musical + \n",
    "                    News + \n",
    "                    SciFi + \n",
    "                    Sport + \n",
    "                    War + \n",
    "                    Western +\n",
    "                    budget +\n",
    "                    isTopActor + \n",
    "                    isTopDirector + \n",
    "                    yearsSinceProduced\n",
    "                ''' ,data = movies_train).fit()\n",
    "\n",
    "print(logreg0.summary())"
   ]
  },
  {
   "cell_type": "code",
   "execution_count": 76,
   "id": "2d38e78c",
   "metadata": {},
   "outputs": [
    {
     "data": {
      "text/plain": [
       "0.7290870488322717"
      ]
     },
     "execution_count": 76,
     "metadata": {},
     "output_type": "execute_result"
    }
   ],
   "source": [
    "y_pred_logreg0 = [1 if pred >= 0.5 else 0 for pred in logreg0.predict(movies_test)]\n",
    "y_actual = movies_test['profitable']\n",
    "\n",
    "accuracy_score(y_pred_logreg0, y_actual)"
   ]
  },
  {
   "cell_type": "code",
   "execution_count": 77,
   "id": "7cf2b8d2",
   "metadata": {},
   "outputs": [
    {
     "name": "stdout",
     "output_type": "stream",
     "text": [
      "Confusion Matrix of Logistic Regression : \n",
      " [   5  629    9 1712]\n"
     ]
    }
   ],
   "source": [
    "cm_logreg0 = confusion_matrix(y_actual, y_pred_logreg0).ravel()\n",
    "\n",
    "print (\"Confusion Matrix of Logistic Regression : \\n\", cm_logreg0)"
   ]
  },
  {
   "cell_type": "markdown",
   "id": "c42b9f25",
   "metadata": {},
   "source": [
    "### Logistic Regression model #1: Trying to include voting data"
   ]
  },
  {
   "cell_type": "code",
   "execution_count": 82,
   "id": "778234fd",
   "metadata": {},
   "outputs": [
    {
     "name": "stdout",
     "output_type": "stream",
     "text": [
      "Optimization terminated successfully.\n",
      "         Current function value: 0.542840\n",
      "         Iterations 8\n",
      "                           Logit Regression Results                           \n",
      "==============================================================================\n",
      "Dep. Variable:             profitable   No. Observations:                 5551\n",
      "Model:                          Logit   Df Residuals:                     5533\n",
      "Method:                           MLE   Df Model:                           17\n",
      "Date:                Fri, 03 Dec 2021   Pseudo R-squ.:                 0.09709\n",
      "Time:                        20:33:27   Log-Likelihood:                -3013.3\n",
      "converged:                       True   LL-Null:                       -3337.3\n",
      "Covariance Type:            nonrobust   LLR p-value:                9.204e-127\n",
      "======================================================================================\n",
      "                         coef    std err          z      P>|z|      [0.025      0.975]\n",
      "--------------------------------------------------------------------------------------\n",
      "Intercept              0.4324      0.225      1.924      0.054      -0.008       0.873\n",
      "runtimeMinutes        -0.0015      0.001     -1.090      0.276      -0.004       0.001\n",
      "Animation             -0.1095      0.170     -0.644      0.520      -0.443       0.224\n",
      "Fantasy               -0.1768      0.138     -1.281      0.200      -0.447       0.094\n",
      "History               -0.8019      0.179     -4.479      0.000      -1.153      -0.451\n",
      "Music                 -0.0763      0.176     -0.433      0.665      -0.422       0.269\n",
      "Musical               -0.2029      0.311     -0.653      0.514      -0.812       0.406\n",
      "News                   0.4069      0.843      0.483      0.629      -1.245       2.059\n",
      "SciFi                 -0.6471      0.154     -4.199      0.000      -0.949      -0.345\n",
      "Sport                 -0.0664      0.220     -0.301      0.763      -0.499       0.366\n",
      "War                   -0.3633      0.241     -1.505      0.132      -0.836       0.110\n",
      "Western               -0.9173      0.474     -1.937      0.053      -1.846       0.011\n",
      "budget              9.037e-09   9.41e-10      9.601      0.000    7.19e-09    1.09e-08\n",
      "isTopActor            -0.6319      0.112     -5.620      0.000      -0.852      -0.412\n",
      "isTopDirector         -0.4591      0.118     -3.886      0.000      -0.691      -0.228\n",
      "yearsSinceProduced    -0.0211      0.007     -2.995      0.003      -0.035      -0.007\n",
      "numVotes            1.029e-05   7.48e-07     13.746      0.000    8.82e-06    1.18e-05\n",
      "averageRating          0.0597      0.027      2.180      0.029       0.006       0.113\n",
      "======================================================================================\n"
     ]
    }
   ],
   "source": [
    "# logreg1: All relevant features **including** numVotes and averageRating\n",
    "import statsmodels.formula.api as smf\n",
    "\n",
    "# Removed: none\n",
    "logreg1 = smf.logit(formula = ''' profitable ~ \n",
    "                    runtimeMinutes +  \n",
    "                    Animation + \n",
    "                    Fantasy + \n",
    "                    History + \n",
    "                    Music + \n",
    "                    Musical + \n",
    "                    News + \n",
    "                    SciFi + \n",
    "                    Sport + \n",
    "                    War + \n",
    "                    Western +\n",
    "                    budget +\n",
    "                    isTopActor + \n",
    "                    isTopDirector + \n",
    "                    yearsSinceProduced +\n",
    "                    numVotes +\n",
    "                    averageRating\n",
    "                ''' ,data = movies_train).fit()\n",
    "\n",
    "print(logreg1.summary())"
   ]
  },
  {
   "cell_type": "code",
   "execution_count": 83,
   "id": "d53c0e15",
   "metadata": {},
   "outputs": [
    {
     "data": {
      "text/plain": [
       "0.7252653927813163"
      ]
     },
     "execution_count": 83,
     "metadata": {},
     "output_type": "execute_result"
    }
   ],
   "source": [
    "y_pred_logreg1 = [1 if pred >= 0.5 else 0 for pred in logreg1.predict(movies_test)]\n",
    "y_actual = movies_test['profitable']\n",
    "\n",
    "accuracy_score(y_pred_logreg1, y_actual)"
   ]
  },
  {
   "cell_type": "markdown",
   "id": "0e577a38",
   "metadata": {},
   "source": [
    "### Checking VIFs (checking for collinearity of independent variables)"
   ]
  },
  {
   "cell_type": "code",
   "execution_count": 90,
   "id": "89a05722",
   "metadata": {},
   "outputs": [],
   "source": [
    "# VIF Check\n",
    "import statsmodels.api as sm\n",
    "from statsmodels.stats.outliers_influence import variance_inflation_factor\n",
    "\n",
    "def VIF(df, columns):\n",
    "    \n",
    "    values = sm.add_constant(df[columns]).values  # the dataframe passed to VIF must include the intercept term. We add it the same way we did before.\n",
    "    num_columns = len(columns)+1\n",
    "    vif = [variance_inflation_factor(values, i) for i in range(num_columns)]\n",
    "    \n",
    "    return pd.Series(vif[1:], index=columns)"
   ]
  },
  {
   "cell_type": "code",
   "execution_count": 92,
   "id": "b8dd72fc",
   "metadata": {},
   "outputs": [
    {
     "data": {
      "text/plain": [
       "runtimeMinutes        1.114848\n",
       "Animation             1.041636\n",
       "Fantasy               1.017586\n",
       "History               1.035753\n",
       "Music                 1.011342\n",
       "Musical               1.015810\n",
       "News                  1.003567\n",
       "SciFi                 1.041009\n",
       "Sport                 1.007036\n",
       "War                   1.019177\n",
       "Western               1.002856\n",
       "budget                1.094115\n",
       "isTopActor            1.173747\n",
       "isTopDirector         1.164778\n",
       "yearsSinceProduced    1.019185\n",
       "dtype: float64"
      ]
     },
     "execution_count": 92,
     "metadata": {},
     "output_type": "execute_result"
    }
   ],
   "source": [
    "# checking VIF of columns of logreg0\n",
    "cols = '''\n",
    "            runtimeMinutes \n",
    "            Animation\n",
    "            Fantasy \n",
    "            History \n",
    "            Music \n",
    "            Musical \n",
    "            News\n",
    "            SciFi \n",
    "            Sport \n",
    "            War\n",
    "            Western\n",
    "            budget\n",
    "            isTopActor \n",
    "            isTopDirector \n",
    "            yearsSinceProduced\n",
    "                '''.split()\n",
    "VIF(movies_train, cols)"
   ]
  },
  {
   "cell_type": "code",
   "execution_count": 93,
   "id": "f13cb7c7",
   "metadata": {},
   "outputs": [
    {
     "data": {
      "text/plain": [
       "runtimeMinutes        1.177446\n",
       "Animation             1.045454\n",
       "Fantasy               1.026554\n",
       "History               1.045171\n",
       "Music                 1.013716\n",
       "Musical               1.017053\n",
       "News                  1.004713\n",
       "SciFi                 1.084462\n",
       "Sport                 1.009134\n",
       "War                   1.020090\n",
       "Western               1.003577\n",
       "budget                1.156961\n",
       "isTopActor            1.236388\n",
       "isTopDirector         1.264086\n",
       "yearsSinceProduced    1.019790\n",
       "numVotes              1.602257\n",
       "averageRating         1.191300\n",
       "dtype: float64"
      ]
     },
     "execution_count": 93,
     "metadata": {},
     "output_type": "execute_result"
    }
   ],
   "source": [
    "# checking VIF of columns of logreg1\n",
    "cols = '''\n",
    "        runtimeMinutes\n",
    "        Animation \n",
    "        Fantasy \n",
    "        History \n",
    "        Music  \n",
    "        Musical \n",
    "        News  \n",
    "        SciFi  \n",
    "        Sport  \n",
    "        War \n",
    "        Western \n",
    "        budget \n",
    "        isTopActor  \n",
    "        isTopDirector  \n",
    "        yearsSinceProduced \n",
    "        numVotes \n",
    "        averageRating\n",
    "                '''.split()\n",
    "VIF(movies_train, cols)"
   ]
  },
  {
   "cell_type": "markdown",
   "id": "d561b3b0",
   "metadata": {},
   "source": [
    "Looks like there is no apparent linear relationship between our independent variables. We can therefore go ahead and remove variables with high p-value from now on to see how the model evolves."
   ]
  },
  {
   "cell_type": "markdown",
   "id": "0ad94209",
   "metadata": {},
   "source": [
    "### Logistic Regression model #2: Removing 'Animation' due to high p-value"
   ]
  },
  {
   "cell_type": "code",
   "execution_count": 94,
   "id": "101a52fe",
   "metadata": {},
   "outputs": [
    {
     "name": "stdout",
     "output_type": "stream",
     "text": [
      "Optimization terminated successfully.\n",
      "         Current function value: 0.576422\n",
      "         Iterations 6\n",
      "                           Logit Regression Results                           \n",
      "==============================================================================\n",
      "Dep. Variable:             profitable   No. Observations:                 5551\n",
      "Model:                          Logit   Df Residuals:                     5536\n",
      "Method:                           MLE   Df Model:                           14\n",
      "Date:                Fri, 03 Dec 2021   Pseudo R-squ.:                 0.04124\n",
      "Time:                        20:44:16   Log-Likelihood:                -3199.7\n",
      "converged:                       True   LL-Null:                       -3337.3\n",
      "Covariance Type:            nonrobust   LLR p-value:                 1.676e-50\n",
      "======================================================================================\n",
      "                         coef    std err          z      P>|z|      [0.025      0.975]\n",
      "--------------------------------------------------------------------------------------\n",
      "Intercept              0.4480      0.170      2.633      0.008       0.115       0.782\n",
      "runtimeMinutes         0.0033      0.001      2.311      0.021       0.001       0.006\n",
      "Fantasy               -0.0376      0.131     -0.287      0.774      -0.295       0.220\n",
      "History               -0.8285      0.173     -4.798      0.000      -1.167      -0.490\n",
      "Music                 -0.1165      0.172     -0.677      0.498      -0.454       0.221\n",
      "Musical               -0.3501      0.301     -1.162      0.245      -0.941       0.240\n",
      "News                   0.5099      0.843      0.605      0.545      -1.142       2.162\n",
      "SciFi                 -0.2187      0.139     -1.571      0.116      -0.492       0.054\n",
      "Sport                 -0.0500      0.215     -0.233      0.816      -0.471       0.370\n",
      "War                   -0.4580      0.236     -1.939      0.053      -0.921       0.005\n",
      "Western               -0.9870      0.443     -2.229      0.026      -1.855      -0.119\n",
      "budget              1.193e-08   9.55e-10     12.488      0.000    1.01e-08    1.38e-08\n",
      "isTopActor            -0.0299      0.101     -0.297      0.766      -0.227       0.167\n",
      "isTopDirector          0.2000      0.105      1.898      0.058      -0.007       0.407\n",
      "yearsSinceProduced    -0.0194      0.007     -2.826      0.005      -0.033      -0.006\n",
      "======================================================================================\n"
     ]
    }
   ],
   "source": [
    "# logreg2: logreg0 - 'Animation'\n",
    "import statsmodels.formula.api as smf\n",
    "\n",
    "# Removed: numVotes, averageRating, Animation\n",
    "logreg2 = smf.logit(formula = ''' profitable ~ \n",
    "                    runtimeMinutes +  \n",
    "                    Fantasy + \n",
    "                    History + \n",
    "                    Music + \n",
    "                    Musical + \n",
    "                    News + \n",
    "                    SciFi + \n",
    "                    Sport + \n",
    "                    War + \n",
    "                    Western +\n",
    "                    budget +\n",
    "                    isTopActor + \n",
    "                    isTopDirector + \n",
    "                    yearsSinceProduced\n",
    "                ''' ,data = movies_train).fit()\n",
    "\n",
    "print(logreg2.summary())"
   ]
  },
  {
   "cell_type": "code",
   "execution_count": 99,
   "id": "cfbf77b7",
   "metadata": {},
   "outputs": [
    {
     "data": {
      "text/plain": [
       "0.7290870488322717"
      ]
     },
     "execution_count": 99,
     "metadata": {},
     "output_type": "execute_result"
    }
   ],
   "source": [
    "y_pred_logreg2 = [1 if pred >= 0.5 else 0 for pred in logreg2.predict(movies_test)]\n",
    "y_actual = movies_test['profitable']\n",
    "\n",
    "accuracy_score(y_pred_logreg2, y_actual)"
   ]
  },
  {
   "cell_type": "markdown",
   "id": "38328ffa",
   "metadata": {},
   "source": [
    "### Logistic Regression model #3: Removing 'Fantasy' due to high p-value"
   ]
  },
  {
   "cell_type": "code",
   "execution_count": 98,
   "id": "4bc725c9",
   "metadata": {},
   "outputs": [
    {
     "name": "stdout",
     "output_type": "stream",
     "text": [
      "Optimization terminated successfully.\n",
      "         Current function value: 0.576430\n",
      "         Iterations 6\n",
      "                           Logit Regression Results                           \n",
      "==============================================================================\n",
      "Dep. Variable:             profitable   No. Observations:                 5551\n",
      "Model:                          Logit   Df Residuals:                     5537\n",
      "Method:                           MLE   Df Model:                           13\n",
      "Date:                Fri, 03 Dec 2021   Pseudo R-squ.:                 0.04123\n",
      "Time:                        20:45:27   Log-Likelihood:                -3199.8\n",
      "converged:                       True   LL-Null:                       -3337.3\n",
      "Covariance Type:            nonrobust   LLR p-value:                 3.704e-51\n",
      "======================================================================================\n",
      "                         coef    std err          z      P>|z|      [0.025      0.975]\n",
      "--------------------------------------------------------------------------------------\n",
      "Intercept              0.4469      0.170      2.628      0.009       0.114       0.780\n",
      "runtimeMinutes         0.0033      0.001      2.308      0.021       0.001       0.006\n",
      "History               -0.8263      0.172     -4.790      0.000      -1.164      -0.488\n",
      "Music                 -0.1145      0.172     -0.666      0.505      -0.451       0.222\n",
      "Musical               -0.3499      0.301     -1.161      0.245      -0.940       0.241\n",
      "News                   0.5115      0.843      0.607      0.544      -1.140       2.163\n",
      "SciFi                 -0.2170      0.139     -1.561      0.119      -0.490       0.056\n",
      "Sport                 -0.0483      0.214     -0.225      0.822      -0.469       0.372\n",
      "War                   -0.4565      0.236     -1.933      0.053      -0.919       0.006\n",
      "Western               -0.9863      0.443     -2.228      0.026      -1.854      -0.119\n",
      "budget              1.191e-08   9.53e-10     12.497      0.000       1e-08    1.38e-08\n",
      "isTopActor            -0.0302      0.101     -0.301      0.764      -0.227       0.167\n",
      "isTopDirector          0.1999      0.105      1.897      0.058      -0.007       0.407\n",
      "yearsSinceProduced    -0.0194      0.007     -2.828      0.005      -0.033      -0.006\n",
      "======================================================================================\n"
     ]
    }
   ],
   "source": [
    "# logreg2: logreg0 - 'Animation'\n",
    "import statsmodels.formula.api as smf\n",
    "\n",
    "# Removed: numVotes, averageRating, Animation, Fantasy\n",
    "logreg3 = smf.logit(formula = ''' profitable ~ \n",
    "                    runtimeMinutes +  \n",
    "                    History + \n",
    "                    Music + \n",
    "                    Musical + \n",
    "                    News + \n",
    "                    SciFi + \n",
    "                    Sport + \n",
    "                    War + \n",
    "                    Western +\n",
    "                    budget +\n",
    "                    isTopActor + \n",
    "                    isTopDirector + \n",
    "                    yearsSinceProduced\n",
    "                ''' ,data = movies_train).fit()\n",
    "\n",
    "print(logreg3.summary())"
   ]
  },
  {
   "cell_type": "code",
   "execution_count": 102,
   "id": "7cdefbeb",
   "metadata": {},
   "outputs": [
    {
     "data": {
      "text/plain": [
       "0.7290870488322717"
      ]
     },
     "execution_count": 102,
     "metadata": {},
     "output_type": "execute_result"
    }
   ],
   "source": [
    "y_pred_logreg3 = [1 if pred >= 0.5 else 0 for pred in logreg3.predict(movies_test)]\n",
    "y_actual = movies_test['profitable']\n",
    "\n",
    "accuracy_score(y_pred_logreg3, y_actual)"
   ]
  },
  {
   "cell_type": "markdown",
   "id": "eaf07983",
   "metadata": {},
   "source": [
    "# CART Tree Classifier\n",
    "\n",
    "A CART model, where:\n",
    "* min_samples leaf is arbitrarly set at 5\n",
    "* all the other settings are left default\n",
    "* ccp_alpha is optimized through k-fold cross validation\n",
    "* k=5 was chosen.\n",
    "* min_samples_split is set at 10"
   ]
  },
  {
   "cell_type": "code",
   "execution_count": 103,
   "id": "8049282d",
   "metadata": {},
   "outputs": [],
   "source": [
    "# we need to split the data between dependent (y) and indepdendent (x)\n",
    "y_train = movies_train['profitable']\n",
    "X_train = movies_train.drop(['profitable'], axis=1)\n",
    "\n",
    "# same thing for the test set\n",
    "y_test = movies_test['profitable']\n",
    "X_test = movies_test.drop(['profitable'], axis=1)"
   ]
  }
 ],
 "metadata": {
  "kernelspec": {
   "display_name": "Python 3 (ipykernel)",
   "language": "python",
   "name": "python3"
  },
  "language_info": {
   "codemirror_mode": {
    "name": "ipython",
    "version": 3
   },
   "file_extension": ".py",
   "mimetype": "text/x-python",
   "name": "python",
   "nbconvert_exporter": "python",
   "pygments_lexer": "ipython3",
   "version": "3.8.6"
  },
  "toc": {
   "base_numbering": 1,
   "nav_menu": {},
   "number_sections": false,
   "sideBar": true,
   "skip_h1_title": false,
   "title_cell": "Table of Contents",
   "title_sidebar": "Contents",
   "toc_cell": false,
   "toc_position": {},
   "toc_section_display": true,
   "toc_window_display": true
  }
 },
 "nbformat": 4,
 "nbformat_minor": 5
}
