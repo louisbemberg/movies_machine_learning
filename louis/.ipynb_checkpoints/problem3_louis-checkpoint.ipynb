{
 "cells": [
  {
   "cell_type": "markdown",
   "id": "b71b45c0",
   "metadata": {},
   "source": [
    "# Problem 3: Predict whether a movie will be profitable or not\n",
    "\n",
    "While predicting the exact amount of revenue that a movie will make certainly is interesting, it is also very valuable for a movie-making company to evaluate whether it will be profitable or not, as it could help movie makers make the ultimate decision to pursue a certain movie or not.\n"
   ]
  },
  {
   "cell_type": "code",
   "execution_count": 1,
   "id": "f9b37834",
   "metadata": {},
   "outputs": [],
   "source": [
    "# Loading necessary packages\n",
    "import os\n",
    "import pandas as pd\n",
    "import numpy as np\n",
    "import matplotlib.pyplot as plt"
   ]
  },
  {
   "cell_type": "code",
   "execution_count": 2,
   "id": "0c48fcbe",
   "metadata": {},
   "outputs": [
    {
     "data": {
      "text/html": [
       "<div>\n",
       "<style scoped>\n",
       "    .dataframe tbody tr th:only-of-type {\n",
       "        vertical-align: middle;\n",
       "    }\n",
       "\n",
       "    .dataframe tbody tr th {\n",
       "        vertical-align: top;\n",
       "    }\n",
       "\n",
       "    .dataframe thead th {\n",
       "        text-align: right;\n",
       "    }\n",
       "</style>\n",
       "<table border=\"1\" class=\"dataframe\">\n",
       "  <thead>\n",
       "    <tr style=\"text-align: right;\">\n",
       "      <th></th>\n",
       "      <th>tconst</th>\n",
       "      <th>primaryTitle</th>\n",
       "      <th>originalTitle</th>\n",
       "      <th>startYear</th>\n",
       "      <th>runtimeMinutes</th>\n",
       "      <th>Animation</th>\n",
       "      <th>Fantasy</th>\n",
       "      <th>GameShow</th>\n",
       "      <th>History</th>\n",
       "      <th>Music</th>\n",
       "      <th>...</th>\n",
       "      <th>Sport</th>\n",
       "      <th>War</th>\n",
       "      <th>Western</th>\n",
       "      <th>averageRating</th>\n",
       "      <th>numVotes</th>\n",
       "      <th>budget</th>\n",
       "      <th>revenue</th>\n",
       "      <th>isTopActor</th>\n",
       "      <th>isTopDirector</th>\n",
       "      <th>yearsSinceProduced</th>\n",
       "    </tr>\n",
       "  </thead>\n",
       "  <tbody>\n",
       "    <tr>\n",
       "      <th>0</th>\n",
       "      <td>tt0035423</td>\n",
       "      <td>Kate &amp; Leopold</td>\n",
       "      <td>Kate &amp; Leopold</td>\n",
       "      <td>2001</td>\n",
       "      <td>118</td>\n",
       "      <td>0</td>\n",
       "      <td>1</td>\n",
       "      <td>0</td>\n",
       "      <td>0</td>\n",
       "      <td>0</td>\n",
       "      <td>...</td>\n",
       "      <td>0</td>\n",
       "      <td>0</td>\n",
       "      <td>0</td>\n",
       "      <td>6.4</td>\n",
       "      <td>81936.0</td>\n",
       "      <td>48000000</td>\n",
       "      <td>76019048</td>\n",
       "      <td>1</td>\n",
       "      <td>1</td>\n",
       "      <td>20</td>\n",
       "    </tr>\n",
       "    <tr>\n",
       "      <th>1</th>\n",
       "      <td>tt0116391</td>\n",
       "      <td>Gang</td>\n",
       "      <td>Gang</td>\n",
       "      <td>2000</td>\n",
       "      <td>152</td>\n",
       "      <td>0</td>\n",
       "      <td>0</td>\n",
       "      <td>0</td>\n",
       "      <td>0</td>\n",
       "      <td>0</td>\n",
       "      <td>...</td>\n",
       "      <td>0</td>\n",
       "      <td>0</td>\n",
       "      <td>0</td>\n",
       "      <td>6.2</td>\n",
       "      <td>236.0</td>\n",
       "      <td>30000000</td>\n",
       "      <td>41480851</td>\n",
       "      <td>0</td>\n",
       "      <td>0</td>\n",
       "      <td>21</td>\n",
       "    </tr>\n",
       "    <tr>\n",
       "      <th>2</th>\n",
       "      <td>tt0118589</td>\n",
       "      <td>Glitter</td>\n",
       "      <td>Glitter</td>\n",
       "      <td>2001</td>\n",
       "      <td>104</td>\n",
       "      <td>0</td>\n",
       "      <td>0</td>\n",
       "      <td>0</td>\n",
       "      <td>0</td>\n",
       "      <td>1</td>\n",
       "      <td>...</td>\n",
       "      <td>0</td>\n",
       "      <td>0</td>\n",
       "      <td>0</td>\n",
       "      <td>2.3</td>\n",
       "      <td>23292.0</td>\n",
       "      <td>22000000</td>\n",
       "      <td>5271666</td>\n",
       "      <td>0</td>\n",
       "      <td>0</td>\n",
       "      <td>20</td>\n",
       "    </tr>\n",
       "  </tbody>\n",
       "</table>\n",
       "<p>3 rows × 23 columns</p>\n",
       "</div>"
      ],
      "text/plain": [
       "      tconst    primaryTitle   originalTitle  startYear  runtimeMinutes  \\\n",
       "0  tt0035423  Kate & Leopold  Kate & Leopold       2001             118   \n",
       "1  tt0116391            Gang            Gang       2000             152   \n",
       "2  tt0118589         Glitter         Glitter       2001             104   \n",
       "\n",
       "   Animation  Fantasy  GameShow  History  Music  ...  Sport  War  Western  \\\n",
       "0          0        1         0        0      0  ...      0    0        0   \n",
       "1          0        0         0        0      0  ...      0    0        0   \n",
       "2          0        0         0        0      1  ...      0    0        0   \n",
       "\n",
       "   averageRating  numVotes    budget   revenue  isTopActor  isTopDirector  \\\n",
       "0            6.4   81936.0  48000000  76019048           1              1   \n",
       "1            6.2     236.0  30000000  41480851           0              0   \n",
       "2            2.3   23292.0  22000000   5271666           0              0   \n",
       "\n",
       "   yearsSinceProduced  \n",
       "0                  20  \n",
       "1                  21  \n",
       "2                  20  \n",
       "\n",
       "[3 rows x 23 columns]"
      ]
     },
     "execution_count": 2,
     "metadata": {},
     "output_type": "execute_result"
    }
   ],
   "source": [
    "# Loading the training & testing set\n",
    "# Remember, this has been previously randomly split\n",
    "# The training data contains approx 70% of observations\n",
    "\n",
    "movies_train = pd.read_csv('../00_DATA/train_dataset.csv')\n",
    "movies_test = pd.read_csv('../00_DATA/test_dataset.csv')\n",
    "\n",
    "movies_train.head(3)"
   ]
  },
  {
   "cell_type": "markdown",
   "id": "0c844122",
   "metadata": {},
   "source": [
    "# Creating the dependent Variable\n",
    "\n",
    "As of now, the variable of interest is continuous. That is, the column \"revenue\" contains an amount of dollars of total box office revenue achieved by the movie in question. However, in this section we're only interested in predicted whether 'revenue' is larger than or equal to 'budget'. We create then a new column 'profitable':"
   ]
  },
  {
   "cell_type": "code",
   "execution_count": 3,
   "id": "fbcd59bf",
   "metadata": {},
   "outputs": [],
   "source": [
    "movies_train['profitable'] = np.where(movies_train['revenue'] >= movies_train['budget'], 1, 0)\n",
    "movies_test['profitable'] = np.where(movies_test['revenue'] >= movies_test['budget'], 1, 0)\n"
   ]
  },
  {
   "cell_type": "code",
   "execution_count": 4,
   "id": "395996b9",
   "metadata": {},
   "outputs": [
    {
     "data": {
      "text/html": [
       "<div>\n",
       "<style scoped>\n",
       "    .dataframe tbody tr th:only-of-type {\n",
       "        vertical-align: middle;\n",
       "    }\n",
       "\n",
       "    .dataframe tbody tr th {\n",
       "        vertical-align: top;\n",
       "    }\n",
       "\n",
       "    .dataframe thead th {\n",
       "        text-align: right;\n",
       "    }\n",
       "</style>\n",
       "<table border=\"1\" class=\"dataframe\">\n",
       "  <thead>\n",
       "    <tr style=\"text-align: right;\">\n",
       "      <th></th>\n",
       "      <th>tconst</th>\n",
       "      <th>primaryTitle</th>\n",
       "      <th>originalTitle</th>\n",
       "      <th>startYear</th>\n",
       "      <th>runtimeMinutes</th>\n",
       "      <th>Animation</th>\n",
       "      <th>Fantasy</th>\n",
       "      <th>GameShow</th>\n",
       "      <th>History</th>\n",
       "      <th>Music</th>\n",
       "      <th>...</th>\n",
       "      <th>War</th>\n",
       "      <th>Western</th>\n",
       "      <th>averageRating</th>\n",
       "      <th>numVotes</th>\n",
       "      <th>budget</th>\n",
       "      <th>revenue</th>\n",
       "      <th>isTopActor</th>\n",
       "      <th>isTopDirector</th>\n",
       "      <th>yearsSinceProduced</th>\n",
       "      <th>profitable</th>\n",
       "    </tr>\n",
       "  </thead>\n",
       "  <tbody>\n",
       "    <tr>\n",
       "      <th>0</th>\n",
       "      <td>tt0035423</td>\n",
       "      <td>Kate &amp; Leopold</td>\n",
       "      <td>Kate &amp; Leopold</td>\n",
       "      <td>2001</td>\n",
       "      <td>118</td>\n",
       "      <td>0</td>\n",
       "      <td>1</td>\n",
       "      <td>0</td>\n",
       "      <td>0</td>\n",
       "      <td>0</td>\n",
       "      <td>...</td>\n",
       "      <td>0</td>\n",
       "      <td>0</td>\n",
       "      <td>6.4</td>\n",
       "      <td>81936.0</td>\n",
       "      <td>48000000</td>\n",
       "      <td>76019048</td>\n",
       "      <td>1</td>\n",
       "      <td>1</td>\n",
       "      <td>20</td>\n",
       "      <td>1</td>\n",
       "    </tr>\n",
       "    <tr>\n",
       "      <th>1</th>\n",
       "      <td>tt0116391</td>\n",
       "      <td>Gang</td>\n",
       "      <td>Gang</td>\n",
       "      <td>2000</td>\n",
       "      <td>152</td>\n",
       "      <td>0</td>\n",
       "      <td>0</td>\n",
       "      <td>0</td>\n",
       "      <td>0</td>\n",
       "      <td>0</td>\n",
       "      <td>...</td>\n",
       "      <td>0</td>\n",
       "      <td>0</td>\n",
       "      <td>6.2</td>\n",
       "      <td>236.0</td>\n",
       "      <td>30000000</td>\n",
       "      <td>41480851</td>\n",
       "      <td>0</td>\n",
       "      <td>0</td>\n",
       "      <td>21</td>\n",
       "      <td>1</td>\n",
       "    </tr>\n",
       "    <tr>\n",
       "      <th>2</th>\n",
       "      <td>tt0118589</td>\n",
       "      <td>Glitter</td>\n",
       "      <td>Glitter</td>\n",
       "      <td>2001</td>\n",
       "      <td>104</td>\n",
       "      <td>0</td>\n",
       "      <td>0</td>\n",
       "      <td>0</td>\n",
       "      <td>0</td>\n",
       "      <td>1</td>\n",
       "      <td>...</td>\n",
       "      <td>0</td>\n",
       "      <td>0</td>\n",
       "      <td>2.3</td>\n",
       "      <td>23292.0</td>\n",
       "      <td>22000000</td>\n",
       "      <td>5271666</td>\n",
       "      <td>0</td>\n",
       "      <td>0</td>\n",
       "      <td>20</td>\n",
       "      <td>0</td>\n",
       "    </tr>\n",
       "    <tr>\n",
       "      <th>3</th>\n",
       "      <td>tt0120166</td>\n",
       "      <td>The Sorcerer's Apprentice</td>\n",
       "      <td>The Sorcerer's Apprentice</td>\n",
       "      <td>2001</td>\n",
       "      <td>86</td>\n",
       "      <td>0</td>\n",
       "      <td>1</td>\n",
       "      <td>0</td>\n",
       "      <td>0</td>\n",
       "      <td>0</td>\n",
       "      <td>...</td>\n",
       "      <td>0</td>\n",
       "      <td>0</td>\n",
       "      <td>4.5</td>\n",
       "      <td>565.0</td>\n",
       "      <td>150000000</td>\n",
       "      <td>215283742</td>\n",
       "      <td>0</td>\n",
       "      <td>0</td>\n",
       "      <td>20</td>\n",
       "      <td>1</td>\n",
       "    </tr>\n",
       "    <tr>\n",
       "      <th>4</th>\n",
       "      <td>tt0120467</td>\n",
       "      <td>Vulgar</td>\n",
       "      <td>Vulgar</td>\n",
       "      <td>2000</td>\n",
       "      <td>87</td>\n",
       "      <td>0</td>\n",
       "      <td>0</td>\n",
       "      <td>0</td>\n",
       "      <td>0</td>\n",
       "      <td>0</td>\n",
       "      <td>...</td>\n",
       "      <td>0</td>\n",
       "      <td>0</td>\n",
       "      <td>5.2</td>\n",
       "      <td>4078.0</td>\n",
       "      <td>120000</td>\n",
       "      <td>14904</td>\n",
       "      <td>0</td>\n",
       "      <td>0</td>\n",
       "      <td>21</td>\n",
       "      <td>0</td>\n",
       "    </tr>\n",
       "  </tbody>\n",
       "</table>\n",
       "<p>5 rows × 24 columns</p>\n",
       "</div>"
      ],
      "text/plain": [
       "      tconst               primaryTitle              originalTitle  startYear  \\\n",
       "0  tt0035423             Kate & Leopold             Kate & Leopold       2001   \n",
       "1  tt0116391                       Gang                       Gang       2000   \n",
       "2  tt0118589                    Glitter                    Glitter       2001   \n",
       "3  tt0120166  The Sorcerer's Apprentice  The Sorcerer's Apprentice       2001   \n",
       "4  tt0120467                     Vulgar                     Vulgar       2000   \n",
       "\n",
       "   runtimeMinutes  Animation  Fantasy  GameShow  History  Music  ...  War  \\\n",
       "0             118          0        1         0        0      0  ...    0   \n",
       "1             152          0        0         0        0      0  ...    0   \n",
       "2             104          0        0         0        0      1  ...    0   \n",
       "3              86          0        1         0        0      0  ...    0   \n",
       "4              87          0        0         0        0      0  ...    0   \n",
       "\n",
       "   Western  averageRating  numVotes     budget    revenue  isTopActor  \\\n",
       "0        0            6.4   81936.0   48000000   76019048           1   \n",
       "1        0            6.2     236.0   30000000   41480851           0   \n",
       "2        0            2.3   23292.0   22000000    5271666           0   \n",
       "3        0            4.5     565.0  150000000  215283742           0   \n",
       "4        0            5.2    4078.0     120000      14904           0   \n",
       "\n",
       "   isTopDirector  yearsSinceProduced  profitable  \n",
       "0              1                  20           1  \n",
       "1              0                  21           1  \n",
       "2              0                  20           0  \n",
       "3              0                  20           1  \n",
       "4              0                  21           0  \n",
       "\n",
       "[5 rows x 24 columns]"
      ]
     },
     "execution_count": 4,
     "metadata": {},
     "output_type": "execute_result"
    }
   ],
   "source": [
    "movies_train.head(5)"
   ]
  },
  {
   "cell_type": "code",
   "execution_count": 5,
   "id": "35f6cc1b",
   "metadata": {},
   "outputs": [
    {
     "data": {
      "text/html": [
       "<div>\n",
       "<style scoped>\n",
       "    .dataframe tbody tr th:only-of-type {\n",
       "        vertical-align: middle;\n",
       "    }\n",
       "\n",
       "    .dataframe tbody tr th {\n",
       "        vertical-align: top;\n",
       "    }\n",
       "\n",
       "    .dataframe thead th {\n",
       "        text-align: right;\n",
       "    }\n",
       "</style>\n",
       "<table border=\"1\" class=\"dataframe\">\n",
       "  <thead>\n",
       "    <tr style=\"text-align: right;\">\n",
       "      <th></th>\n",
       "      <th>tconst</th>\n",
       "      <th>primaryTitle</th>\n",
       "      <th>originalTitle</th>\n",
       "      <th>startYear</th>\n",
       "      <th>runtimeMinutes</th>\n",
       "      <th>Animation</th>\n",
       "      <th>Fantasy</th>\n",
       "      <th>GameShow</th>\n",
       "      <th>History</th>\n",
       "      <th>Music</th>\n",
       "      <th>...</th>\n",
       "      <th>War</th>\n",
       "      <th>Western</th>\n",
       "      <th>averageRating</th>\n",
       "      <th>numVotes</th>\n",
       "      <th>budget</th>\n",
       "      <th>revenue</th>\n",
       "      <th>isTopActor</th>\n",
       "      <th>isTopDirector</th>\n",
       "      <th>yearsSinceProduced</th>\n",
       "      <th>profitable</th>\n",
       "    </tr>\n",
       "  </thead>\n",
       "  <tbody>\n",
       "    <tr>\n",
       "      <th>0</th>\n",
       "      <td>tt0293429</td>\n",
       "      <td>Mortal Kombat</td>\n",
       "      <td>Mortal Kombat</td>\n",
       "      <td>2021</td>\n",
       "      <td>110</td>\n",
       "      <td>0</td>\n",
       "      <td>1</td>\n",
       "      <td>0</td>\n",
       "      <td>0</td>\n",
       "      <td>0</td>\n",
       "      <td>...</td>\n",
       "      <td>0</td>\n",
       "      <td>0</td>\n",
       "      <td>6.1</td>\n",
       "      <td>150542.0</td>\n",
       "      <td>20000000</td>\n",
       "      <td>83601013</td>\n",
       "      <td>0</td>\n",
       "      <td>0</td>\n",
       "      <td>0</td>\n",
       "      <td>1</td>\n",
       "    </tr>\n",
       "    <tr>\n",
       "      <th>1</th>\n",
       "      <td>tt0315642</td>\n",
       "      <td>Wazir</td>\n",
       "      <td>Wazir</td>\n",
       "      <td>2016</td>\n",
       "      <td>103</td>\n",
       "      <td>0</td>\n",
       "      <td>0</td>\n",
       "      <td>0</td>\n",
       "      <td>0</td>\n",
       "      <td>0</td>\n",
       "      <td>...</td>\n",
       "      <td>0</td>\n",
       "      <td>0</td>\n",
       "      <td>7.2</td>\n",
       "      <td>18426.0</td>\n",
       "      <td>5200000</td>\n",
       "      <td>9200000</td>\n",
       "      <td>0</td>\n",
       "      <td>1</td>\n",
       "      <td>5</td>\n",
       "      <td>1</td>\n",
       "    </tr>\n",
       "    <tr>\n",
       "      <th>2</th>\n",
       "      <td>tt0385887</td>\n",
       "      <td>Motherless Brooklyn</td>\n",
       "      <td>Motherless Brooklyn</td>\n",
       "      <td>2019</td>\n",
       "      <td>144</td>\n",
       "      <td>0</td>\n",
       "      <td>0</td>\n",
       "      <td>0</td>\n",
       "      <td>0</td>\n",
       "      <td>0</td>\n",
       "      <td>...</td>\n",
       "      <td>0</td>\n",
       "      <td>0</td>\n",
       "      <td>6.8</td>\n",
       "      <td>51825.0</td>\n",
       "      <td>26000000</td>\n",
       "      <td>18377736</td>\n",
       "      <td>1</td>\n",
       "      <td>1</td>\n",
       "      <td>2</td>\n",
       "      <td>0</td>\n",
       "    </tr>\n",
       "    <tr>\n",
       "      <th>3</th>\n",
       "      <td>tt0437086</td>\n",
       "      <td>Alita: Battle Angel</td>\n",
       "      <td>Alita: Battle Angel</td>\n",
       "      <td>2019</td>\n",
       "      <td>122</td>\n",
       "      <td>0</td>\n",
       "      <td>0</td>\n",
       "      <td>0</td>\n",
       "      <td>0</td>\n",
       "      <td>0</td>\n",
       "      <td>...</td>\n",
       "      <td>0</td>\n",
       "      <td>0</td>\n",
       "      <td>7.3</td>\n",
       "      <td>249934.0</td>\n",
       "      <td>170000000</td>\n",
       "      <td>404852543</td>\n",
       "      <td>1</td>\n",
       "      <td>1</td>\n",
       "      <td>2</td>\n",
       "      <td>1</td>\n",
       "    </tr>\n",
       "    <tr>\n",
       "      <th>4</th>\n",
       "      <td>tt0441881</td>\n",
       "      <td>Danger Close</td>\n",
       "      <td>Danger Close: The Battle of Long Tan</td>\n",
       "      <td>2019</td>\n",
       "      <td>118</td>\n",
       "      <td>0</td>\n",
       "      <td>0</td>\n",
       "      <td>0</td>\n",
       "      <td>0</td>\n",
       "      <td>0</td>\n",
       "      <td>...</td>\n",
       "      <td>1</td>\n",
       "      <td>0</td>\n",
       "      <td>6.8</td>\n",
       "      <td>11395.0</td>\n",
       "      <td>23934823</td>\n",
       "      <td>2078370</td>\n",
       "      <td>1</td>\n",
       "      <td>0</td>\n",
       "      <td>2</td>\n",
       "      <td>0</td>\n",
       "    </tr>\n",
       "  </tbody>\n",
       "</table>\n",
       "<p>5 rows × 24 columns</p>\n",
       "</div>"
      ],
      "text/plain": [
       "      tconst         primaryTitle                         originalTitle  \\\n",
       "0  tt0293429        Mortal Kombat                         Mortal Kombat   \n",
       "1  tt0315642                Wazir                                 Wazir   \n",
       "2  tt0385887  Motherless Brooklyn                   Motherless Brooklyn   \n",
       "3  tt0437086  Alita: Battle Angel                   Alita: Battle Angel   \n",
       "4  tt0441881         Danger Close  Danger Close: The Battle of Long Tan   \n",
       "\n",
       "   startYear  runtimeMinutes  Animation  Fantasy  GameShow  History  Music  \\\n",
       "0       2021             110          0        1         0        0      0   \n",
       "1       2016             103          0        0         0        0      0   \n",
       "2       2019             144          0        0         0        0      0   \n",
       "3       2019             122          0        0         0        0      0   \n",
       "4       2019             118          0        0         0        0      0   \n",
       "\n",
       "   ...  War  Western  averageRating  numVotes     budget    revenue  \\\n",
       "0  ...    0        0            6.1  150542.0   20000000   83601013   \n",
       "1  ...    0        0            7.2   18426.0    5200000    9200000   \n",
       "2  ...    0        0            6.8   51825.0   26000000   18377736   \n",
       "3  ...    0        0            7.3  249934.0  170000000  404852543   \n",
       "4  ...    1        0            6.8   11395.0   23934823    2078370   \n",
       "\n",
       "   isTopActor  isTopDirector  yearsSinceProduced  profitable  \n",
       "0           0              0                   0           1  \n",
       "1           0              1                   5           1  \n",
       "2           1              1                   2           0  \n",
       "3           1              1                   2           1  \n",
       "4           1              0                   2           0  \n",
       "\n",
       "[5 rows x 24 columns]"
      ]
     },
     "execution_count": 5,
     "metadata": {},
     "output_type": "execute_result"
    }
   ],
   "source": [
    "movies_test.head(5)"
   ]
  },
  {
   "cell_type": "markdown",
   "id": "85834abb",
   "metadata": {},
   "source": [
    "# Model Generation\n",
    "\n",
    "In this section,  we'll generate classifying models that predict whether a movie is profitable or not given its features. The models we will generate are the following:\n",
    "\n",
    "* baseline\n",
    "* Logistic Regression\n",
    "* CART\n",
    "* Vanilla Bagging\n",
    "* Random Forest\n",
    "* Gradient Boosting\n",
    "\n",
    "We will then evaluate our performance metric of choice, **accuracy**, for each model."
   ]
  },
  {
   "cell_type": "code",
   "execution_count": 6,
   "id": "0f318af6",
   "metadata": {},
   "outputs": [],
   "source": [
    "from sklearn.metrics import confusion_matrix \n",
    "from sklearn.metrics import accuracy_score"
   ]
  },
  {
   "cell_type": "code",
   "execution_count": 7,
   "id": "c9fb59a8",
   "metadata": {},
   "outputs": [],
   "source": [
    "# defining my own metrics functions to use for later\n",
    "def tpr_score(y_test, y_pred):\n",
    "    cm = confusion_matrix(y_test, y_pred).ravel()\n",
    "    return (cm[3]) / (cm[3] + cm[2])\n",
    "    \n",
    "def fpr_score(y_test, y_pred):\n",
    "    cm = confusion_matrix(y_test, y_pred).ravel()\n",
    "    return (cm[1]) / (cm[1] + cm[0])"
   ]
  },
  {
   "cell_type": "markdown",
   "id": "d73e8ce7",
   "metadata": {},
   "source": [
    "## Baseline Model\n",
    "\n",
    "Let us first build a baseline model that we'll use as \"strict minimum\" to assess the performance of the next models. A baseline model simply predicts whatever happens most frequently in the training set. Let us inspect:"
   ]
  },
  {
   "cell_type": "code",
   "execution_count": 8,
   "id": "25216238",
   "metadata": {},
   "outputs": [
    {
     "data": {
      "text/plain": [
       "1    3946\n",
       "0    1604\n",
       "Name: profitable, dtype: int64"
      ]
     },
     "execution_count": 8,
     "metadata": {},
     "output_type": "execute_result"
    }
   ],
   "source": [
    "# Which value. of \"profitable\" happens most frequently on the training set?\n",
    "movies_train['profitable'].value_counts()"
   ]
  },
  {
   "cell_type": "markdown",
   "id": "c43988e8",
   "metadata": {},
   "source": [
    "There are more profitable movies than non-profitable. Therefore, our baseline model will always predict profitable = 1."
   ]
  },
  {
   "cell_type": "code",
   "execution_count": 9,
   "id": "a2febccd",
   "metadata": {},
   "outputs": [],
   "source": [
    "baseline_y_pred = [1 for pred in movies_test['profitable']]\n",
    "y_actual = movies_test['profitable']"
   ]
  },
  {
   "cell_type": "code",
   "execution_count": 10,
   "id": "2a223fcc",
   "metadata": {},
   "outputs": [
    {
     "name": "stdout",
     "output_type": "stream",
     "text": [
      "Confusion Matrix of the Baseline Model [   0  633    0 1720]\n",
      "Accuracy of the baseline model: 0.7309817254568636\n"
     ]
    }
   ],
   "source": [
    "# CM and performance metrics of the baseline model\n",
    "\n",
    "baseline_cm = confusion_matrix(y_actual, baseline_y_pred).ravel()\n",
    "baseline_accuracy = accuracy_score(y_actual, baseline_y_pred)\n",
    "\n",
    "print(\"Confusion Matrix of the Baseline Model\", baseline_cm)\n",
    "print(\"Accuracy of the baseline model:\", baseline_accuracy)"
   ]
  },
  {
   "cell_type": "markdown",
   "id": "5ceaa541",
   "metadata": {},
   "source": [
    "# Logistic Regression"
   ]
  },
  {
   "cell_type": "markdown",
   "id": "def5e67e",
   "metadata": {},
   "source": [
    "### Ignored irrelevant columns:\n",
    "\n",
    "Before we even begin modelling, some columns must be removed/Ignored as they are not relevant for this study:\n",
    "- tconst is just a database ID and carries no relevance\n",
    "- primaryTitle and originalTitle are not relevant, as we chose not to do NLP on titles for this portion of the project\n",
    "- startYear, as we used it to obtain yearsSinceProduces\n",
    "- **important** numVotes and averageRating: We assume in this study that ratings are gathered AFTER the revenue is obtained. Therefore it may not be relevant for companies willing to determine profitability BEFORE movies are released.\n",
    "- revenue: As it was used to create the dependent variable, we cannot use it to predict profitability"
   ]
  },
  {
   "cell_type": "code",
   "execution_count": 11,
   "id": "02be75ae",
   "metadata": {},
   "outputs": [
    {
     "name": "stdout",
     "output_type": "stream",
     "text": [
      "<class 'pandas.core.frame.DataFrame'>\n",
      "RangeIndex: 5550 entries, 0 to 5549\n",
      "Data columns (total 24 columns):\n",
      " #   Column              Non-Null Count  Dtype  \n",
      "---  ------              --------------  -----  \n",
      " 0   tconst              5550 non-null   object \n",
      " 1   primaryTitle        5550 non-null   object \n",
      " 2   originalTitle       5550 non-null   object \n",
      " 3   startYear           5550 non-null   int64  \n",
      " 4   runtimeMinutes      5550 non-null   int64  \n",
      " 5   Animation           5550 non-null   int64  \n",
      " 6   Fantasy             5550 non-null   int64  \n",
      " 7   GameShow            5550 non-null   int64  \n",
      " 8   History             5550 non-null   int64  \n",
      " 9   Music               5550 non-null   int64  \n",
      " 10  Musical             5550 non-null   int64  \n",
      " 11  News                5550 non-null   int64  \n",
      " 12  SciFi               5550 non-null   int64  \n",
      " 13  Sport               5550 non-null   int64  \n",
      " 14  War                 5550 non-null   int64  \n",
      " 15  Western             5550 non-null   int64  \n",
      " 16  averageRating       5550 non-null   float64\n",
      " 17  numVotes            5550 non-null   float64\n",
      " 18  budget              5550 non-null   int64  \n",
      " 19  revenue             5550 non-null   int64  \n",
      " 20  isTopActor          5550 non-null   int64  \n",
      " 21  isTopDirector       5550 non-null   int64  \n",
      " 22  yearsSinceProduced  5550 non-null   int64  \n",
      " 23  profitable          5550 non-null   int64  \n",
      "dtypes: float64(2), int64(19), object(3)\n",
      "memory usage: 1.0+ MB\n"
     ]
    }
   ],
   "source": [
    "movies_train.info()"
   ]
  },
  {
   "cell_type": "code",
   "execution_count": 12,
   "id": "0d1b4bc4",
   "metadata": {},
   "outputs": [
    {
     "data": {
      "text/plain": [
       "'profitable ~ tconst + primaryTitle + originalTitle + startYear + runtimeMinutes + Animation + Fantasy + GameShow + History + Music + Musical + News + SciFi + Sport + War + Western + averageRating + numVotes + budget + revenue + isTopActor + isTopDirector + yearsSinceProduced'"
      ]
     },
     "execution_count": 12,
     "metadata": {},
     "output_type": "execute_result"
    }
   ],
   "source": [
    "# function that writes the formula for us, if needed\n",
    "def formula_for_logreg(df, y, cols_to_remove=[]):\n",
    "    return y + ' ~ ' + ' + '.join(df.columns.drop([y] + cols_to_remove))\n",
    "\n",
    "formula_for_logreg(movies_train, 'profitable', [])"
   ]
  },
  {
   "cell_type": "markdown",
   "id": "7d4b90a1",
   "metadata": {},
   "source": [
    "### Logistic Regression model #0 "
   ]
  },
  {
   "cell_type": "code",
   "execution_count": 13,
   "id": "3813a950",
   "metadata": {},
   "outputs": [
    {
     "name": "stdout",
     "output_type": "stream",
     "text": [
      "Optimization terminated successfully.\n",
      "         Current function value: 0.573974\n",
      "         Iterations 6\n",
      "                           Logit Regression Results                           \n",
      "==============================================================================\n",
      "Dep. Variable:             profitable   No. Observations:                 5550\n",
      "Model:                          Logit   Df Residuals:                     5534\n",
      "Method:                           MLE   Df Model:                           15\n",
      "Date:                Sat, 04 Dec 2021   Pseudo R-squ.:                 0.04538\n",
      "Time:                        15:02:55   Log-Likelihood:                -3185.6\n",
      "converged:                       True   LL-Null:                       -3337.0\n",
      "Covariance Type:            nonrobust   LLR p-value:                 1.396e-55\n",
      "======================================================================================\n",
      "                         coef    std err          z      P>|z|      [0.025      0.975]\n",
      "--------------------------------------------------------------------------------------\n",
      "Intercept              0.4530      0.177      2.564      0.010       0.107       0.799\n",
      "runtimeMinutes         0.0042      0.002      2.704      0.007       0.001       0.007\n",
      "Animation              0.0514      0.164      0.313      0.754      -0.271       0.374\n",
      "Fantasy                0.0044      0.132      0.033      0.973      -0.254       0.263\n",
      "History               -0.8082      0.173     -4.669      0.000      -1.147      -0.469\n",
      "Music                 -0.0834      0.173     -0.483      0.629      -0.422       0.255\n",
      "Musical               -0.4162      0.302     -1.378      0.168      -1.008       0.176\n",
      "News                   0.4194      0.839      0.500      0.617      -1.225       2.064\n",
      "SciFi                 -0.1835      0.140     -1.313      0.189      -0.458       0.090\n",
      "Sport                 -0.0367      0.215     -0.171      0.865      -0.459       0.385\n",
      "War                   -0.4799      0.238     -2.017      0.044      -0.946      -0.014\n",
      "Western               -0.9895      0.440     -2.247      0.025      -1.853      -0.126\n",
      "budget              1.236e-08   9.72e-10     12.715      0.000    1.05e-08    1.43e-08\n",
      "isTopActor            -0.3906      0.071     -5.510      0.000      -0.529      -0.252\n",
      "isTopDirector          0.2384      0.075      3.197      0.001       0.092       0.385\n",
      "yearsSinceProduced    -0.0158      0.007     -2.287      0.022      -0.029      -0.002\n",
      "======================================================================================\n"
     ]
    }
   ],
   "source": [
    "# logreg0: All relevant features except numVotes and averageRating\n",
    "import statsmodels.formula.api as smf\n",
    "\n",
    "# Removed: numVotes, averageRating\n",
    "logreg0 = smf.logit(formula = ''' profitable ~ \n",
    "                    runtimeMinutes +  \n",
    "                    Animation + \n",
    "                    Fantasy + \n",
    "                    History + \n",
    "                    Music + \n",
    "                    Musical + \n",
    "                    News + \n",
    "                    SciFi + \n",
    "                    Sport + \n",
    "                    War + \n",
    "                    Western +\n",
    "                    budget +\n",
    "                    isTopActor + \n",
    "                    isTopDirector + \n",
    "                    yearsSinceProduced\n",
    "                ''' ,data = movies_train).fit()\n",
    "\n",
    "print(logreg0.summary())"
   ]
  },
  {
   "cell_type": "code",
   "execution_count": 14,
   "id": "2d38e78c",
   "metadata": {},
   "outputs": [
    {
     "data": {
      "text/plain": [
       "0.7292817679558011"
      ]
     },
     "execution_count": 14,
     "metadata": {},
     "output_type": "execute_result"
    }
   ],
   "source": [
    "y_pred_logreg0 = [1 if pred >= 0.5 else 0 for pred in logreg0.predict(movies_test)]\n",
    "y_actual = movies_test['profitable']\n",
    "\n",
    "accuracy_score(y_pred_logreg0, y_actual)"
   ]
  },
  {
   "cell_type": "code",
   "execution_count": 15,
   "id": "7cf2b8d2",
   "metadata": {},
   "outputs": [
    {
     "name": "stdout",
     "output_type": "stream",
     "text": [
      "Confusion Matrix of Logistic Regression : \n",
      " [   8  625   12 1708]\n"
     ]
    }
   ],
   "source": [
    "cm_logreg0 = confusion_matrix(y_actual, y_pred_logreg0).ravel()\n",
    "\n",
    "print (\"Confusion Matrix of Logistic Regression : \\n\", cm_logreg0)"
   ]
  },
  {
   "cell_type": "markdown",
   "id": "c42b9f25",
   "metadata": {},
   "source": [
    "### Logistic Regression model #1: Trying to include voting data"
   ]
  },
  {
   "cell_type": "code",
   "execution_count": 16,
   "id": "778234fd",
   "metadata": {},
   "outputs": [
    {
     "name": "stdout",
     "output_type": "stream",
     "text": [
      "Optimization terminated successfully.\n",
      "         Current function value: 0.528663\n",
      "         Iterations 8\n",
      "                           Logit Regression Results                           \n",
      "==============================================================================\n",
      "Dep. Variable:             profitable   No. Observations:                 5550\n",
      "Model:                          Logit   Df Residuals:                     5532\n",
      "Method:                           MLE   Df Model:                           17\n",
      "Date:                Sat, 04 Dec 2021   Pseudo R-squ.:                  0.1207\n",
      "Time:                        15:02:55   Log-Likelihood:                -2934.1\n",
      "converged:                       True   LL-Null:                       -3337.0\n",
      "Covariance Type:            nonrobust   LLR p-value:                2.590e-160\n",
      "======================================================================================\n",
      "                         coef    std err          z      P>|z|      [0.025      0.975]\n",
      "--------------------------------------------------------------------------------------\n",
      "Intercept              0.6996      0.233      3.002      0.003       0.243       1.156\n",
      "runtimeMinutes         0.0002      0.001      0.122      0.903      -0.003       0.003\n",
      "Animation             -0.0874      0.172     -0.508      0.611      -0.425       0.250\n",
      "Fantasy               -0.1439      0.140     -1.028      0.304      -0.418       0.130\n",
      "History               -0.7352      0.182     -4.033      0.000      -1.093      -0.378\n",
      "Music                  0.0287      0.179      0.160      0.873      -0.322       0.380\n",
      "Musical               -0.2905      0.314     -0.924      0.355      -0.907       0.326\n",
      "News                   0.1859      0.837      0.222      0.824      -1.455       1.826\n",
      "SciFi                 -0.6846      0.156     -4.377      0.000      -0.991      -0.378\n",
      "Sport                  0.0079      0.222      0.036      0.972      -0.428       0.444\n",
      "War                   -0.3741      0.245     -1.526      0.127      -0.855       0.106\n",
      "Western               -1.0947      0.485     -2.259      0.024      -2.044      -0.145\n",
      "budget               8.19e-09    9.5e-10      8.616      0.000    6.33e-09    1.01e-08\n",
      "isTopActor            -0.8873      0.076    -11.656      0.000      -1.036      -0.738\n",
      "isTopDirector         -0.4005      0.083     -4.843      0.000      -0.563      -0.238\n",
      "yearsSinceProduced    -0.0104      0.007     -1.451      0.147      -0.025       0.004\n",
      "numVotes             1.43e-05   9.09e-07     15.736      0.000    1.25e-05    1.61e-05\n",
      "averageRating          0.0290      0.029      1.016      0.310      -0.027       0.085\n",
      "======================================================================================\n"
     ]
    }
   ],
   "source": [
    "# logreg1: All relevant features **including** numVotes and averageRating\n",
    "import statsmodels.formula.api as smf\n",
    "\n",
    "# Removed: none\n",
    "logreg1 = smf.logit(formula = ''' profitable ~ \n",
    "                    runtimeMinutes +  \n",
    "                    Animation + \n",
    "                    Fantasy + \n",
    "                    History + \n",
    "                    Music + \n",
    "                    Musical + \n",
    "                    News + \n",
    "                    SciFi + \n",
    "                    Sport + \n",
    "                    War + \n",
    "                    Western +\n",
    "                    budget +\n",
    "                    isTopActor + \n",
    "                    isTopDirector + \n",
    "                    yearsSinceProduced +\n",
    "                    numVotes +\n",
    "                    averageRating\n",
    "                ''' ,data = movies_train).fit()\n",
    "\n",
    "print(logreg1.summary())"
   ]
  },
  {
   "cell_type": "code",
   "execution_count": 17,
   "id": "d53c0e15",
   "metadata": {},
   "outputs": [
    {
     "data": {
      "text/plain": [
       "0.7280067998300043"
      ]
     },
     "execution_count": 17,
     "metadata": {},
     "output_type": "execute_result"
    }
   ],
   "source": [
    "y_pred_logreg1 = [1 if pred >= 0.5 else 0 for pred in logreg1.predict(movies_test)]\n",
    "y_actual = movies_test['profitable']\n",
    "\n",
    "accuracy_score(y_pred_logreg1, y_actual)"
   ]
  },
  {
   "cell_type": "markdown",
   "id": "0e577a38",
   "metadata": {},
   "source": [
    "### Checking VIFs (checking for collinearity of independent variables)"
   ]
  },
  {
   "cell_type": "code",
   "execution_count": 18,
   "id": "89a05722",
   "metadata": {},
   "outputs": [],
   "source": [
    "# VIF Check\n",
    "import statsmodels.api as sm\n",
    "from statsmodels.stats.outliers_influence import variance_inflation_factor\n",
    "\n",
    "def VIF(df, columns):\n",
    "    \n",
    "    values = sm.add_constant(df[columns]).values  # the dataframe passed to VIF must include the intercept term. We add it the same way we did before.\n",
    "    num_columns = len(columns)+1\n",
    "    vif = [variance_inflation_factor(values, i) for i in range(num_columns)]\n",
    "    \n",
    "    return pd.Series(vif[1:], index=columns)"
   ]
  },
  {
   "cell_type": "code",
   "execution_count": 19,
   "id": "b8dd72fc",
   "metadata": {},
   "outputs": [
    {
     "name": "stderr",
     "output_type": "stream",
     "text": [
      "/Users/louisbemberg/.pyenv/versions/3.8.6/envs/lewagon/lib/python3.8/site-packages/statsmodels/tsa/tsatools.py:142: FutureWarning: In a future version of pandas all arguments of concat except for the argument 'objs' will be keyword-only\n",
      "  x = pd.concat(x[::order], 1)\n"
     ]
    },
    {
     "data": {
      "text/plain": [
       "runtimeMinutes        1.150473\n",
       "Animation             1.047916\n",
       "Fantasy               1.022809\n",
       "History               1.036128\n",
       "Music                 1.012351\n",
       "Musical               1.016676\n",
       "News                  1.003986\n",
       "SciFi                 1.043541\n",
       "Sport                 1.006872\n",
       "War                   1.019436\n",
       "Western               1.001371\n",
       "budget                1.068120\n",
       "isTopActor            1.373503\n",
       "isTopDirector         1.413826\n",
       "yearsSinceProduced    1.030560\n",
       "dtype: float64"
      ]
     },
     "execution_count": 19,
     "metadata": {},
     "output_type": "execute_result"
    }
   ],
   "source": [
    "# checking VIF of columns of logreg0\n",
    "cols = '''\n",
    "            runtimeMinutes \n",
    "            Animation\n",
    "            Fantasy \n",
    "            History \n",
    "            Music \n",
    "            Musical \n",
    "            News\n",
    "            SciFi \n",
    "            Sport \n",
    "            War\n",
    "            Western\n",
    "            budget\n",
    "            isTopActor \n",
    "            isTopDirector \n",
    "            yearsSinceProduced\n",
    "                '''.split()\n",
    "VIF(movies_train, cols)"
   ]
  },
  {
   "cell_type": "code",
   "execution_count": 20,
   "id": "f13cb7c7",
   "metadata": {},
   "outputs": [
    {
     "data": {
      "text/plain": [
       "runtimeMinutes        1.200381\n",
       "Animation             1.051623\n",
       "Fantasy               1.029710\n",
       "History               1.046060\n",
       "Music                 1.015461\n",
       "Musical               1.017900\n",
       "News                  1.005254\n",
       "SciFi                 1.081139\n",
       "Sport                 1.009518\n",
       "War                   1.020329\n",
       "Western               1.002417\n",
       "budget                1.152986\n",
       "isTopActor            1.439676\n",
       "isTopDirector         1.548722\n",
       "yearsSinceProduced    1.031681\n",
       "numVotes              1.602614\n",
       "averageRating         1.221574\n",
       "dtype: float64"
      ]
     },
     "execution_count": 20,
     "metadata": {},
     "output_type": "execute_result"
    }
   ],
   "source": [
    "# checking VIF of columns of logreg1\n",
    "cols = '''\n",
    "        runtimeMinutes\n",
    "        Animation \n",
    "        Fantasy \n",
    "        History \n",
    "        Music  \n",
    "        Musical \n",
    "        News  \n",
    "        SciFi  \n",
    "        Sport  \n",
    "        War \n",
    "        Western \n",
    "        budget \n",
    "        isTopActor  \n",
    "        isTopDirector  \n",
    "        yearsSinceProduced \n",
    "        numVotes \n",
    "        averageRating\n",
    "                '''.split()\n",
    "VIF(movies_train, cols)"
   ]
  },
  {
   "cell_type": "markdown",
   "id": "d561b3b0",
   "metadata": {},
   "source": [
    "Looks like there is no apparent linear relationship between our independent variables. We can therefore go ahead and remove variables with high p-value from now on to see how the model evolves."
   ]
  },
  {
   "cell_type": "markdown",
   "id": "0ad94209",
   "metadata": {},
   "source": [
    "### Logistic Regression model #2: Removing 'Animation' due to high p-value"
   ]
  },
  {
   "cell_type": "code",
   "execution_count": 21,
   "id": "101a52fe",
   "metadata": {},
   "outputs": [
    {
     "name": "stdout",
     "output_type": "stream",
     "text": [
      "Optimization terminated successfully.\n",
      "         Current function value: 0.573983\n",
      "         Iterations 6\n",
      "                           Logit Regression Results                           \n",
      "==============================================================================\n",
      "Dep. Variable:             profitable   No. Observations:                 5550\n",
      "Model:                          Logit   Df Residuals:                     5535\n",
      "Method:                           MLE   Df Model:                           14\n",
      "Date:                Sat, 04 Dec 2021   Pseudo R-squ.:                 0.04537\n",
      "Time:                        15:02:56   Log-Likelihood:                -3185.6\n",
      "converged:                       True   LL-Null:                       -3337.0\n",
      "Covariance Type:            nonrobust   LLR p-value:                 3.080e-56\n",
      "======================================================================================\n",
      "                         coef    std err          z      P>|z|      [0.025      0.975]\n",
      "--------------------------------------------------------------------------------------\n",
      "Intercept              0.4599      0.175      2.624      0.009       0.116       0.803\n",
      "runtimeMinutes         0.0041      0.002      2.689      0.007       0.001       0.007\n",
      "Fantasy                0.0028      0.132      0.022      0.983      -0.255       0.261\n",
      "History               -0.8097      0.173     -4.679      0.000      -1.149      -0.471\n",
      "Music                 -0.0849      0.173     -0.491      0.623      -0.423       0.254\n",
      "Musical               -0.4153      0.302     -1.376      0.169      -1.007       0.176\n",
      "News                   0.4166      0.839      0.496      0.620      -1.228       2.062\n",
      "SciFi                 -0.1858      0.140     -1.331      0.183      -0.459       0.088\n",
      "Sport                 -0.0386      0.215     -0.179      0.858      -0.460       0.383\n",
      "War                   -0.4813      0.238     -2.023      0.043      -0.948      -0.015\n",
      "Western               -0.9913      0.440     -2.251      0.024      -1.855      -0.128\n",
      "budget              1.241e-08   9.61e-10     12.909      0.000    1.05e-08    1.43e-08\n",
      "isTopActor            -0.3894      0.071     -5.501      0.000      -0.528      -0.251\n",
      "isTopDirector          0.2378      0.075      3.191      0.001       0.092       0.384\n",
      "yearsSinceProduced    -0.0158      0.007     -2.294      0.022      -0.029      -0.002\n",
      "======================================================================================\n"
     ]
    }
   ],
   "source": [
    "# logreg2: logreg0 - 'Animation'\n",
    "import statsmodels.formula.api as smf\n",
    "\n",
    "# Removed: numVotes, averageRating, Animation\n",
    "logreg2 = smf.logit(formula = ''' profitable ~ \n",
    "                    runtimeMinutes +  \n",
    "                    Fantasy + \n",
    "                    History + \n",
    "                    Music + \n",
    "                    Musical + \n",
    "                    News + \n",
    "                    SciFi + \n",
    "                    Sport + \n",
    "                    War + \n",
    "                    Western +\n",
    "                    budget +\n",
    "                    isTopActor + \n",
    "                    isTopDirector + \n",
    "                    yearsSinceProduced\n",
    "                ''' ,data = movies_train).fit()\n",
    "\n",
    "print(logreg2.summary())"
   ]
  },
  {
   "cell_type": "code",
   "execution_count": 22,
   "id": "cfbf77b7",
   "metadata": {},
   "outputs": [
    {
     "data": {
      "text/plain": [
       "0.7292817679558011"
      ]
     },
     "execution_count": 22,
     "metadata": {},
     "output_type": "execute_result"
    }
   ],
   "source": [
    "y_pred_logreg2 = [1 if pred >= 0.5 else 0 for pred in logreg2.predict(movies_test)]\n",
    "y_actual = movies_test['profitable']\n",
    "\n",
    "accuracy_score(y_pred_logreg2, y_actual)"
   ]
  },
  {
   "cell_type": "markdown",
   "id": "38328ffa",
   "metadata": {},
   "source": [
    "### Logistic Regression model #3: Removing 'Fantasy' due to high p-value"
   ]
  },
  {
   "cell_type": "code",
   "execution_count": 23,
   "id": "4bc725c9",
   "metadata": {},
   "outputs": [
    {
     "name": "stdout",
     "output_type": "stream",
     "text": [
      "Optimization terminated successfully.\n",
      "         Current function value: 0.573983\n",
      "         Iterations 6\n",
      "                           Logit Regression Results                           \n",
      "==============================================================================\n",
      "Dep. Variable:             profitable   No. Observations:                 5550\n",
      "Model:                          Logit   Df Residuals:                     5536\n",
      "Method:                           MLE   Df Model:                           13\n",
      "Date:                Sat, 04 Dec 2021   Pseudo R-squ.:                 0.04537\n",
      "Time:                        15:02:56   Log-Likelihood:                -3185.6\n",
      "converged:                       True   LL-Null:                       -3337.0\n",
      "Covariance Type:            nonrobust   LLR p-value:                 6.240e-57\n",
      "======================================================================================\n",
      "                         coef    std err          z      P>|z|      [0.025      0.975]\n",
      "--------------------------------------------------------------------------------------\n",
      "Intercept              0.4599      0.175      2.625      0.009       0.117       0.803\n",
      "runtimeMinutes         0.0041      0.002      2.689      0.007       0.001       0.007\n",
      "History               -0.8099      0.173     -4.685      0.000      -1.149      -0.471\n",
      "Music                 -0.0850      0.173     -0.493      0.622      -0.423       0.253\n",
      "Musical               -0.4154      0.302     -1.376      0.169      -1.007       0.176\n",
      "News                   0.4165      0.839      0.496      0.620      -1.228       2.061\n",
      "SciFi                 -0.1860      0.139     -1.333      0.182      -0.459       0.087\n",
      "Sport                 -0.0387      0.215     -0.180      0.857      -0.460       0.383\n",
      "War                   -0.4815      0.238     -2.024      0.043      -0.948      -0.015\n",
      "Western               -0.9914      0.440     -2.251      0.024      -1.855      -0.128\n",
      "budget              1.241e-08    9.6e-10     12.936      0.000    1.05e-08    1.43e-08\n",
      "isTopActor            -0.3893      0.071     -5.509      0.000      -0.528      -0.251\n",
      "isTopDirector          0.2378      0.075      3.191      0.001       0.092       0.384\n",
      "yearsSinceProduced    -0.0158      0.007     -2.294      0.022      -0.029      -0.002\n",
      "======================================================================================\n"
     ]
    }
   ],
   "source": [
    "import statsmodels.formula.api as smf\n",
    "\n",
    "# Removed: numVotes, averageRating, Animation, Fantasy\n",
    "logreg3 = smf.logit(formula = ''' profitable ~ \n",
    "                    runtimeMinutes +  \n",
    "                    History + \n",
    "                    Music + \n",
    "                    Musical + \n",
    "                    News + \n",
    "                    SciFi + \n",
    "                    Sport + \n",
    "                    War + \n",
    "                    Western +\n",
    "                    budget +\n",
    "                    isTopActor + \n",
    "                    isTopDirector + \n",
    "                    yearsSinceProduced\n",
    "                ''' ,data = movies_train).fit()\n",
    "\n",
    "print(logreg3.summary())"
   ]
  },
  {
   "cell_type": "code",
   "execution_count": 24,
   "id": "7cdefbeb",
   "metadata": {},
   "outputs": [
    {
     "data": {
      "text/plain": [
       "0.7292817679558011"
      ]
     },
     "execution_count": 24,
     "metadata": {},
     "output_type": "execute_result"
    }
   ],
   "source": [
    "y_pred_logreg3 = [1 if pred >= 0.5 else 0 for pred in logreg3.predict(movies_test)]\n",
    "y_actual = movies_test['profitable']\n",
    "\n",
    "accuracy_score(y_pred_logreg3, y_actual)"
   ]
  },
  {
   "cell_type": "markdown",
   "id": "add37892",
   "metadata": {},
   "source": [
    "### Logistic Regression model #4: Removing 'Sport' due to high p-value\n"
   ]
  },
  {
   "cell_type": "code",
   "execution_count": 26,
   "id": "83bcda67",
   "metadata": {},
   "outputs": [
    {
     "name": "stdout",
     "output_type": "stream",
     "text": [
      "Optimization terminated successfully.\n",
      "         Current function value: 0.573986\n",
      "         Iterations 6\n",
      "                           Logit Regression Results                           \n",
      "==============================================================================\n",
      "Dep. Variable:             profitable   No. Observations:                 5550\n",
      "Model:                          Logit   Df Residuals:                     5537\n",
      "Method:                           MLE   Df Model:                           12\n",
      "Date:                Sat, 04 Dec 2021   Pseudo R-squ.:                 0.04537\n",
      "Time:                        15:09:17   Log-Likelihood:                -3185.6\n",
      "converged:                       True   LL-Null:                       -3337.0\n",
      "Covariance Type:            nonrobust   LLR p-value:                 1.232e-57\n",
      "======================================================================================\n",
      "                         coef    std err          z      P>|z|      [0.025      0.975]\n",
      "--------------------------------------------------------------------------------------\n",
      "Intercept              0.4609      0.175      2.632      0.008       0.118       0.804\n",
      "runtimeMinutes         0.0041      0.002      2.684      0.007       0.001       0.007\n",
      "History               -0.8098      0.173     -4.684      0.000      -1.149      -0.471\n",
      "Music                 -0.0841      0.173     -0.487      0.626      -0.422       0.254\n",
      "Musical               -0.4151      0.302     -1.375      0.169      -1.007       0.177\n",
      "News                   0.4169      0.839      0.497      0.619      -1.228       2.062\n",
      "SciFi                 -0.1852      0.139     -1.329      0.184      -0.458       0.088\n",
      "War                   -0.4805      0.238     -2.021      0.043      -0.947      -0.014\n",
      "Western               -0.9904      0.440     -2.249      0.025      -1.854      -0.127\n",
      "budget              1.241e-08    9.6e-10     12.937      0.000    1.05e-08    1.43e-08\n",
      "isTopActor            -0.3895      0.071     -5.512      0.000      -0.528      -0.251\n",
      "isTopDirector          0.2380      0.075      3.194      0.001       0.092       0.384\n",
      "yearsSinceProduced    -0.0159      0.007     -2.302      0.021      -0.029      -0.002\n",
      "======================================================================================\n"
     ]
    }
   ],
   "source": [
    "import statsmodels.formula.api as smf\n",
    "\n",
    "# Removed: numVotes, averageRating, Animation, Fantasy, Sport\n",
    "logreg4 = smf.logit(formula = ''' profitable ~ \n",
    "                    runtimeMinutes +  \n",
    "                    History + \n",
    "                    Music + \n",
    "                    Musical + \n",
    "                    News + \n",
    "                    SciFi +\n",
    "                    War + \n",
    "                    Western +\n",
    "                    budget +\n",
    "                    isTopActor + \n",
    "                    isTopDirector + \n",
    "                    yearsSinceProduced\n",
    "                ''' ,data = movies_train).fit()\n",
    "\n",
    "print(logreg4.summary())"
   ]
  },
  {
   "cell_type": "code",
   "execution_count": 27,
   "id": "d5560d75",
   "metadata": {},
   "outputs": [
    {
     "data": {
      "text/plain": [
       "0.7292817679558011"
      ]
     },
     "execution_count": 27,
     "metadata": {},
     "output_type": "execute_result"
    }
   ],
   "source": [
    "y_pred_logreg4 = [1 if pred >= 0.5 else 0 for pred in logreg4.predict(movies_test)]\n",
    "y_actual = movies_test['profitable']\n",
    "\n",
    "accuracy_score(y_pred_logreg4, y_actual)"
   ]
  },
  {
   "cell_type": "markdown",
   "id": "51102b77",
   "metadata": {},
   "source": [
    "### Logistic Regression model #5: Removing 'Music' due to high p-value"
   ]
  },
  {
   "cell_type": "code",
   "execution_count": 28,
   "id": "aa77766b",
   "metadata": {},
   "outputs": [
    {
     "name": "stdout",
     "output_type": "stream",
     "text": [
      "Optimization terminated successfully.\n",
      "         Current function value: 0.574007\n",
      "         Iterations 6\n",
      "                           Logit Regression Results                           \n",
      "==============================================================================\n",
      "Dep. Variable:             profitable   No. Observations:                 5550\n",
      "Model:                          Logit   Df Residuals:                     5538\n",
      "Method:                           MLE   Df Model:                           11\n",
      "Date:                Sat, 04 Dec 2021   Pseudo R-squ.:                 0.04533\n",
      "Time:                        15:11:11   Log-Likelihood:                -3185.7\n",
      "converged:                       True   LL-Null:                       -3337.0\n",
      "Covariance Type:            nonrobust   LLR p-value:                 2.564e-58\n",
      "======================================================================================\n",
      "                         coef    std err          z      P>|z|      [0.025      0.975]\n",
      "--------------------------------------------------------------------------------------\n",
      "Intercept              0.4600      0.175      2.628      0.009       0.117       0.803\n",
      "runtimeMinutes         0.0041      0.002      2.674      0.007       0.001       0.007\n",
      "History               -0.8082      0.173     -4.675      0.000      -1.147      -0.469\n",
      "Musical               -0.4226      0.302     -1.401      0.161      -1.014       0.168\n",
      "News                   0.4187      0.839      0.499      0.618      -1.226       2.064\n",
      "SciFi                 -0.1828      0.139     -1.312      0.189      -0.456       0.090\n",
      "War                   -0.4790      0.238     -2.015      0.044      -0.945      -0.013\n",
      "Western               -0.9876      0.440     -2.243      0.025      -1.851      -0.125\n",
      "budget              1.243e-08   9.59e-10     12.963      0.000    1.06e-08    1.43e-08\n",
      "isTopActor            -0.3907      0.071     -5.532      0.000      -0.529      -0.252\n",
      "isTopDirector          0.2382      0.075      3.197      0.001       0.092       0.384\n",
      "yearsSinceProduced    -0.0159      0.007     -2.302      0.021      -0.029      -0.002\n",
      "======================================================================================\n"
     ]
    }
   ],
   "source": [
    "import statsmodels.formula.api as smf\n",
    "\n",
    "# Removed: numVotes, averageRating, Animation, Fantasy, Sport, Music\n",
    "logreg5 = smf.logit(formula = ''' profitable ~ \n",
    "                    runtimeMinutes +  \n",
    "                    History + \n",
    "                    Musical + \n",
    "                    News + \n",
    "                    SciFi +\n",
    "                    War + \n",
    "                    Western +\n",
    "                    budget +\n",
    "                    isTopActor + \n",
    "                    isTopDirector + \n",
    "                    yearsSinceProduced\n",
    "                ''' ,data = movies_train).fit()\n",
    "\n",
    "print(logreg5.summary())"
   ]
  },
  {
   "cell_type": "code",
   "execution_count": 29,
   "id": "c86211e7",
   "metadata": {},
   "outputs": [
    {
     "data": {
      "text/plain": [
       "0.7292817679558011"
      ]
     },
     "execution_count": 29,
     "metadata": {},
     "output_type": "execute_result"
    }
   ],
   "source": [
    "y_pred_logreg5 = [1 if pred >= 0.5 else 0 for pred in logreg5.predict(movies_test)]\n",
    "y_actual = movies_test['profitable']\n",
    "\n",
    "accuracy_score(y_pred_logreg5, y_actual)"
   ]
  },
  {
   "cell_type": "markdown",
   "id": "249777e5",
   "metadata": {},
   "source": [
    "### Logistic Regression model #6: Removing 'News' due to high p-value"
   ]
  },
  {
   "cell_type": "code",
   "execution_count": 34,
   "id": "3eeef3f0",
   "metadata": {
    "scrolled": false
   },
   "outputs": [
    {
     "name": "stdout",
     "output_type": "stream",
     "text": [
      "Optimization terminated successfully.\n",
      "         Current function value: 0.574031\n",
      "         Iterations 6\n",
      "                           Logit Regression Results                           \n",
      "==============================================================================\n",
      "Dep. Variable:             profitable   No. Observations:                 5550\n",
      "Model:                          Logit   Df Residuals:                     5539\n",
      "Method:                           MLE   Df Model:                           10\n",
      "Date:                Sat, 04 Dec 2021   Pseudo R-squ.:                 0.04529\n",
      "Time:                        15:13:16   Log-Likelihood:                -3185.9\n",
      "converged:                       True   LL-Null:                       -3337.0\n",
      "Covariance Type:            nonrobust   LLR p-value:                 5.154e-59\n",
      "======================================================================================\n",
      "                         coef    std err          z      P>|z|      [0.025      0.975]\n",
      "--------------------------------------------------------------------------------------\n",
      "Intercept              0.4653      0.175      2.664      0.008       0.123       0.808\n",
      "runtimeMinutes         0.0041      0.002      2.655      0.008       0.001       0.007\n",
      "History               -0.8052      0.173     -4.660      0.000      -1.144      -0.467\n",
      "Musical               -0.4223      0.302     -1.400      0.161      -1.013       0.169\n",
      "SciFi                 -0.1832      0.139     -1.315      0.189      -0.456       0.090\n",
      "War                   -0.4799      0.238     -2.019      0.044      -0.946      -0.014\n",
      "Western               -0.9880      0.440     -2.244      0.025      -1.851      -0.125\n",
      "budget              1.243e-08   9.59e-10     12.961      0.000    1.05e-08    1.43e-08\n",
      "isTopActor            -0.3915      0.071     -5.545      0.000      -0.530      -0.253\n",
      "isTopDirector          0.2382      0.075      3.197      0.001       0.092       0.384\n",
      "yearsSinceProduced    -0.0159      0.007     -2.309      0.021      -0.029      -0.002\n",
      "======================================================================================\n"
     ]
    }
   ],
   "source": [
    "import statsmodels.formula.api as smf\n",
    "\n",
    "# Removed: numVotes, averageRating, Animation, Fantasy, Sport, Music, News\n",
    "logreg6= smf.logit(formula = ''' profitable ~ \n",
    "                    runtimeMinutes +  \n",
    "                    History + \n",
    "                    Musical +\n",
    "                    SciFi +\n",
    "                    War + \n",
    "                    Western +\n",
    "                    budget +\n",
    "                    isTopActor + \n",
    "                    isTopDirector + \n",
    "                    yearsSinceProduced\n",
    "                ''' ,data = movies_train).fit()\n",
    "\n",
    "print(logreg6.summary())"
   ]
  },
  {
   "cell_type": "code",
   "execution_count": 31,
   "id": "2a437f8d",
   "metadata": {},
   "outputs": [
    {
     "data": {
      "text/plain": [
       "0.7292817679558011"
      ]
     },
     "execution_count": 31,
     "metadata": {},
     "output_type": "execute_result"
    }
   ],
   "source": [
    "y_pred_logreg6 = [1 if pred >= 0.5 else 0 for pred in logreg6.predict(movies_test)]\n",
    "y_actual = movies_test['profitable']\n",
    "\n",
    "accuracy_score(y_pred_logreg6, y_actual)"
   ]
  },
  {
   "cell_type": "markdown",
   "id": "4be12f5a",
   "metadata": {},
   "source": [
    "### Logistic Regression model #7: Removing 'SciFi' due to high p-value"
   ]
  },
  {
   "cell_type": "code",
   "execution_count": 35,
   "id": "2db63046",
   "metadata": {},
   "outputs": [
    {
     "name": "stdout",
     "output_type": "stream",
     "text": [
      "Optimization terminated successfully.\n",
      "         Current function value: 0.574183\n",
      "         Iterations 6\n",
      "                           Logit Regression Results                           \n",
      "==============================================================================\n",
      "Dep. Variable:             profitable   No. Observations:                 5550\n",
      "Model:                          Logit   Df Residuals:                     5540\n",
      "Method:                           MLE   Df Model:                            9\n",
      "Date:                Sat, 04 Dec 2021   Pseudo R-squ.:                 0.04504\n",
      "Time:                        15:14:47   Log-Likelihood:                -3186.7\n",
      "converged:                       True   LL-Null:                       -3337.0\n",
      "Covariance Type:            nonrobust   LLR p-value:                 1.973e-59\n",
      "======================================================================================\n",
      "                         coef    std err          z      P>|z|      [0.025      0.975]\n",
      "--------------------------------------------------------------------------------------\n",
      "Intercept              0.4589      0.175      2.624      0.009       0.116       0.802\n",
      "runtimeMinutes         0.0041      0.002      2.648      0.008       0.001       0.007\n",
      "History               -0.7948      0.173     -4.607      0.000      -1.133      -0.457\n",
      "Musical               -0.4188      0.302     -1.389      0.165      -1.010       0.172\n",
      "War                   -0.4739      0.238     -1.994      0.046      -0.940      -0.008\n",
      "Western               -0.9785      0.440     -2.223      0.026      -1.841      -0.116\n",
      "budget              1.231e-08   9.54e-10     12.902      0.000    1.04e-08    1.42e-08\n",
      "isTopActor            -0.3944      0.071     -5.589      0.000      -0.533      -0.256\n",
      "isTopDirector          0.2364      0.074      3.174      0.002       0.090       0.382\n",
      "yearsSinceProduced    -0.0157      0.007     -2.278      0.023      -0.029      -0.002\n",
      "======================================================================================\n"
     ]
    }
   ],
   "source": [
    "import statsmodels.formula.api as smf\n",
    "\n",
    "# Removed: numVotes, averageRating, Animation, Fantasy, Sport, Music, News, SciFi\n",
    "logreg7= smf.logit(formula = ''' profitable ~ \n",
    "                    runtimeMinutes +  \n",
    "                    History + \n",
    "                    Musical +\n",
    "                    War + \n",
    "                    Western +\n",
    "                    budget +\n",
    "                    isTopActor + \n",
    "                    isTopDirector + \n",
    "                    yearsSinceProduced\n",
    "                ''' ,data = movies_train).fit()\n",
    "\n",
    "print(logreg7.summary())"
   ]
  },
  {
   "cell_type": "code",
   "execution_count": 36,
   "id": "81d49cf2",
   "metadata": {
    "scrolled": true
   },
   "outputs": [
    {
     "data": {
      "text/plain": [
       "0.7292817679558011"
      ]
     },
     "execution_count": 36,
     "metadata": {},
     "output_type": "execute_result"
    }
   ],
   "source": [
    "y_pred_logreg7 = [1 if pred >= 0.5 else 0 for pred in logreg7.predict(movies_test)]\n",
    "y_actual = movies_test['profitable']\n",
    "\n",
    "accuracy_score(y_pred_logreg7, y_actual)"
   ]
  },
  {
   "cell_type": "markdown",
   "id": "c856c0ad",
   "metadata": {},
   "source": [
    "### Logistic Regression model #8: Removing 'Musical' due to high p-value"
   ]
  },
  {
   "cell_type": "code",
   "execution_count": 37,
   "id": "eb3029e7",
   "metadata": {},
   "outputs": [
    {
     "name": "stdout",
     "output_type": "stream",
     "text": [
      "Optimization terminated successfully.\n",
      "         Current function value: 0.574350\n",
      "         Iterations 6\n",
      "                           Logit Regression Results                           \n",
      "==============================================================================\n",
      "Dep. Variable:             profitable   No. Observations:                 5550\n",
      "Model:                          Logit   Df Residuals:                     5541\n",
      "Method:                           MLE   Df Model:                            8\n",
      "Date:                Sat, 04 Dec 2021   Pseudo R-squ.:                 0.04476\n",
      "Time:                        15:16:33   Log-Likelihood:                -3187.6\n",
      "converged:                       True   LL-Null:                       -3337.0\n",
      "Covariance Type:            nonrobust   LLR p-value:                 7.704e-60\n",
      "======================================================================================\n",
      "                         coef    std err          z      P>|z|      [0.025      0.975]\n",
      "--------------------------------------------------------------------------------------\n",
      "Intercept              0.4780      0.174      2.749      0.006       0.137       0.819\n",
      "runtimeMinutes         0.0038      0.002      2.512      0.012       0.001       0.007\n",
      "History               -0.7871      0.172     -4.567      0.000      -1.125      -0.449\n",
      "War                   -0.4686      0.237     -1.973      0.048      -0.934      -0.003\n",
      "Western               -0.9725      0.440     -2.210      0.027      -1.835      -0.110\n",
      "budget              1.232e-08   9.53e-10     12.918      0.000    1.04e-08    1.42e-08\n",
      "isTopActor            -0.3909      0.070     -5.546      0.000      -0.529      -0.253\n",
      "isTopDirector          0.2357      0.074      3.165      0.002       0.090       0.382\n",
      "yearsSinceProduced    -0.0157      0.007     -2.278      0.023      -0.029      -0.002\n",
      "======================================================================================\n"
     ]
    }
   ],
   "source": [
    "import statsmodels.formula.api as smf\n",
    "\n",
    "# Removed: numVotes, averageRating, Animation, Fantasy, Sport, Music, News, SciFi, Musical\n",
    "logreg8= smf.logit(formula = ''' profitable ~ \n",
    "                    runtimeMinutes +  \n",
    "                    History + \n",
    "                    War + \n",
    "                    Western +\n",
    "                    budget +\n",
    "                    isTopActor + \n",
    "                    isTopDirector + \n",
    "                    yearsSinceProduced\n",
    "                ''' ,data = movies_train).fit()\n",
    "\n",
    "print(logreg8.summary())"
   ]
  },
  {
   "cell_type": "code",
   "execution_count": 38,
   "id": "35544a33",
   "metadata": {},
   "outputs": [
    {
     "data": {
      "text/plain": [
       "0.7292817679558011"
      ]
     },
     "execution_count": 38,
     "metadata": {},
     "output_type": "execute_result"
    }
   ],
   "source": [
    "y_pred_logreg8 = [1 if pred >= 0.5 else 0 for pred in logreg8.predict(movies_test)]\n",
    "y_actual = movies_test['profitable']\n",
    "\n",
    "accuracy_score(y_pred_logreg8, y_actual)"
   ]
  },
  {
   "cell_type": "markdown",
   "id": "eaf07983",
   "metadata": {},
   "source": [
    "# CART Tree Classifier\n",
    "\n",
    "A CART model, where:\n",
    "* min_samples leaf is arbitrarly set at 5\n",
    "* all the other settings are left default\n",
    "* ccp_alpha is optimized through k-fold cross validation\n",
    "* k=5 was chosen.\n",
    "* min_samples_split is set at 10"
   ]
  },
  {
   "cell_type": "code",
   "execution_count": null,
   "id": "3f0c6522",
   "metadata": {},
   "outputs": [],
   "source": [
    "### CART 1) NOT Using features that may not make sense in real life: numvotes, yearsSinceProduced, AvgRating"
   ]
  },
  {
   "cell_type": "code",
   "execution_count": null,
   "id": "3114513b",
   "metadata": {},
   "outputs": [],
   "source": [
    "# we need to split the data between dependent (y) and indepdendent (x)\n",
    "y_train = movies_train['profitable']\n",
    "X_train = movies_train.drop(['profitable', 'tconst', 'revenue', 'primaryTitle', 'originalTitle', 'numVotes', 'averageRating', 'yearsSinceProduced'], axis=1)\n",
    "\n",
    "# same thing for the test set\n",
    "y_test = movies_test['profitable']\n",
    "X_test = movies_test.drop(['profitable', 'tconst', 'revenue', 'primaryTitle', 'originalTitle', 'numVotes', 'averageRating', 'yearsSinceProduced'], axis=1)"
   ]
  },
  {
   "cell_type": "code",
   "execution_count": 39,
   "id": "2d88a760",
   "metadata": {},
   "outputs": [
    {
     "name": "stdout",
     "output_type": "stream",
     "text": [
      "<class 'pandas.core.frame.DataFrame'>\n",
      "RangeIndex: 5550 entries, 0 to 5549\n",
      "Data columns (total 24 columns):\n",
      " #   Column              Non-Null Count  Dtype  \n",
      "---  ------              --------------  -----  \n",
      " 0   tconst              5550 non-null   object \n",
      " 1   primaryTitle        5550 non-null   object \n",
      " 2   originalTitle       5550 non-null   object \n",
      " 3   startYear           5550 non-null   int64  \n",
      " 4   runtimeMinutes      5550 non-null   int64  \n",
      " 5   Animation           5550 non-null   int64  \n",
      " 6   Fantasy             5550 non-null   int64  \n",
      " 7   GameShow            5550 non-null   int64  \n",
      " 8   History             5550 non-null   int64  \n",
      " 9   Music               5550 non-null   int64  \n",
      " 10  Musical             5550 non-null   int64  \n",
      " 11  News                5550 non-null   int64  \n",
      " 12  SciFi               5550 non-null   int64  \n",
      " 13  Sport               5550 non-null   int64  \n",
      " 14  War                 5550 non-null   int64  \n",
      " 15  Western             5550 non-null   int64  \n",
      " 16  averageRating       5550 non-null   float64\n",
      " 17  numVotes            5550 non-null   float64\n",
      " 18  budget              5550 non-null   int64  \n",
      " 19  revenue             5550 non-null   int64  \n",
      " 20  isTopActor          5550 non-null   int64  \n",
      " 21  isTopDirector       5550 non-null   int64  \n",
      " 22  yearsSinceProduced  5550 non-null   int64  \n",
      " 23  profitable          5550 non-null   int64  \n",
      "dtypes: float64(2), int64(19), object(3)\n",
      "memory usage: 1.0+ MB\n"
     ]
    }
   ],
   "source": [
    "movies_train.info()"
   ]
  }
 ],
 "metadata": {
  "kernelspec": {
   "display_name": "Python 3 (ipykernel)",
   "language": "python",
   "name": "python3"
  },
  "language_info": {
   "codemirror_mode": {
    "name": "ipython",
    "version": 3
   },
   "file_extension": ".py",
   "mimetype": "text/x-python",
   "name": "python",
   "nbconvert_exporter": "python",
   "pygments_lexer": "ipython3",
   "version": "3.8.6"
  },
  "toc": {
   "base_numbering": 1,
   "nav_menu": {},
   "number_sections": false,
   "sideBar": true,
   "skip_h1_title": false,
   "title_cell": "Table of Contents",
   "title_sidebar": "Contents",
   "toc_cell": false,
   "toc_position": {},
   "toc_section_display": true,
   "toc_window_display": true
  }
 },
 "nbformat": 4,
 "nbformat_minor": 5
}
