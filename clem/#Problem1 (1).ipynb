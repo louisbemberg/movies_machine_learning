{
 "cells": [
  {
   "cell_type": "code",
   "execution_count": 70,
   "id": "c599806c",
   "metadata": {},
   "outputs": [],
   "source": [
    "import numpy as np\n",
    "import pandas as pd\n",
    "import matplotlib.pyplot as plt\n",
    "from sklearn.tree import plot_tree"
   ]
  },
  {
   "cell_type": "markdown",
   "id": "5a66bda8",
   "metadata": {},
   "source": [
    "## Import Data"
   ]
  },
  {
   "cell_type": "code",
   "execution_count": 71,
   "id": "262d38a1",
   "metadata": {},
   "outputs": [
    {
     "data": {
      "text/plain": [
       "tconst                                     tt9904802\n",
       "primaryTitle          ¡A todo tren! Destino Asturias\n",
       "originalTitle                               Éternité\n",
       "startYear                                       2021\n",
       "runtimeMinutes                                  1260\n",
       "Animation                                          1\n",
       "Fantasy                                            1\n",
       "GameShow                                           0\n",
       "History                                            1\n",
       "Music                                              1\n",
       "Musical                                            1\n",
       "News                                               0\n",
       "SciFi                                              1\n",
       "Sport                                              1\n",
       "War                                                1\n",
       "Western                                            1\n",
       "averageRating                                    9.6\n",
       "numVotes                                   1095010.0\n",
       "budget                                     380000000\n",
       "revenue                                   2797800564\n",
       "isTopActor                                         1\n",
       "isTopDirector                                      1\n",
       "yearsSinceProduced                                 5\n",
       "dtype: object"
      ]
     },
     "execution_count": 71,
     "metadata": {},
     "output_type": "execute_result"
    }
   ],
   "source": [
    "train=pd.read_csv('train_dataset.csv')\n",
    "\n",
    "test=pd.read_csv('test_dataset.csv')\n",
    "\n",
    "\n",
    "\n",
    "test.max()"
   ]
  },
  {
   "cell_type": "markdown",
   "id": "6576343a",
   "metadata": {},
   "source": [
    "## Models"
   ]
  },
  {
   "cell_type": "markdown",
   "id": "99c73a21",
   "metadata": {},
   "source": [
    "**Linear Regression - Predicting Continuous Rating (0.0-10.0)**"
   ]
  },
  {
   "cell_type": "code",
   "execution_count": 72,
   "id": "5e47cd8e",
   "metadata": {},
   "outputs": [
    {
     "name": "stdout",
     "output_type": "stream",
     "text": [
      "                            OLS Regression Results                            \n",
      "==============================================================================\n",
      "Dep. Variable:          averageRating   R-squared:                       0.181\n",
      "Model:                            OLS   Adj. R-squared:                  0.179\n",
      "Method:                 Least Squares   F-statistic:                     72.11\n",
      "Date:                Fri, 17 Dec 2021   Prob (F-statistic):          4.75e-225\n",
      "Time:                        08:20:50   Log-Likelihood:                -8239.9\n",
      "No. Observations:                5550   AIC:                         1.652e+04\n",
      "Df Residuals:                    5532   BIC:                         1.664e+04\n",
      "Df Model:                          17                                         \n",
      "Covariance Type:            nonrobust                                         \n",
      "======================================================================================\n",
      "                         coef    std err          t      P>|t|      [0.025      0.975]\n",
      "--------------------------------------------------------------------------------------\n",
      "Intercept              5.6584      0.078     72.345      0.000       5.505       5.812\n",
      "yearsSinceProduced    -0.0051      0.003     -1.554      0.120      -0.012       0.001\n",
      "runtimeMinutes         0.0050      0.001      7.712      0.000       0.004       0.006\n",
      "numVotes            2.381e-06   1.15e-07     20.672      0.000    2.16e-06    2.61e-06\n",
      "budget              -1.41e-09    4.6e-10     -3.068      0.002   -2.31e-09   -5.09e-10\n",
      "revenue             3.205e-11   1.07e-10      0.301      0.764   -1.77e-10    2.41e-10\n",
      "isTopActor            -0.3000      0.035     -8.646      0.000      -0.368      -0.232\n",
      "isTopDirector          0.4313      0.037     11.691      0.000       0.359       0.504\n",
      "Animation              0.1511      0.072      2.100      0.036       0.010       0.292\n",
      "Fantasy               -0.3231      0.060     -5.347      0.000      -0.442      -0.205\n",
      "History                0.5469      0.088      6.195      0.000       0.374       0.720\n",
      "Music                  0.3116      0.086      3.641      0.000       0.144       0.479\n",
      "Musical               -0.0910      0.150     -0.605      0.545      -0.386       0.204\n",
      "News                   0.9330      0.379      2.460      0.014       0.190       1.677\n",
      "SciFi                 -0.5490      0.064     -8.512      0.000      -0.675      -0.423\n",
      "Sport                  0.3640      0.103      3.520      0.000       0.161       0.567\n",
      "War                    0.2652      0.121      2.194      0.028       0.028       0.502\n",
      "Western               -0.4333      0.229     -1.894      0.058      -0.882       0.015\n",
      "==============================================================================\n",
      "Omnibus:                      492.317   Durbin-Watson:                   1.997\n",
      "Prob(Omnibus):                  0.000   Jarque-Bera (JB):              774.998\n",
      "Skew:                          -0.668   Prob(JB):                    5.15e-169\n",
      "Kurtosis:                       4.251   Cond. No.                     6.58e+09\n",
      "==============================================================================\n",
      "\n",
      "Notes:\n",
      "[1] Standard Errors assume that the covariance matrix of the errors is correctly specified.\n",
      "[2] The condition number is large, 6.58e+09. This might indicate that there are\n",
      "strong multicollinearity or other numerical problems.\n"
     ]
    }
   ],
   "source": [
    "import statsmodels.formula.api as smf\n",
    "model_1 = smf.ols(formula = \n",
    "                ''' averageRating ~ \n",
    "                    yearsSinceProduced + \n",
    "                    runtimeMinutes + \n",
    "                    numVotes + \n",
    "                    budget + \n",
    "                    revenue + \n",
    "                    isTopActor + \n",
    "                    isTopDirector + \n",
    "                    Animation + \n",
    "                    Fantasy + \n",
    "                    History + \n",
    "                    Music + \n",
    "                    Musical + \n",
    "                    News + \n",
    "                    SciFi + \n",
    "                    Sport + \n",
    "                    War + \n",
    "                    Western\n",
    "                ''', data=train).fit()\n",
    "print(model_1 .summary())"
   ]
  },
  {
   "cell_type": "code",
   "execution_count": 73,
   "id": "2da5a9e6",
   "metadata": {},
   "outputs": [],
   "source": [
    "# Calculate Variance Inflation Factor for each explanatory variable\n",
    "import statsmodels.api as sm\n",
    "from statsmodels.stats.outliers_influence import variance_inflation_factor\n",
    "\n",
    "def VIF(df, columns):\n",
    "    \n",
    "    values = sm.add_constant(df[columns]).values  # the dataframe passed to VIF must include the intercept term. We add it here.\n",
    "    num_columns = len(columns)+1\n",
    "    vif = [variance_inflation_factor(values, i) for i in range(num_columns)]\n",
    "    \n",
    "    return pd.Series(vif[1:], index=columns)"
   ]
  },
  {
   "cell_type": "code",
   "execution_count": 74,
   "id": "03189aed",
   "metadata": {},
   "outputs": [
    {
     "name": "stderr",
     "output_type": "stream",
     "text": [
      "/Users/clemencebilliemaz/opt/anaconda3/lib/python3.9/site-packages/statsmodels/tsa/tsatools.py:142: FutureWarning: In a future version of pandas all arguments of concat except for the argument 'objs' will be keyword-only\n",
      "  x = pd.concat(x[::order], 1)\n"
     ]
    },
    {
     "data": {
      "text/plain": [
       "yearsSinceProduced    1.033326\n",
       "runtimeMinutes        1.187831\n",
       "numVotes              1.601245\n",
       "budget                2.389393\n",
       "revenue               2.521287\n",
       "isTopActor            1.437008\n",
       "isTopDirector         1.519049\n",
       "Animation             1.050892\n",
       "Fantasy               1.024426\n",
       "History               1.038909\n",
       "Music                 1.013058\n",
       "Musical               1.017937\n",
       "News                  1.004239\n",
       "SciFi                 1.070428\n",
       "Sport                 1.007659\n",
       "War                   1.019650\n",
       "Western               1.002478\n",
       "dtype: float64"
      ]
     },
     "execution_count": 74,
     "metadata": {},
     "output_type": "execute_result"
    }
   ],
   "source": [
    "cols = ['yearsSinceProduced','runtimeMinutes','numVotes','budget','revenue','isTopActor','isTopDirector','Animation','Fantasy','History','Music','Musical','News','SciFi','Sport','War','Western']\n",
    "VIF(train, cols)"
   ]
  },
  {
   "cell_type": "markdown",
   "id": "fd9c5c59",
   "metadata": {},
   "source": [
    "We observe that there is no strong multicollinearity between any of the non-categorical features. However, we remove the features that have a p-value>0.05 ie 'Revenue', 'Musical' and 'yearsSinceProduced' and 'Western'."
   ]
  },
  {
   "cell_type": "code",
   "execution_count": 75,
   "id": "3f3e477f",
   "metadata": {},
   "outputs": [
    {
     "name": "stdout",
     "output_type": "stream",
     "text": [
      "                            OLS Regression Results                            \n",
      "==============================================================================\n",
      "Dep. Variable:          averageRating   R-squared:                       0.180\n",
      "Model:                            OLS   Adj. R-squared:                  0.179\n",
      "Method:                 Least Squares   F-statistic:                     93.75\n",
      "Date:                Fri, 17 Dec 2021   Prob (F-statistic):          1.55e-227\n",
      "Time:                        08:20:50   Log-Likelihood:                -8243.2\n",
      "No. Observations:                5550   AIC:                         1.651e+04\n",
      "Df Residuals:                    5536   BIC:                         1.661e+04\n",
      "Df Model:                          13                                         \n",
      "Covariance Type:            nonrobust                                         \n",
      "==================================================================================\n",
      "                     coef    std err          t      P>|t|      [0.025      0.975]\n",
      "----------------------------------------------------------------------------------\n",
      "Intercept          5.6001      0.067     83.236      0.000       5.468       5.732\n",
      "runtimeMinutes     0.0050      0.001      7.683      0.000       0.004       0.006\n",
      "numVotes        2.393e-06   1.11e-07     21.645      0.000    2.18e-06    2.61e-06\n",
      "budget         -1.298e-09   3.19e-10     -4.070      0.000   -1.92e-09   -6.73e-10\n",
      "isTopActor        -0.3050      0.034     -8.879      0.000      -0.372      -0.238\n",
      "isTopDirector      0.4255      0.037     11.599      0.000       0.354       0.497\n",
      "Animation          0.1547      0.072      2.151      0.032       0.014       0.296\n",
      "Fantasy           -0.3226      0.060     -5.338      0.000      -0.441      -0.204\n",
      "History            0.5569      0.088      6.318      0.000       0.384       0.730\n",
      "Music              0.3109      0.085      3.637      0.000       0.143       0.478\n",
      "News               0.9429      0.379      2.486      0.013       0.199       1.686\n",
      "SciFi             -0.5451      0.064     -8.467      0.000      -0.671      -0.419\n",
      "Sport              0.3606      0.103      3.489      0.000       0.158       0.563\n",
      "War                0.2643      0.121      2.187      0.029       0.027       0.501\n",
      "==============================================================================\n",
      "Omnibus:                      496.890   Durbin-Watson:                   1.996\n",
      "Prob(Omnibus):                  0.000   Jarque-Bera (JB):              785.839\n",
      "Skew:                          -0.671   Prob(JB):                    2.28e-171\n",
      "Kurtosis:                       4.264   Cond. No.                     1.64e+09\n",
      "==============================================================================\n",
      "\n",
      "Notes:\n",
      "[1] Standard Errors assume that the covariance matrix of the errors is correctly specified.\n",
      "[2] The condition number is large, 1.64e+09. This might indicate that there are\n",
      "strong multicollinearity or other numerical problems.\n"
     ]
    }
   ],
   "source": [
    "import statsmodels.formula.api as smf\n",
    "model_1 = smf.ols(formula = \n",
    "                ''' averageRating ~ \n",
    "                    runtimeMinutes + \n",
    "                    numVotes + \n",
    "                    budget + \n",
    "                    isTopActor + \n",
    "                    isTopDirector + \n",
    "                    Animation + \n",
    "                    Fantasy + \n",
    "                    History + \n",
    "                    Music + \n",
    "                    News + \n",
    "                    SciFi + \n",
    "                    Sport + \n",
    "                    War \n",
    "                ''', data=train).fit()\n",
    "print(model_1 .summary())"
   ]
  },
  {
   "cell_type": "code",
   "execution_count": 76,
   "id": "cb84e417",
   "metadata": {},
   "outputs": [
    {
     "name": "stderr",
     "output_type": "stream",
     "text": [
      "/Users/clemencebilliemaz/opt/anaconda3/lib/python3.9/site-packages/statsmodels/tsa/tsatools.py:142: FutureWarning: In a future version of pandas all arguments of concat except for the argument 'objs' will be keyword-only\n",
      "  x = pd.concat(x[::order], 1)\n"
     ]
    },
    {
     "data": {
      "text/plain": [
       "runtimeMinutes    1.173103\n",
       "numVotes          1.474712\n",
       "budget            1.149126\n",
       "isTopActor        1.407160\n",
       "isTopDirector     1.501176\n",
       "Animation         1.050131\n",
       "Fantasy           1.024336\n",
       "History           1.035427\n",
       "Music             1.009645\n",
       "News              1.003886\n",
       "SciFi             1.066046\n",
       "Sport             1.006169\n",
       "War               1.018910\n",
       "dtype: float64"
      ]
     },
     "execution_count": 76,
     "metadata": {},
     "output_type": "execute_result"
    }
   ],
   "source": [
    "cols = ['runtimeMinutes','numVotes','budget','isTopActor','isTopDirector','Animation','Fantasy','History','Music','News','SciFi','Sport','War']\n",
    "VIF(train, cols)"
   ]
  },
  {
   "cell_type": "markdown",
   "id": "1f223730",
   "metadata": {},
   "source": [
    "We observe that there is no strong multicollinearity between any of the non-categorical features. The linear regression model is:"
   ]
  },
  {
   "cell_type": "markdown",
   "id": "509ae567",
   "metadata": {},
   "source": [
    "$$Y= 5.6001 + 0.0050*runtimeMinutes+ 2.393\\cdot10^{-6}*numVotes -1.298\\cdot10^{-9}*budget -0.3050* isTopActor +0.4255*isTopDirector+0.1547*Animation-0.3236*Fantasy+0.5569*History+0.3109*Music+0.9429*News-0.5451*SciFi+0.3606*Sport+02643*War$$ <br>"
   ]
  },
  {
   "cell_type": "code",
   "execution_count": 77,
   "id": "a5173bc0",
   "metadata": {},
   "outputs": [],
   "source": [
    "# Making predictions on the test set with the model\n",
    "predictions_lr=model_1.predict(test)"
   ]
  },
  {
   "cell_type": "code",
   "execution_count": 78,
   "id": "94d177d9",
   "metadata": {},
   "outputs": [],
   "source": [
    "X_train= train.drop(columns=[\"averageRating\", \"tconst\", \"primaryTitle\", \"originalTitle\", \"startYear\"])\n",
    "y_train=train['averageRating']\n",
    "X_test= test.drop(columns=[\"averageRating\", \"tconst\", \"primaryTitle\", \"originalTitle\", \"startYear\"])\n",
    "y_test=test['averageRating']"
   ]
  },
  {
   "cell_type": "code",
   "execution_count": 79,
   "id": "8fbd3ee9",
   "metadata": {},
   "outputs": [
    {
     "data": {
      "text/html": [
       "<div>\n",
       "<style scoped>\n",
       "    .dataframe tbody tr th:only-of-type {\n",
       "        vertical-align: middle;\n",
       "    }\n",
       "\n",
       "    .dataframe tbody tr th {\n",
       "        vertical-align: top;\n",
       "    }\n",
       "\n",
       "    .dataframe thead th {\n",
       "        text-align: right;\n",
       "    }\n",
       "</style>\n",
       "<table border=\"1\" class=\"dataframe\">\n",
       "  <thead>\n",
       "    <tr style=\"text-align: right;\">\n",
       "      <th></th>\n",
       "      <th>Linear Regression</th>\n",
       "    </tr>\n",
       "  </thead>\n",
       "  <tbody>\n",
       "    <tr>\n",
       "      <th>OSR2</th>\n",
       "      <td>0.106</td>\n",
       "    </tr>\n",
       "  </tbody>\n",
       "</table>\n",
       "</div>"
      ],
      "text/plain": [
       "     Linear Regression\n",
       "OSR2             0.106"
      ]
     },
     "execution_count": 79,
     "metadata": {},
     "output_type": "execute_result"
    }
   ],
   "source": [
    "# Computing OSR2\n",
    "\n",
    "from sklearn.metrics import r2_score,mean_absolute_error\n",
    "\n",
    "comparison={'Linear Regression':['{:.3f}'.format(r2_score(y_test,model_1.predict(test)))]}\n",
    "comparison_data=pd.DataFrame(data=comparison, index=['OSR2'])\n",
    "comparison_data\n"
   ]
  },
  {
   "cell_type": "markdown",
   "id": "dd5d6f85",
   "metadata": {},
   "source": [
    "**CART algorithm**"
   ]
  },
  {
   "cell_type": "code",
   "execution_count": 80,
   "id": "22fff455",
   "metadata": {},
   "outputs": [
    {
     "data": {
      "text/plain": [
       "GridSearchCV(cv=5,\n",
       "             estimator=DecisionTreeRegressor(max_depth=30, min_samples_leaf=5,\n",
       "                                             min_samples_split=20,\n",
       "                                             random_state=88),\n",
       "             param_grid={'ccp_alpha': array([0.    , 0.0005, 0.001 , 0.0015, 0.002 , 0.0025, 0.003 , 0.0035,\n",
       "       0.004 , 0.0045, 0.005 , 0.0055, 0.006 , 0.0065, 0.007 , 0.0075,\n",
       "       0.008 , 0.0085, 0.009 , 0.0095, 0.01  , 0.0105, 0.011 , 0.0115,\n",
       "       0.012 , 0.0125, 0.013 , 0.0135, 0.014 , 0.0145, 0.015 , 0....\n",
       "       0.072 , 0.0725, 0.073 , 0.0735, 0.074 , 0.0745, 0.075 , 0.0755,\n",
       "       0.076 , 0.0765, 0.077 , 0.0775, 0.078 , 0.0785, 0.079 , 0.0795,\n",
       "       0.08  , 0.0805, 0.081 , 0.0815, 0.082 , 0.0825, 0.083 , 0.0835,\n",
       "       0.084 , 0.0845, 0.085 , 0.0855, 0.086 , 0.0865, 0.087 , 0.0875,\n",
       "       0.088 , 0.0885, 0.089 , 0.0895, 0.09  , 0.0905, 0.091 , 0.0915,\n",
       "       0.092 , 0.0925, 0.093 , 0.0935, 0.094 , 0.0945, 0.095 , 0.0955,\n",
       "       0.096 , 0.0965, 0.097 , 0.0975, 0.098 , 0.0985, 0.099 , 0.0995,\n",
       "       0.1   ])},\n",
       "             scoring='r2')"
      ]
     },
     "execution_count": 80,
     "metadata": {},
     "output_type": "execute_result"
    }
   ],
   "source": [
    "from sklearn.model_selection import GridSearchCV\n",
    "from sklearn.tree import DecisionTreeRegressor\n",
    "\n",
    "grid_values = {'ccp_alpha': np.linspace(0, 0.10, 201)}\n",
    "\n",
    "dtr = DecisionTreeRegressor(min_samples_leaf=5, min_samples_split=20, random_state=88,max_depth=30)\n",
    "dtr_cv = GridSearchCV(dtr, param_grid=grid_values, scoring='r2', cv=5, verbose=0)\n",
    "dtr_cv.fit(X_train, y_train)"
   ]
  },
  {
   "cell_type": "code",
   "execution_count": 81,
   "id": "d15ebfa5",
   "metadata": {},
   "outputs": [],
   "source": [
    "ccp_alpha = dtr_cv.cv_results_['param_ccp_alpha'].data\n",
    "R2_scores = dtr_cv.cv_results_['mean_test_score']\n"
   ]
  },
  {
   "cell_type": "code",
   "execution_count": 82,
   "id": "e38522fa",
   "metadata": {},
   "outputs": [
    {
     "data": {
      "image/png": "[encoded data removed]",
      "text/plain": [
       "<Figure size 576x432 with 1 Axes>"
      ]
     },
     "metadata": {
      "needs_background": "light"
     },
     "output_type": "display_data"
    }
   ],
   "source": [
    "plt.figure(figsize=(8, 6))\n",
    "plt.xlabel('ccp_alpha', fontsize=16)\n",
    "plt.ylabel('CV R2', fontsize=16)\n",
    "plt.scatter(ccp_alpha, R2_scores, s=30)\n",
    "plt.plot(ccp_alpha, R2_scores, linewidth=3)\n",
    "plt.grid(True, which='both')\n",
    "plt.xlim([0, 0.055])\n",
    "plt.ylim([0.1, 0.3])\n",
    "\n",
    "plt.tight_layout()\n",
    "plt.show()"
   ]
  },
  {
   "cell_type": "code",
   "execution_count": 83,
   "id": "ef8438eb",
   "metadata": {},
   "outputs": [
    {
     "name": "stdout",
     "output_type": "stream",
     "text": [
      "Best ccp_alpha {'ccp_alpha': 0.003}\n"
     ]
    }
   ],
   "source": [
    "print('Best ccp_alpha', dtr_cv.best_params_)"
   ]
  },
  {
   "cell_type": "code",
   "execution_count": 84,
   "id": "c1a06dd3",
   "metadata": {},
   "outputs": [
    {
     "name": "stdout",
     "output_type": "stream",
     "text": [
      "CV R2: 0.23921\n",
      "OSR2: 0.15322\n"
     ]
    }
   ],
   "source": [
    "from sklearn.metrics import r2_score\n",
    "\n",
    "print('CV R2:', round(dtr_cv.best_score_, 5))\n",
    "print('OSR2:', round(r2_score(y_test, dtr_cv.predict(X_test)), 5))"
   ]
  },
  {
   "cell_type": "markdown",
   "id": "1a7d7890",
   "metadata": {},
   "source": [
    "## Random Forest Regressor"
   ]
  },
  {
   "cell_type": "code",
   "execution_count": 85,
   "id": "0c9e5b9c",
   "metadata": {},
   "outputs": [
    {
     "name": "stdout",
     "output_type": "stream",
     "text": [
      "building tree 1 of 500\n",
      "building tree 2 of 500\n",
      "building tree 3 of 500\n",
      "building tree 4 of 500\n",
      "building tree 5 of 500\n",
      "building tree 6 of 500\n",
      "building tree 7 of 500\n"
     ]
    },
    {
     "name": "stderr",
     "output_type": "stream",
     "text": [
      "[Parallel(n_jobs=1)]: Using backend SequentialBackend with 1 concurrent workers.\n",
      "[Parallel(n_jobs=1)]: Done   1 out of   1 | elapsed:    0.0s remaining:    0.0s\n"
     ]
    },
    {
     "name": "stdout",
     "output_type": "stream",
     "text": [
      "building tree 8 of 500\n",
      "building tree 9 of 500\n",
      "building tree 10 of 500\n",
      "building tree 11 of 500\n",
      "building tree 12 of 500\n",
      "building tree 13 of 500\n",
      "building tree 14 of 500\n",
      "building tree 15 of 500\n",
      "building tree 16 of 500\n",
      "building tree 17 of 500\n",
      "building tree 18 of 500\n",
      "building tree 19 of 500\n",
      "building tree 20 of 500\n",
      "building tree 21 of 500\n",
      "building tree 22 of 500\n",
      "building tree 23 of 500\n",
      "building tree 24 of 500\n",
      "building tree 25 of 500\n",
      "building tree 26 of 500\n",
      "building tree 27 of 500\n",
      "building tree 28 of 500\n",
      "building tree 29 of 500\n",
      "building tree 30 of 500\n",
      "building tree 31 of 500\n",
      "building tree 32 of 500\n",
      "building tree 33 of 500\n",
      "building tree 34 of 500\n",
      "building tree 35 of 500\n",
      "building tree 36 of 500\n",
      "building tree 37 of 500\n",
      "building tree 38 of 500\n",
      "building tree 39 of 500\n",
      "building tree 40 of 500\n",
      "building tree 41 of 500\n",
      "building tree 42 of 500\n",
      "building tree 43 of 500\n",
      "building tree 44 of 500\n",
      "building tree 45 of 500\n",
      "building tree 46 of 500\n",
      "building tree 47 of 500\n",
      "building tree 48 of 500\n",
      "building tree 49 of 500\n",
      "building tree 50 of 500\n",
      "building tree 51 of 500\n",
      "building tree 52 of 500\n",
      "building tree 53 of 500\n",
      "building tree 54 of 500\n",
      "building tree 55 of 500\n",
      "building tree 56 of 500\n",
      "building tree 57 of 500\n",
      "building tree 58 of 500\n",
      "building tree 59 of 500\n",
      "building tree 60 of 500\n",
      "building tree 61 of 500\n",
      "building tree 62 of 500\n",
      "building tree 63 of 500\n",
      "building tree 64 of 500\n",
      "building tree 65 of 500\n",
      "building tree 66 of 500\n",
      "building tree 67 of 500\n",
      "building tree 68 of 500\n",
      "building tree 69 of 500\n",
      "building tree 70 of 500\n",
      "building tree 71 of 500\n",
      "building tree 72 of 500\n",
      "building tree 73 of 500\n",
      "building tree 74 of 500\n",
      "building tree 75 of 500\n",
      "building tree 76 of 500\n",
      "building tree 77 of 500\n",
      "building tree 78 of 500\n",
      "building tree 79 of 500\n",
      "building tree 80 of 500\n",
      "building tree 81 of 500\n",
      "building tree 82 of 500\n",
      "building tree 83 of 500\n",
      "building tree 84 of 500\n",
      "building tree 85 of 500\n",
      "building tree 86 of 500\n",
      "building tree 87 of 500\n",
      "building tree 88 of 500\n",
      "building tree 89 of 500\n",
      "building tree 90 of 500\n",
      "building tree 91 of 500\n",
      "building tree 92 of 500\n",
      "building tree 93 of 500\n",
      "building tree 94 of 500\n",
      "building tree 95 of 500\n",
      "building tree 96 of 500\n",
      "building tree 97 of 500\n",
      "building tree 98 of 500\n",
      "building tree 99 of 500\n",
      "building tree 100 of 500\n",
      "building tree 101 of 500\n",
      "building tree 102 of 500\n",
      "building tree 103 of 500\n",
      "building tree 104 of 500\n",
      "building tree 105 of 500\n",
      "building tree 106 of 500\n",
      "building tree 107 of 500\n",
      "building tree 108 of 500\n",
      "building tree 109 of 500\n",
      "building tree 110 of 500\n",
      "building tree 111 of 500\n",
      "building tree 112 of 500\n",
      "building tree 113 of 500\n",
      "building tree 114 of 500\n",
      "building tree 115 of 500\n",
      "building tree 116 of 500\n",
      "building tree 117 of 500\n",
      "building tree 118 of 500\n",
      "building tree 119 of 500\n",
      "building tree 120 of 500\n",
      "building tree 121 of 500\n",
      "building tree 122 of 500\n",
      "building tree 123 of 500\n",
      "building tree 124 of 500\n",
      "building tree 125 of 500\n",
      "building tree 126 of 500\n",
      "building tree 127 of 500\n",
      "building tree 128 of 500\n",
      "building tree 129 of 500\n",
      "building tree 130 of 500\n",
      "building tree 131 of 500\n",
      "building tree 132 of 500\n",
      "building tree 133 of 500\n",
      "building tree 134 of 500\n",
      "building tree 135 of 500\n",
      "building tree 136 of 500\n",
      "building tree 137 of 500\n",
      "building tree 138 of 500\n",
      "building tree 139 of 500\n",
      "building tree 140 of 500\n",
      "building tree 141 of 500\n",
      "building tree 142 of 500\n",
      "building tree 143 of 500\n",
      "building tree 144 of 500\n",
      "building tree 145 of 500\n",
      "building tree 146 of 500\n",
      "building tree 147 of 500\n",
      "building tree 148 of 500\n",
      "building tree 149 of 500\n",
      "building tree 150 of 500\n",
      "building tree 151 of 500\n",
      "building tree 152 of 500\n",
      "building tree 153 of 500\n",
      "building tree 154 of 500\n",
      "building tree 155 of 500\n",
      "building tree 156 of 500\n",
      "building tree 157 of 500\n",
      "building tree 158 of 500\n",
      "building tree 159 of 500\n",
      "building tree 160 of 500\n",
      "building tree 161 of 500\n",
      "building tree 162 of 500\n",
      "building tree 163 of 500\n",
      "building tree 164 of 500\n",
      "building tree 165 of 500\n",
      "building tree 166 of 500\n",
      "building tree 167 of 500\n",
      "building tree 168 of 500\n",
      "building tree 169 of 500\n",
      "building tree 170 of 500\n",
      "building tree 171 of 500\n",
      "building tree 172 of 500\n",
      "building tree 173 of 500\n",
      "building tree 174 of 500\n",
      "building tree 175 of 500\n",
      "building tree 176 of 500\n",
      "building tree 177 of 500\n",
      "building tree 178 of 500\n",
      "building tree 179 of 500\n",
      "building tree 180 of 500\n",
      "building tree 181 of 500\n",
      "building tree 182 of 500\n",
      "building tree 183 of 500\n",
      "building tree 184 of 500\n",
      "building tree 185 of 500\n",
      "building tree 186 of 500\n",
      "building tree 187 of 500\n",
      "building tree 188 of 500\n",
      "building tree 189 of 500\n",
      "building tree 190 of 500\n",
      "building tree 191 of 500\n",
      "building tree 192 of 500\n",
      "building tree 193 of 500\n",
      "building tree 194 of 500\n",
      "building tree 195 of 500\n",
      "building tree 196 of 500\n",
      "building tree 197 of 500\n",
      "building tree 198 of 500\n",
      "building tree 199 of 500\n",
      "building tree 200 of 500\n",
      "building tree 201 of 500\n",
      "building tree 202 of 500\n",
      "building tree 203 of 500\n",
      "building tree 204 of 500\n",
      "building tree 205 of 500\n",
      "building tree 206 of 500\n",
      "building tree 207 of 500\n",
      "building tree 208 of 500\n",
      "building tree 209 of 500\n",
      "building tree 210 of 500\n",
      "building tree 211 of 500\n",
      "building tree 212 of 500\n",
      "building tree 213 of 500\n",
      "building tree 214 of 500\n",
      "building tree 215 of 500\n",
      "building tree 216 of 500\n",
      "building tree 217 of 500\n",
      "building tree 218 of 500\n",
      "building tree 219 of 500\n",
      "building tree 220 of 500\n",
      "building tree 221 of 500\n",
      "building tree 222 of 500\n",
      "building tree 223 of 500\n",
      "building tree 224 of 500\n",
      "building tree 225 of 500\n",
      "building tree 226 of 500\n",
      "building tree 227 of 500\n",
      "building tree 228 of 500\n",
      "building tree 229 of 500\n",
      "building tree 230 of 500\n",
      "building tree 231 of 500\n",
      "building tree 232 of 500\n",
      "building tree 233 of 500\n",
      "building tree 234 of 500\n",
      "building tree 235 of 500\n",
      "building tree 236 of 500\n",
      "building tree 237 of 500\n",
      "building tree 238 of 500\n",
      "building tree 239 of 500\n",
      "building tree 240 of 500\n",
      "building tree 241 of 500\n",
      "building tree 242 of 500\n",
      "building tree 243 of 500\n",
      "building tree 244 of 500\n",
      "building tree 245 of 500\n",
      "building tree 246 of 500\n",
      "building tree 247 of 500\n",
      "building tree 248 of 500\n",
      "building tree 249 of 500\n",
      "building tree 250 of 500\n",
      "building tree 251 of 500\n",
      "building tree 252 of 500\n",
      "building tree 253 of 500\n",
      "building tree 254 of 500\n",
      "building tree 255 of 500\n",
      "building tree 256 of 500\n",
      "building tree 257 of 500\n",
      "building tree 258 of 500\n",
      "building tree 259 of 500\n",
      "building tree 260 of 500\n",
      "building tree 261 of 500\n",
      "building tree 262 of 500\n",
      "building tree 263 of 500\n",
      "building tree 264 of 500\n",
      "building tree 265 of 500\n",
      "building tree 266 of 500\n",
      "building tree 267 of 500\n",
      "building tree 268 of 500\n",
      "building tree 269 of 500\n",
      "building tree 270 of 500\n",
      "building tree 271 of 500\n",
      "building tree 272 of 500\n",
      "building tree 273 of 500\n",
      "building tree 274 of 500\n",
      "building tree 275 of 500\n",
      "building tree 276 of 500\n",
      "building tree 277 of 500\n",
      "building tree 278 of 500\n",
      "building tree 279 of 500\n",
      "building tree 280 of 500\n",
      "building tree 281 of 500\n",
      "building tree 282 of 500\n",
      "building tree 283 of 500\n",
      "building tree 284 of 500\n",
      "building tree 285 of 500\n",
      "building tree 286 of 500\n",
      "building tree 287 of 500\n",
      "building tree 288 of 500\n",
      "building tree 289 of 500\n",
      "building tree 290 of 500\n",
      "building tree 291 of 500\n",
      "building tree 292 of 500\n",
      "building tree 293 of 500\n",
      "building tree 294 of 500\n",
      "building tree 295 of 500\n",
      "building tree 296 of 500\n",
      "building tree 297 of 500\n",
      "building tree 298 of 500\n",
      "building tree 299 of 500\n",
      "building tree 300 of 500\n",
      "building tree 301 of 500\n",
      "building tree 302 of 500\n",
      "building tree 303 of 500\n",
      "building tree 304 of 500\n",
      "building tree 305 of 500\n",
      "building tree 306 of 500\n",
      "building tree 307 of 500\n",
      "building tree 308 of 500\n",
      "building tree 309 of 500\n",
      "building tree 310 of 500\n",
      "building tree 311 of 500\n",
      "building tree 312 of 500\n",
      "building tree 313 of 500\n",
      "building tree 314 of 500\n",
      "building tree 315 of 500\n",
      "building tree 316 of 500\n",
      "building tree 317 of 500\n",
      "building tree 318 of 500\n",
      "building tree 319 of 500\n",
      "building tree 320 of 500\n",
      "building tree 321 of 500\n",
      "building tree 322 of 500\n",
      "building tree 323 of 500\n",
      "building tree 324 of 500\n",
      "building tree 325 of 500\n",
      "building tree 326 of 500\n",
      "building tree 327 of 500\n",
      "building tree 328 of 500\n",
      "building tree 329 of 500\n",
      "building tree 330 of 500\n",
      "building tree 331 of 500\n",
      "building tree 332 of 500\n",
      "building tree 333 of 500\n",
      "building tree 334 of 500\n",
      "building tree 335 of 500\n",
      "building tree 336 of 500\n",
      "building tree 337 of 500\n",
      "building tree 338 of 500\n",
      "building tree 339 of 500\n",
      "building tree 340 of 500\n",
      "building tree 341 of 500\n",
      "building tree 342 of 500\n",
      "building tree 343 of 500\n",
      "building tree 344 of 500\n",
      "building tree 345 of 500\n",
      "building tree 346 of 500\n",
      "building tree 347 of 500\n",
      "building tree 348 of 500\n",
      "building tree 349 of 500\n",
      "building tree 350 of 500\n",
      "building tree 351 of 500\n",
      "building tree 352 of 500\n",
      "building tree 353 of 500\n",
      "building tree 354 of 500\n",
      "building tree 355 of 500\n",
      "building tree 356 of 500\n",
      "building tree 357 of 500\n",
      "building tree 358 of 500\n",
      "building tree 359 of 500\n",
      "building tree 360 of 500\n",
      "building tree 361 of 500\n",
      "building tree 362 of 500\n",
      "building tree 363 of 500\n",
      "building tree 364 of 500\n",
      "building tree 365 of 500\n",
      "building tree 366 of 500\n",
      "building tree 367 of 500\n",
      "building tree 368 of 500\n",
      "building tree 369 of 500\n",
      "building tree 370 of 500\n",
      "building tree 371 of 500\n",
      "building tree 372 of 500\n",
      "building tree 373 of 500\n",
      "building tree 374 of 500\n",
      "building tree 375 of 500\n",
      "building tree 376 of 500\n",
      "building tree 377 of 500\n",
      "building tree 378 of 500\n",
      "building tree 379 of 500\n",
      "building tree 380 of 500\n",
      "building tree 381 of 500\n",
      "building tree 382 of 500\n",
      "building tree 383 of 500\n",
      "building tree 384 of 500\n",
      "building tree 385 of 500\n",
      "building tree 386 of 500\n",
      "building tree 387 of 500\n",
      "building tree 388 of 500\n",
      "building tree 389 of 500\n",
      "building tree 390 of 500\n",
      "building tree 391 of 500\n",
      "building tree 392 of 500\n",
      "building tree 393 of 500\n",
      "building tree 394 of 500\n",
      "building tree 395 of 500\n",
      "building tree 396 of 500\n",
      "building tree 397 of 500\n",
      "building tree 398 of 500\n",
      "building tree 399 of 500\n",
      "building tree 400 of 500\n",
      "building tree 401 of 500\n",
      "building tree 402 of 500\n",
      "building tree 403 of 500\n",
      "building tree 404 of 500\n",
      "building tree 405 of 500\n",
      "building tree 406 of 500\n",
      "building tree 407 of 500\n",
      "building tree 408 of 500\n",
      "building tree 409 of 500\n",
      "building tree 410 of 500\n",
      "building tree 411 of 500\n",
      "building tree 412 of 500\n",
      "building tree 413 of 500\n",
      "building tree 414 of 500\n",
      "building tree 415 of 500\n",
      "building tree 416 of 500\n",
      "building tree 417 of 500\n",
      "building tree 418 of 500\n",
      "building tree 419 of 500\n",
      "building tree 420 of 500\n",
      "building tree 421 of 500\n",
      "building tree 422 of 500\n",
      "building tree 423 of 500\n",
      "building tree 424 of 500\n",
      "building tree 425 of 500\n",
      "building tree 426 of 500\n",
      "building tree 427 of 500\n",
      "building tree 428 of 500\n",
      "building tree 429 of 500\n",
      "building tree 430 of 500\n",
      "building tree 431 of 500\n",
      "building tree 432 of 500\n",
      "building tree 433 of 500\n",
      "building tree 434 of 500\n",
      "building tree 435 of 500\n",
      "building tree 436 of 500\n",
      "building tree 437 of 500\n",
      "building tree 438 of 500\n",
      "building tree 439 of 500\n",
      "building tree 440 of 500\n",
      "building tree 441 of 500\n",
      "building tree 442 of 500\n",
      "building tree 443 of 500\n",
      "building tree 444 of 500\n",
      "building tree 445 of 500\n",
      "building tree 446 of 500\n",
      "building tree 447 of 500\n",
      "building tree 448 of 500\n",
      "building tree 449 of 500\n",
      "building tree 450 of 500\n",
      "building tree 451 of 500\n",
      "building tree 452 of 500\n",
      "building tree 453 of 500\n",
      "building tree 454 of 500\n",
      "building tree 455 of 500\n",
      "building tree 456 of 500\n",
      "building tree 457 of 500\n",
      "building tree 458 of 500\n",
      "building tree 459 of 500\n",
      "building tree 460 of 500\n",
      "building tree 461 of 500\n",
      "building tree 462 of 500\n",
      "building tree 463 of 500\n",
      "building tree 464 of 500\n",
      "building tree 465 of 500\n",
      "building tree 466 of 500\n",
      "building tree 467 of 500\n",
      "building tree 468 of 500\n",
      "building tree 469 of 500\n",
      "building tree 470 of 500\n",
      "building tree 471 of 500\n",
      "building tree 472 of 500\n",
      "building tree 473 of 500\n",
      "building tree 474 of 500\n",
      "building tree 475 of 500\n",
      "building tree 476 of 500\n",
      "building tree 477 of 500\n",
      "building tree 478 of 500\n",
      "building tree 479 of 500\n",
      "building tree 480 of 500\n",
      "building tree 481 of 500\n",
      "building tree 482 of 500\n",
      "building tree 483 of 500\n",
      "building tree 484 of 500\n",
      "building tree 485 of 500\n",
      "building tree 486 of 500\n",
      "building tree 487 of 500\n",
      "building tree 488 of 500\n",
      "building tree 489 of 500\n",
      "building tree 490 of 500\n",
      "building tree 491 of 500\n",
      "building tree 492 of 500\n",
      "building tree 493 of 500\n",
      "building tree 494 of 500\n",
      "building tree 495 of 500\n",
      "building tree 496 of 500\n",
      "building tree 497 of 500\n",
      "building tree 498 of 500\n",
      "building tree 499 of 500\n",
      "building tree 500 of 500\n"
     ]
    },
    {
     "name": "stderr",
     "output_type": "stream",
     "text": [
      "[Parallel(n_jobs=1)]: Done 500 out of 500 | elapsed:    1.9s finished\n"
     ]
    },
    {
     "data": {
      "text/plain": [
       "RandomForestRegressor(max_features=5, min_samples_leaf=5, n_estimators=500,\n",
       "                      random_state=88, verbose=2)"
      ]
     },
     "execution_count": 85,
     "metadata": {},
     "output_type": "execute_result"
    }
   ],
   "source": [
    "from sklearn.ensemble import RandomForestRegressor\n",
    "\n",
    "rf = RandomForestRegressor(max_features=5, min_samples_leaf=5, n_estimators = 500, random_state=88, verbose=2)\n",
    "rf.fit(X_train, y_train)"
   ]
  },
  {
   "cell_type": "code",
   "execution_count": 86,
   "id": "34d9d6d6",
   "metadata": {},
   "outputs": [
    {
     "name": "stdout",
     "output_type": "stream",
     "text": [
      "OSR2: 0.19589\n"
     ]
    }
   ],
   "source": [
    "rf.verbose = False\n",
    "print('OSR2:', round(r2_score(y_test, rf.predict(X_test)), 5))"
   ]
  },
  {
   "cell_type": "markdown",
   "id": "c607d949",
   "metadata": {},
   "source": [
    "## Random Forest Regressor with CV"
   ]
  },
  {
   "cell_type": "code",
   "execution_count": 87,
   "id": "f3ccbd37",
   "metadata": {},
   "outputs": [
    {
     "name": "stdout",
     "output_type": "stream",
     "text": [
      "time: 230.45 s\n"
     ]
    }
   ],
   "source": [
    "import time\n",
    "\n",
    "grid_values = {'max_features': np.linspace(1,18,18, dtype='int32'),\n",
    "              'min_samples_leaf': [5],\n",
    "              'n_estimators': [500],\n",
    "              'random_state': [88]} \n",
    "\n",
    "tic = time.time()\n",
    "\n",
    "rf = RandomForestRegressor() \n",
    "rf_cv = GridSearchCV(rf, param_grid=grid_values, scoring='r2', cv=5)\n",
    "rf_cv.fit(X_train, y_train)\n",
    "\n",
    "toc = time.time()\n",
    "print('time:', round(toc-tic, 2),'s')"
   ]
  },
  {
   "cell_type": "code",
   "execution_count": 88,
   "id": "d0f62e99",
   "metadata": {},
   "outputs": [
    {
     "data": {
      "text/plain": [
       "array([0.18765855, 0.2387202 , 0.27170524, 0.28899008, 0.29729718,\n",
       "       0.30022914, 0.29933074, 0.29821239, 0.29723262, 0.29861121,\n",
       "       0.29712763, 0.29634251, 0.29538221, 0.29445289, 0.2950953 ,\n",
       "       0.29281602, 0.29250134, 0.29183798])"
      ]
     },
     "execution_count": 88,
     "metadata": {},
     "output_type": "execute_result"
    }
   ],
   "source": [
    "max_features = rf_cv.cv_results_['param_max_features'].data\n",
    "R2_scores = rf_cv.cv_results_['mean_test_score']\n",
    "\n",
    "R2_scores"
   ]
  },
  {
   "cell_type": "code",
   "execution_count": 89,
   "id": "c254adf2",
   "metadata": {},
   "outputs": [
    {
     "data": {
      "text/plain": [
       "(0.1, 0.4)"
      ]
     },
     "execution_count": 89,
     "metadata": {},
     "output_type": "execute_result"
    },
    {
     "data": {
      "image/png": "[encoded data removed]",
      "text/plain": [
       "<Figure size 576x432 with 1 Axes>"
      ]
     },
     "metadata": {
      "needs_background": "light"
     },
     "output_type": "display_data"
    }
   ],
   "source": [
    "plt.figure(figsize=(8, 6))\n",
    "plt.xlabel('max features', fontsize=16)\n",
    "plt.ylabel('CV R2', fontsize=16)\n",
    "plt.scatter(max_features, R2_scores, s=30)\n",
    "plt.plot(max_features, R2_scores, linewidth=3)\n",
    "plt.grid(True, which='both')\n",
    "plt.xlim([1, 19])\n",
    "plt.ylim([0.1, 0.4])"
   ]
  },
  {
   "cell_type": "code",
   "execution_count": 90,
   "id": "fa1f8afa",
   "metadata": {},
   "outputs": [
    {
     "name": "stdout",
     "output_type": "stream",
     "text": [
      "{'max_features': 6, 'min_samples_leaf': 5, 'n_estimators': 500, 'random_state': 88}\n"
     ]
    }
   ],
   "source": [
    "print(rf_cv.best_params_)"
   ]
  },
  {
   "cell_type": "code",
   "execution_count": 91,
   "id": "40c52081",
   "metadata": {},
   "outputs": [
    {
     "name": "stdout",
     "output_type": "stream",
     "text": [
      "CV R2: 0.30023\n",
      "OSR2: 0.1952\n"
     ]
    }
   ],
   "source": [
    "print('CV R2:', round(rf_cv.best_score_, 5))\n",
    "print('OSR2:', round(r2_score(y_test, rf_cv.predict(X_test)), 5))"
   ]
  },
  {
   "cell_type": "markdown",
   "id": "a062b809",
   "metadata": {},
   "source": [
    "### Feature Importance"
   ]
  },
  {
   "cell_type": "code",
   "execution_count": 92,
   "id": "5c256686",
   "metadata": {},
   "outputs": [
    {
     "data": {
      "text/html": [
       "<div>\n",
       "<style scoped>\n",
       "    .dataframe tbody tr th:only-of-type {\n",
       "        vertical-align: middle;\n",
       "    }\n",
       "\n",
       "    .dataframe tbody tr th {\n",
       "        vertical-align: top;\n",
       "    }\n",
       "\n",
       "    .dataframe thead th {\n",
       "        text-align: right;\n",
       "    }\n",
       "</style>\n",
       "<table border=\"1\" class=\"dataframe\">\n",
       "  <thead>\n",
       "    <tr style=\"text-align: right;\">\n",
       "      <th></th>\n",
       "      <th>Feature</th>\n",
       "      <th>Importance score</th>\n",
       "    </tr>\n",
       "  </thead>\n",
       "  <tbody>\n",
       "    <tr>\n",
       "      <th>0</th>\n",
       "      <td>runtimeMinutes</td>\n",
       "      <td>21.8</td>\n",
       "    </tr>\n",
       "    <tr>\n",
       "      <th>1</th>\n",
       "      <td>Animation</td>\n",
       "      <td>0.7</td>\n",
       "    </tr>\n",
       "    <tr>\n",
       "      <th>2</th>\n",
       "      <td>Fantasy</td>\n",
       "      <td>0.6</td>\n",
       "    </tr>\n",
       "    <tr>\n",
       "      <th>3</th>\n",
       "      <td>GameShow</td>\n",
       "      <td>0.0</td>\n",
       "    </tr>\n",
       "    <tr>\n",
       "      <th>4</th>\n",
       "      <td>History</td>\n",
       "      <td>0.7</td>\n",
       "    </tr>\n",
       "    <tr>\n",
       "      <th>5</th>\n",
       "      <td>Music</td>\n",
       "      <td>0.2</td>\n",
       "    </tr>\n",
       "    <tr>\n",
       "      <th>6</th>\n",
       "      <td>Musical</td>\n",
       "      <td>0.0</td>\n",
       "    </tr>\n",
       "    <tr>\n",
       "      <th>7</th>\n",
       "      <td>News</td>\n",
       "      <td>0.0</td>\n",
       "    </tr>\n",
       "    <tr>\n",
       "      <th>8</th>\n",
       "      <td>SciFi</td>\n",
       "      <td>1.5</td>\n",
       "    </tr>\n",
       "    <tr>\n",
       "      <th>9</th>\n",
       "      <td>Sport</td>\n",
       "      <td>0.2</td>\n",
       "    </tr>\n",
       "    <tr>\n",
       "      <th>10</th>\n",
       "      <td>War</td>\n",
       "      <td>0.1</td>\n",
       "    </tr>\n",
       "    <tr>\n",
       "      <th>11</th>\n",
       "      <td>Western</td>\n",
       "      <td>0.0</td>\n",
       "    </tr>\n",
       "    <tr>\n",
       "      <th>12</th>\n",
       "      <td>numVotes</td>\n",
       "      <td>36.4</td>\n",
       "    </tr>\n",
       "    <tr>\n",
       "      <th>13</th>\n",
       "      <td>budget</td>\n",
       "      <td>12.5</td>\n",
       "    </tr>\n",
       "    <tr>\n",
       "      <th>14</th>\n",
       "      <td>revenue</td>\n",
       "      <td>11.4</td>\n",
       "    </tr>\n",
       "    <tr>\n",
       "      <th>15</th>\n",
       "      <td>isTopActor</td>\n",
       "      <td>1.5</td>\n",
       "    </tr>\n",
       "    <tr>\n",
       "      <th>16</th>\n",
       "      <td>isTopDirector</td>\n",
       "      <td>6.0</td>\n",
       "    </tr>\n",
       "    <tr>\n",
       "      <th>17</th>\n",
       "      <td>yearsSinceProduced</td>\n",
       "      <td>6.2</td>\n",
       "    </tr>\n",
       "  </tbody>\n",
       "</table>\n",
       "</div>"
      ],
      "text/plain": [
       "               Feature  Importance score\n",
       "0       runtimeMinutes              21.8\n",
       "1            Animation               0.7\n",
       "2              Fantasy               0.6\n",
       "3             GameShow               0.0\n",
       "4              History               0.7\n",
       "5                Music               0.2\n",
       "6              Musical               0.0\n",
       "7                 News               0.0\n",
       "8                SciFi               1.5\n",
       "9                Sport               0.2\n",
       "10                 War               0.1\n",
       "11             Western               0.0\n",
       "12            numVotes              36.4\n",
       "13              budget              12.5\n",
       "14             revenue              11.4\n",
       "15          isTopActor               1.5\n",
       "16       isTopDirector               6.0\n",
       "17  yearsSinceProduced               6.2"
      ]
     },
     "execution_count": 92,
     "metadata": {},
     "output_type": "execute_result"
    }
   ],
   "source": [
    "pd.DataFrame({'Feature' : X_train.columns, \n",
    "              'Importance score': 100*rf_cv.best_estimator_.feature_importances_}).round(1)"
   ]
  },
  {
   "cell_type": "code",
   "execution_count": 93,
   "id": "4db382a1",
   "metadata": {},
   "outputs": [
    {
     "data": {
      "image/png": "[encoded data removed]",
      "text/plain": [
       "<Figure size 576x504 with 1 Axes>"
      ]
     },
     "metadata": {
      "needs_background": "light"
     },
     "output_type": "display_data"
    }
   ],
   "source": [
    "plt.figure(figsize=(8,7))\n",
    "plt.barh(X_train.columns, 100*rf_cv.best_estimator_.feature_importances_)\n",
    "plt.show()"
   ]
  },
  {
   "cell_type": "markdown",
   "id": "00fdc578",
   "metadata": {},
   "source": [
    "## Gradient Boosting Regressor"
   ]
  },
  {
   "cell_type": "code",
   "execution_count": 94,
   "id": "8abe692e",
   "metadata": {},
   "outputs": [
    {
     "name": "stdout",
     "output_type": "stream",
     "text": [
      "      Iter       Train Loss   Remaining Time \n",
      "         1           1.3927            9.81s\n",
      "         2           1.3921            9.83s\n",
      "         3           1.3916           10.25s\n",
      "         4           1.3911           10.31s\n",
      "         5           1.3905           10.14s\n",
      "         6           1.3900            9.99s\n",
      "         7           1.3894            9.91s\n",
      "         8           1.3889            9.83s\n",
      "         9           1.3884            9.78s\n",
      "        10           1.3878            9.76s\n",
      "        20           1.3825            9.50s\n",
      "        30           1.3773            9.37s\n",
      "        40           1.3721            9.28s\n",
      "        50           1.3671            9.22s\n",
      "        60           1.3621            9.18s\n",
      "        70           1.3573            9.13s\n",
      "        80           1.3525            9.08s\n",
      "        90           1.3478            9.03s\n",
      "       100           1.3432            9.00s\n",
      "       200           1.3011            8.50s\n",
      "       300           1.2653            7.99s\n",
      "       400           1.2333            7.49s\n",
      "       500           1.2056            7.00s\n",
      "       600           1.1815            6.53s\n",
      "       700           1.1609            6.06s\n",
      "       800           1.1431            5.59s\n",
      "       900           1.1276            5.12s\n",
      "      1000           1.1139            4.65s\n",
      "      2000           1.0278            0.00s\n"
     ]
    },
    {
     "data": {
      "text/plain": [
       "GradientBoostingRegressor(learning_rate=0.001, max_leaf_nodes=10,\n",
       "                          n_estimators=2000, random_state=88, verbose=1)"
      ]
     },
     "execution_count": 94,
     "metadata": {},
     "output_type": "execute_result"
    }
   ],
   "source": [
    "from sklearn.ensemble import GradientBoostingRegressor\n",
    "\n",
    "gbr = GradientBoostingRegressor(n_estimators=2000, learning_rate= 0.001, random_state=88, verbose=1,\n",
    "                                max_leaf_nodes=10) \n",
    "gbr.fit(X_train, y_train)"
   ]
  },
  {
   "cell_type": "code",
   "execution_count": 95,
   "id": "143f7ed4",
   "metadata": {},
   "outputs": [
    {
     "name": "stdout",
     "output_type": "stream",
     "text": [
      "OSR2: 0.1652\n"
     ]
    }
   ],
   "source": [
    "print('OSR2:', round(r2_score(y_test, gbr.predict(X_test)), 5))"
   ]
  },
  {
   "cell_type": "markdown",
   "id": "c1837499",
   "metadata": {},
   "source": [
    "## Gradient Boosting Regressor with CV"
   ]
  },
  {
   "cell_type": "code",
   "execution_count": null,
   "id": "d076bba4",
   "metadata": {},
   "outputs": [],
   "source": [
    "grid_values = {'max_leaf_nodes': np.linspace(2, 10, 9, dtype='int32'),\n",
    "               'min_samples_leaf': [10],\n",
    "               'n_estimators': np.logspace(9, 16, num=8, base=2, dtype='int32'),\n",
    "               'learning_rate': [0.01],\n",
    "               'random_state': [88]}\n",
    "\n",
    "tic = time.time()\n",
    "\n",
    "gbr = GradientBoostingRegressor()\n",
    "gbr_cv = GridSearchCV(gbr, param_grid=grid_values, scoring='r2', cv=5)\n",
    "gbr_cv.fit(X_train, y_train)\n",
    "\n",
    "toc = time.time()\n",
    "print('time:', round(toc-tic, 2),'s')"
   ]
  },
  {
   "cell_type": "code",
   "execution_count": null,
   "id": "5fc184a3",
   "metadata": {},
   "outputs": [],
   "source": [
    "n_estimators = gbr_cv.cv_results_['param_n_estimators'].data\n",
    "R2_scores = gbr_cv.cv_results_['mean_test_score']"
   ]
  },
  {
   "cell_type": "code",
   "execution_count": null,
   "id": "0159dea5",
   "metadata": {},
   "outputs": [],
   "source": [
    "plt.figure(figsize=(12, 8))\n",
    "plt.xlabel('n estimators', fontsize=16)\n",
    "plt.ylabel('CV R2', fontsize=16)\n",
    "plt.grid(True, which='both')\n",
    "\n",
    "N = len(grid_values['max_leaf_nodes'])\n",
    "M = len(grid_values['n_estimators'])\n",
    "for i in range(N):\n",
    "    plt.scatter(n_estimators[(M*i):(M*i)+M], R2_scores[(M*i):(M*i)+M], s=30)\n",
    "    plt.plot(n_estimators[(M*i):(M*i)+M], R2_scores[(M*i):(M*i)+M], linewidth=2,\n",
    "             label='max leaf nodes = '+str(grid_values['max_leaf_nodes'][i]))\n",
    "plt.legend(loc='lower right')\n",
    "plt.show()"
   ]
  },
  {
   "cell_type": "code",
   "execution_count": null,
   "id": "31f353e2",
   "metadata": {},
   "outputs": [],
   "source": [
    "print(gbr_cv.best_params_)"
   ]
  },
  {
   "cell_type": "code",
   "execution_count": null,
   "id": "2214ba6a",
   "metadata": {},
   "outputs": [],
   "source": [
    "print('CV R2:', round(gbr_cv.best_score_, 5))\n",
    "print('OSR2:', round(r2_score(y_test, gbr_cv.predict(X_test)), 5))"
   ]
  },
  {
   "cell_type": "code",
   "execution_count": null,
   "id": "ad93611c",
   "metadata": {},
   "outputs": [],
   "source": [
    "pd.DataFrame({'Feature' : X_train.columns, \n",
    "              'Importance score': 100*gbr_cv.best_estimator_.feature_importances_}).round(1)"
   ]
  },
  {
   "cell_type": "code",
   "execution_count": null,
   "id": "88e3aa4b",
   "metadata": {},
   "outputs": [],
   "source": [
    "plt.figure(figsize=(8,7))\n",
    "plt.barh(X_train.columns, 100*gbr_cv.best_estimator_.feature_importances_)\n",
    "plt.show()"
   ]
  },
  {
   "cell_type": "code",
   "execution_count": null,
   "id": "b53faf31",
   "metadata": {},
   "outputs": [],
   "source": [
    "from sklearn.metrics import mean_squared_error\n",
    "from sklearn.metrics import mean_absolute_error"
   ]
  },
  {
   "cell_type": "code",
   "execution_count": null,
   "id": "952699a8",
   "metadata": {},
   "outputs": [],
   "source": [
    "comparison_data = {'Linear Regression': ['{:.3f}'.format(r2_score(y_test, model_1.predict(X_test))),\n",
    "                                         '{:.4f}'.format(mean_squared_error(y_test, model_1.predict(X_test))),\n",
    "                                         '{:.3f}'.format(mean_absolute_error(y_test, model_1.predict(X_test)))],\n",
    "                   'Decision Tree Regressor': ['{:.3f}'.format(r2_score(y_test, dtr_cv.predict(X_test))),\n",
    "                                               '{:.4f}'.format(mean_squared_error(y_test, dtr_cv.predict(X_test))),\n",
    "                                               '{:.3f}'.format(mean_absolute_error(y_test, dtr_cv.predict(X_test)))],\n",
    "                   'Random Forest': ['{:.3f}'.format(r2_score(y_test, rf_cv.predict(X_test))),\n",
    "                                     '{:.4f}'.format(mean_squared_error(y_test, rf_cv.predict(X_test))),\n",
    "                                     '{:.3f}'.format(mean_absolute_error(y_test, rf_cv.predict(X_test)))], \n",
    "                   'Gradient Boosted Trees': ['{:.3f}'.format(r2_score(y_test, gbr_cv.predict(X_test))),\n",
    "                                              '{:.4f}'.format(mean_squared_error(y_test, gbr_cv.predict(X_test))),\n",
    "                                              '{:.3f}'.format(mean_absolute_error(y_test, gbr_cv.predict(X_test)))]}\n",
    "\n",
    "comparison_table = pd.DataFrame(data=comparison_data, index=['OSR2', 'Out-of-sample MSE', 'Out-of-sample MAE'])\n",
    "comparison_table.style.set_properties(**{'font-size': '14pt',}).set_table_styles([{'selector': 'th', 'props': [('font-size', '12pt')]}])"
   ]
  },
  {
   "cell_type": "code",
   "execution_count": null,
   "id": "bce486b9",
   "metadata": {},
   "outputs": [],
   "source": [
    "comparison_table=comparison_table.transpose()\n",
    "comparison_table"
   ]
  },
  {
   "cell_type": "markdown",
   "id": "aa7d0d55",
   "metadata": {},
   "source": [
    "**Bootstrap**"
   ]
  },
  {
   "cell_type": "code",
   "execution_count": null,
   "id": "92368c98",
   "metadata": {},
   "outputs": [],
   "source": [
    "import numpy as np\n",
    "import bootstrapped.bootstrap as bs\n",
    "import bootstrapped.stats_functions as bs_stats"
   ]
  },
  {
   "cell_type": "code",
   "execution_count": null,
   "id": "2ba249ee",
   "metadata": {},
   "outputs": [],
   "source": [
    "def OS_R_squared(predictions, y_test,y_train):\n",
    "    SSE = np.sum((y_test-predictions)**2)\n",
    "    SST = np.sum((y_test-np.mean(y_train))**2)\n",
    "    r2 = 1-SSE/SST\n",
    "    return r2"
   ]
  },
  {
   "cell_type": "code",
   "execution_count": null,
   "id": "392f384b",
   "metadata": {},
   "outputs": [],
   "source": [
    "def boostrap_validation(test_data, test_label, train_label, model, metrics_list, sample=500, random_state=66):\n",
    "    n_sample = sample\n",
    "    n_metrics = len(metrics_list)\n",
    "    output_array=np.zeros([n_sample, n_metrics])\n",
    "    output_array[:]=np.nan\n",
    "    print(output_array.shape)\n",
    "    for bs_iter in range(n_sample):\n",
    "        bs_index = np.random.choice(test_data.index, len(test_data.index), replace=True)\n",
    "        bs_data = test_data.loc[bs_index]\n",
    "        bs_label = test_label.loc[bs_index]\n",
    "        bs_predicted = model.predict(bs_data)\n",
    "        for metrics_iter in range(n_metrics):\n",
    "            metrics = metrics_list[metrics_iter]\n",
    "            output_array[bs_iter, metrics_iter]=metrics(bs_predicted,bs_label,train_label)\n",
    "    output_df = pd.DataFrame(output_array)\n",
    "    return output_df"
   ]
  },
  {
   "cell_type": "code",
   "execution_count": null,
   "id": "e9abe5e6",
   "metadata": {},
   "outputs": [],
   "source": [
    "# Visualization\n",
    "def boostrap_plot(boostrap,model_osr2, y_test):\n",
    "    fig, axs = plt.subplots(ncols=2, figsize=(12,5))\n",
    "    axs[0].set_xlabel('Bootstrap Accuracy Estimate', fontsize=16)\n",
    "    axs[1].set_xlabel('Boot accuracy- Test Set accuracy', fontsize=16)\n",
    "    axs[0].set_ylabel('Count', fontsize=16)\n",
    "    axs[0].hist(boostrap.iloc[:,0], bins=20,edgecolor='blue', linewidth=2,color = \"yellow\")\n",
    "    \n",
    "    axs[1].hist(boostrap.iloc[:,0]-model_osr2, bins=20,edgecolor='blue', linewidth=2,color = \"yellow\")\n",
    "    \n",
    "    CI= np.quantile(boostrap.iloc[:,0]-model_osr2,np.array([0.025,0.975]))\n",
    "    axs[1].vlines(x=CI[0], ymin = 0, ymax =800, color = \"black\")\n",
    "    axs[1].vlines(x=CI[1], ymin = 0, ymax =800, color = \"black\")\n",
    "\n",
    "def bias(boostrap,model_osr2):\n",
    "    return boostrap.mean()-model_osr2\n",
    "\n",
    "def variance(boostrap,model_osr2):\n",
    "    return np.mean((boostrap.mean()-model_osr2)**2)\n",
    "\n",
    "def performance_model(boostrap,model_osr2,model_name=''):\n",
    "    CI= np.quantile(boostrap.iloc[:,0],np.array([0.025,0.975]))\n",
    "    return pd.DataFrame({'OSR2':model_osr2,\n",
    "                        'Bias': float(bias(boostrap,model_osr2)),\n",
    "                        'Variance':float(variance(boostrap,model_osr2)),\n",
    "                        'CI Lower Bound': CI[0],\n",
    "                        'CI Upper Bound':CI[1]},\n",
    "                       index=[model_name])"
   ]
  },
  {
   "cell_type": "code",
   "execution_count": null,
   "id": "318919d3",
   "metadata": {},
   "outputs": [],
   "source": [
    "bs_lr=boostrap_validation(X_test,y_test,y_train,model_1,metrics_list=[OS_R_squared],sample = 5000)\n",
    "lr_perf=performance_model(bs_lr,r2_score(y_test, model_1.predict(X_test)),model_name='Linear regression')"
   ]
  },
  {
   "cell_type": "code",
   "execution_count": null,
   "id": "8e6def82",
   "metadata": {},
   "outputs": [],
   "source": [
    "lr_perf"
   ]
  },
  {
   "cell_type": "code",
   "execution_count": null,
   "id": "3308eba8",
   "metadata": {},
   "outputs": [],
   "source": [
    "bs_cart=boostrap_validation(X_test,y_test,y_train,dtr_cv,metrics_list=[OS_R_squared],sample = 5000)\n",
    "cart_perf=performance_model(bs_cart,r2_score(y_test, dtr_cv.predict(X_test)),model_name='CART')"
   ]
  },
  {
   "cell_type": "code",
   "execution_count": null,
   "id": "fcf493e7",
   "metadata": {},
   "outputs": [],
   "source": [
    "bs_rf=boostrap_validation(X_test,y_test,y_train,rf_cv,metrics_list=[OS_R_squared],sample = 5000)\n",
    "rf_perf=performance_model(bs_rf,r2_score(y_test, rf_cv.predict(X_test)),model_name='Random Forest')"
   ]
  },
  {
   "cell_type": "code",
   "execution_count": null,
   "id": "bbd8b547",
   "metadata": {},
   "outputs": [],
   "source": [
    "bs_gb=boostrap_validation(X_test,y_test,y_train,gbr_cv,metrics_list=[OS_R_squared],sample = 5000)\n",
    "gb_perf=performance_model(bs_gb,r2_score(y_test, rf_cv.predict(X_test)),model_name='Gradient Boosting')"
   ]
  },
  {
   "cell_type": "code",
   "execution_count": null,
   "id": "ff08af44",
   "metadata": {},
   "outputs": [],
   "source": [
    "bs_results=pd.concat([lr_perf,cart_perf,rf_perf,gb_perf])\n",
    "bs_results"
   ]
  },
  {
   "cell_type": "code",
   "execution_count": null,
   "id": "27ab2483",
   "metadata": {},
   "outputs": [],
   "source": [
    "indexes=[]\n",
    "for index,row in bs_results.iterrows():\n",
    "    indexes.append(index)\n",
    "    plt.plot((row['CI Lower Bound'],row['CI Upper Bound']),(index,index),'ro-',color='blue')\n",
    "plt.yticks(range(len(indexes)),indexes)     \n",
    "plt.title('OSR2 with 95% confidence interval')"
   ]
  },
  {
   "cell_type": "code",
   "execution_count": null,
   "id": "b2bd9013",
   "metadata": {},
   "outputs": [],
   "source": [
    "\n",
    "\n",
    "indexes = []\n",
    "for index, row in bs_results.iterrows():\n",
    "    indexes.append(index)\n",
    "\n",
    "    plt.plot((row['CI Lower Bound'],row['CI Upper Bound']),(index,index),'ro-',color='white')\n",
    "plt.yticks(range(len(indexes)), indexes)\n",
    "plt.title('Model OSR2 with 95% confidence intervals')"
   ]
  },
  {
   "cell_type": "code",
   "execution_count": null,
   "id": "b3994325",
   "metadata": {},
   "outputs": [],
   "source": []
  }
 ],
 "metadata": {
  "kernelspec": {
   "display_name": "Python 3",
   "language": "python",
   "name": "python3"
  },
  "language_info": {
   "codemirror_mode": {
    "name": "ipython",
    "version": 3
   },
   "file_extension": ".py",
   "mimetype": "text/x-python",
   "name": "python",
   "nbconvert_exporter": "python",
   "pygments_lexer": "ipython3",
   "version": "3.9.7"
  }
 },
 "nbformat": 4,
 "nbformat_minor": 5
}
