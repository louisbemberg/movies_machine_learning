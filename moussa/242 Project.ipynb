{
 "cells": [
  {
   "cell_type": "code",
   "execution_count": 1,
   "id": "3d176167",
   "metadata": {},
   "outputs": [],
   "source": [
    "import numpy as np\n",
    "import pandas as pd\n",
    "import csv"
   ]
  },
  {
   "cell_type": "code",
   "execution_count": 2,
   "id": "a6df74d5",
   "metadata": {},
   "outputs": [
    {
     "name": "stderr",
     "output_type": "stream",
     "text": [
      "/opt/anaconda3/lib/python3.8/site-packages/IPython/core/interactiveshell.py:3165: DtypeWarning: Columns (7) have mixed types.Specify dtype option on import or set low_memory=False.\n",
      "  has_raised = await self.run_ast_nodes(code_ast.body, cell_name,\n"
     ]
    }
   ],
   "source": [
    "title_akas = pd.read_csv(\"title_akas.tsv\", sep='\\t')"
   ]
  },
  {
   "cell_type": "code",
   "execution_count": 6,
   "id": "24576bad",
   "metadata": {},
   "outputs": [],
   "source": [
    "us_movies=title_akas[title_akas['region']=='US']"
   ]
  },
  {
   "cell_type": "code",
   "execution_count": 9,
   "id": "4fa67ee5",
   "metadata": {},
   "outputs": [],
   "source": [
    "usMoviesID=us_movies['titleId']"
   ]
  },
  {
   "cell_type": "code",
   "execution_count": 11,
   "id": "779832f2",
   "metadata": {},
   "outputs": [
    {
     "name": "stderr",
     "output_type": "stream",
     "text": [
      "/opt/anaconda3/lib/python3.8/site-packages/IPython/core/interactiveshell.py:3165: DtypeWarning: Columns (4,5) have mixed types.Specify dtype option on import or set low_memory=False.\n",
      "  has_raised = await self.run_ast_nodes(code_ast.body, cell_name,\n"
     ]
    }
   ],
   "source": [
    "title_basics = pd.read_csv(\"title_basics.tsv\", sep='\\t')"
   ]
  },
  {
   "cell_type": "code",
   "execution_count": 50,
   "id": "99286dff",
   "metadata": {},
   "outputs": [],
   "source": [
    "titleBasicsUS = title_basics[title_basics['tconst'].isin(usMoviesID)]"
   ]
  },
  {
   "cell_type": "code",
   "execution_count": 55,
   "id": "3592013e",
   "metadata": {},
   "outputs": [],
   "source": [
    "longUsMovies = titleBasicsUS[titleBasicsUS['titleType']=='movie']\n",
    "df = longUsMovies['startYear'].apply(pd.to_numeric, errors='coerce')\n",
    "longUsMovies = longUsMovies.assign(startYear = df)\n",
    "LongUsMoviesWoNa = longUsMovies.dropna(axis = 0, subset = ['startYear'])"
   ]
  },
  {
   "cell_type": "code",
   "execution_count": 62,
   "id": "7827ede5",
   "metadata": {},
   "outputs": [
    {
     "data": {
      "text/plain": [
       "147279"
      ]
     },
     "execution_count": 62,
     "metadata": {},
     "output_type": "execute_result"
    }
   ],
   "source": [
    "movieSelection = LongUsMoviesWoNa[LongUsMoviesWoNa['startYear'] > 1990]\n",
    "len(recentLongUsMoviesWoNa)"
   ]
  },
  {
   "cell_type": "code",
   "execution_count": 63,
   "id": "c67a100d",
   "metadata": {},
   "outputs": [
    {
     "data": {
      "text/plain": [
       "34805      tt0035423\n",
       "35545      tt0036177\n",
       "61123      tt0062336\n",
       "64097      tt0065392\n",
       "67676      tt0069049\n",
       "             ...    \n",
       "8462828    tt9915872\n",
       "8462968    tt9916170\n",
       "8462977    tt9916190\n",
       "8463061    tt9916362\n",
       "8463093    tt9916428\n",
       "Name: tconst, Length: 147279, dtype: object"
      ]
     },
     "execution_count": 63,
     "metadata": {},
     "output_type": "execute_result"
    }
   ],
   "source": [
    "movieSelection['tconst']"
   ]
  },
  {
   "cell_type": "code",
   "execution_count": 65,
   "id": "ff4aaa5f",
   "metadata": {},
   "outputs": [],
   "source": [
    "title_crew = pd.read_csv(\"title_crew.tsv\", sep='\\t')"
   ]
  },
  {
   "cell_type": "code",
   "execution_count": 72,
   "id": "83aea242",
   "metadata": {},
   "outputs": [
    {
     "data": {
      "text/html": [
       "<div>\n",
       "<style scoped>\n",
       "    .dataframe tbody tr th:only-of-type {\n",
       "        vertical-align: middle;\n",
       "    }\n",
       "\n",
       "    .dataframe tbody tr th {\n",
       "        vertical-align: top;\n",
       "    }\n",
       "\n",
       "    .dataframe thead th {\n",
       "        text-align: right;\n",
       "    }\n",
       "</style>\n",
       "<table border=\"1\" class=\"dataframe\">\n",
       "  <thead>\n",
       "    <tr style=\"text-align: right;\">\n",
       "      <th></th>\n",
       "      <th>tconst</th>\n",
       "      <th>directors</th>\n",
       "      <th>writers</th>\n",
       "    </tr>\n",
       "  </thead>\n",
       "  <tbody>\n",
       "    <tr>\n",
       "      <th>34805</th>\n",
       "      <td>tt0035423</td>\n",
       "      <td>nm0003506</td>\n",
       "      <td>nm0737216,nm0003506</td>\n",
       "    </tr>\n",
       "    <tr>\n",
       "      <th>35545</th>\n",
       "      <td>tt0036177</td>\n",
       "      <td>nm0408348</td>\n",
       "      <td>nm0411632,nm0412616</td>\n",
       "    </tr>\n",
       "    <tr>\n",
       "      <th>61123</th>\n",
       "      <td>tt0062336</td>\n",
       "      <td>nm0749914,nm0765384</td>\n",
       "      <td>nm0749914,nm1146177</td>\n",
       "    </tr>\n",
       "    <tr>\n",
       "      <th>64097</th>\n",
       "      <td>tt0065392</td>\n",
       "      <td>nm12030369,nm0300168,nm12030368</td>\n",
       "      <td>\\N</td>\n",
       "    </tr>\n",
       "    <tr>\n",
       "      <th>67676</th>\n",
       "      <td>tt0069049</td>\n",
       "      <td>nm0000080</td>\n",
       "      <td>nm0000080,nm0462648</td>\n",
       "    </tr>\n",
       "    <tr>\n",
       "      <th>...</th>\n",
       "      <td>...</td>\n",
       "      <td>...</td>\n",
       "      <td>...</td>\n",
       "    </tr>\n",
       "    <tr>\n",
       "      <th>8462828</th>\n",
       "      <td>tt9915872</td>\n",
       "      <td>nm8063415</td>\n",
       "      <td>nm2507310</td>\n",
       "    </tr>\n",
       "    <tr>\n",
       "      <th>8462968</th>\n",
       "      <td>tt9916170</td>\n",
       "      <td>nm5412267</td>\n",
       "      <td>nm5412267,nm6743460,nm3245789</td>\n",
       "    </tr>\n",
       "    <tr>\n",
       "      <th>8462977</th>\n",
       "      <td>tt9916190</td>\n",
       "      <td>nm7308376</td>\n",
       "      <td>nm7308376</td>\n",
       "    </tr>\n",
       "    <tr>\n",
       "      <th>8463061</th>\n",
       "      <td>tt9916362</td>\n",
       "      <td>nm1893148</td>\n",
       "      <td>nm1893148,nm3471432</td>\n",
       "    </tr>\n",
       "    <tr>\n",
       "      <th>8463093</th>\n",
       "      <td>tt9916428</td>\n",
       "      <td>nm0910951</td>\n",
       "      <td>\\N</td>\n",
       "    </tr>\n",
       "  </tbody>\n",
       "</table>\n",
       "<p>147279 rows × 3 columns</p>\n",
       "</div>"
      ],
      "text/plain": [
       "            tconst                        directors  \\\n",
       "34805    tt0035423                        nm0003506   \n",
       "35545    tt0036177                        nm0408348   \n",
       "61123    tt0062336              nm0749914,nm0765384   \n",
       "64097    tt0065392  nm12030369,nm0300168,nm12030368   \n",
       "67676    tt0069049                        nm0000080   \n",
       "...            ...                              ...   \n",
       "8462828  tt9915872                        nm8063415   \n",
       "8462968  tt9916170                        nm5412267   \n",
       "8462977  tt9916190                        nm7308376   \n",
       "8463061  tt9916362                        nm1893148   \n",
       "8463093  tt9916428                        nm0910951   \n",
       "\n",
       "                               writers  \n",
       "34805              nm0737216,nm0003506  \n",
       "35545              nm0411632,nm0412616  \n",
       "61123              nm0749914,nm1146177  \n",
       "64097                               \\N  \n",
       "67676              nm0000080,nm0462648  \n",
       "...                                ...  \n",
       "8462828                      nm2507310  \n",
       "8462968  nm5412267,nm6743460,nm3245789  \n",
       "8462977                      nm7308376  \n",
       "8463061            nm1893148,nm3471432  \n",
       "8463093                             \\N  \n",
       "\n",
       "[147279 rows x 3 columns]"
      ]
     },
     "execution_count": 72,
     "metadata": {},
     "output_type": "execute_result"
    }
   ],
   "source": [
    "title_crew = title_crew[title_crew['tconst'].isin(movieSelection['tconst'])]\n",
    "title_crew"
   ]
  },
  {
   "cell_type": "code",
   "execution_count": 69,
   "id": "dfcee4d0",
   "metadata": {},
   "outputs": [],
   "source": [
    "title_principals = pd.read_csv(\"title_principals.tsv\", sep='\\t')"
   ]
  },
  {
   "cell_type": "code",
   "execution_count": 70,
   "id": "5709688d",
   "metadata": {},
   "outputs": [
    {
     "data": {
      "text/plain": [
       "1160451"
      ]
     },
     "execution_count": 70,
     "metadata": {},
     "output_type": "execute_result"
    }
   ],
   "source": [
    "title_principals = title_principals[title_principals['tconst'].isin(movieSelection['tconst'])]\n",
    "len(title_principals)"
   ]
  },
  {
   "cell_type": "code",
   "execution_count": 71,
   "id": "cf1be5c7",
   "metadata": {},
   "outputs": [
    {
     "data": {
      "text/html": [
       "<div>\n",
       "<style scoped>\n",
       "    .dataframe tbody tr th:only-of-type {\n",
       "        vertical-align: middle;\n",
       "    }\n",
       "\n",
       "    .dataframe tbody tr th {\n",
       "        vertical-align: top;\n",
       "    }\n",
       "\n",
       "    .dataframe thead th {\n",
       "        text-align: right;\n",
       "    }\n",
       "</style>\n",
       "<table border=\"1\" class=\"dataframe\">\n",
       "  <thead>\n",
       "    <tr style=\"text-align: right;\">\n",
       "      <th></th>\n",
       "      <th>tconst</th>\n",
       "      <th>ordering</th>\n",
       "      <th>nconst</th>\n",
       "      <th>category</th>\n",
       "      <th>job</th>\n",
       "      <th>characters</th>\n",
       "    </tr>\n",
       "  </thead>\n",
       "  <tbody>\n",
       "    <tr>\n",
       "      <th>282230</th>\n",
       "      <td>tt0035423</td>\n",
       "      <td>10</td>\n",
       "      <td>nm0107463</td>\n",
       "      <td>editor</td>\n",
       "      <td>\\N</td>\n",
       "      <td>\\N</td>\n",
       "    </tr>\n",
       "    <tr>\n",
       "      <th>282231</th>\n",
       "      <td>tt0035423</td>\n",
       "      <td>1</td>\n",
       "      <td>nm0000212</td>\n",
       "      <td>actress</td>\n",
       "      <td>\\N</td>\n",
       "      <td>[\"Kate McKay\"]</td>\n",
       "    </tr>\n",
       "    <tr>\n",
       "      <th>282232</th>\n",
       "      <td>tt0035423</td>\n",
       "      <td>2</td>\n",
       "      <td>nm0413168</td>\n",
       "      <td>actor</td>\n",
       "      <td>\\N</td>\n",
       "      <td>[\"Leopold\"]</td>\n",
       "    </tr>\n",
       "    <tr>\n",
       "      <th>282233</th>\n",
       "      <td>tt0035423</td>\n",
       "      <td>3</td>\n",
       "      <td>nm0000630</td>\n",
       "      <td>actor</td>\n",
       "      <td>\\N</td>\n",
       "      <td>[\"Stuart Besser\"]</td>\n",
       "    </tr>\n",
       "    <tr>\n",
       "      <th>282234</th>\n",
       "      <td>tt0035423</td>\n",
       "      <td>4</td>\n",
       "      <td>nm0005227</td>\n",
       "      <td>actor</td>\n",
       "      <td>\\N</td>\n",
       "      <td>[\"Charlie McKay\"]</td>\n",
       "    </tr>\n",
       "    <tr>\n",
       "      <th>...</th>\n",
       "      <td>...</td>\n",
       "      <td>...</td>\n",
       "      <td>...</td>\n",
       "      <td>...</td>\n",
       "      <td>...</td>\n",
       "      <td>...</td>\n",
       "    </tr>\n",
       "    <tr>\n",
       "      <th>47583252</th>\n",
       "      <td>tt9916428</td>\n",
       "      <td>3</td>\n",
       "      <td>nm8594703</td>\n",
       "      <td>actor</td>\n",
       "      <td>\\N</td>\n",
       "      <td>[\"Dr. Hatem\"]</td>\n",
       "    </tr>\n",
       "    <tr>\n",
       "      <th>47583253</th>\n",
       "      <td>tt9916428</td>\n",
       "      <td>4</td>\n",
       "      <td>nm0422639</td>\n",
       "      <td>actress</td>\n",
       "      <td>\\N</td>\n",
       "      <td>[\"Song Qingling\"]</td>\n",
       "    </tr>\n",
       "    <tr>\n",
       "      <th>47583254</th>\n",
       "      <td>tt9916428</td>\n",
       "      <td>5</td>\n",
       "      <td>nm0910951</td>\n",
       "      <td>director</td>\n",
       "      <td>\\N</td>\n",
       "      <td>\\N</td>\n",
       "    </tr>\n",
       "    <tr>\n",
       "      <th>47583255</th>\n",
       "      <td>tt9916428</td>\n",
       "      <td>6</td>\n",
       "      <td>nm8680851</td>\n",
       "      <td>actor</td>\n",
       "      <td>\\N</td>\n",
       "      <td>[\"Powell Editor-in-chief of US newspaper\"]</td>\n",
       "    </tr>\n",
       "    <tr>\n",
       "      <th>47583256</th>\n",
       "      <td>tt9916428</td>\n",
       "      <td>7</td>\n",
       "      <td>nm3370295</td>\n",
       "      <td>actor</td>\n",
       "      <td>\\N</td>\n",
       "      <td>[\"Train Station Manager\"]</td>\n",
       "    </tr>\n",
       "  </tbody>\n",
       "</table>\n",
       "<p>1160451 rows × 6 columns</p>\n",
       "</div>"
      ],
      "text/plain": [
       "             tconst  ordering     nconst  category job  \\\n",
       "282230    tt0035423        10  nm0107463    editor  \\N   \n",
       "282231    tt0035423         1  nm0000212   actress  \\N   \n",
       "282232    tt0035423         2  nm0413168     actor  \\N   \n",
       "282233    tt0035423         3  nm0000630     actor  \\N   \n",
       "282234    tt0035423         4  nm0005227     actor  \\N   \n",
       "...             ...       ...        ...       ...  ..   \n",
       "47583252  tt9916428         3  nm8594703     actor  \\N   \n",
       "47583253  tt9916428         4  nm0422639   actress  \\N   \n",
       "47583254  tt9916428         5  nm0910951  director  \\N   \n",
       "47583255  tt9916428         6  nm8680851     actor  \\N   \n",
       "47583256  tt9916428         7  nm3370295     actor  \\N   \n",
       "\n",
       "                                          characters  \n",
       "282230                                            \\N  \n",
       "282231                                [\"Kate McKay\"]  \n",
       "282232                                   [\"Leopold\"]  \n",
       "282233                             [\"Stuart Besser\"]  \n",
       "282234                             [\"Charlie McKay\"]  \n",
       "...                                              ...  \n",
       "47583252                               [\"Dr. Hatem\"]  \n",
       "47583253                           [\"Song Qingling\"]  \n",
       "47583254                                          \\N  \n",
       "47583255  [\"Powell Editor-in-chief of US newspaper\"]  \n",
       "47583256                   [\"Train Station Manager\"]  \n",
       "\n",
       "[1160451 rows x 6 columns]"
      ]
     },
     "execution_count": 71,
     "metadata": {},
     "output_type": "execute_result"
    }
   ],
   "source": [
    "title_principals"
   ]
  },
  {
   "cell_type": "code",
   "execution_count": 73,
   "id": "7a955036",
   "metadata": {},
   "outputs": [],
   "source": [
    "title_ratings = pd.read_csv(\"title_ratings.tsv\", sep='\\t')"
   ]
  },
  {
   "cell_type": "code",
   "execution_count": 74,
   "id": "3cd5fdce",
   "metadata": {},
   "outputs": [
    {
     "data": {
      "text/plain": [
       "99150"
      ]
     },
     "execution_count": 74,
     "metadata": {},
     "output_type": "execute_result"
    }
   ],
   "source": [
    "title_ratings = title_ratings[title_ratings['tconst'].isin(movieSelection['tconst'])]\n",
    "len(title_ratings)"
   ]
  },
  {
   "cell_type": "code",
   "execution_count": 75,
   "id": "d765e598",
   "metadata": {},
   "outputs": [
    {
     "data": {
      "text/html": [
       "<div>\n",
       "<style scoped>\n",
       "    .dataframe tbody tr th:only-of-type {\n",
       "        vertical-align: middle;\n",
       "    }\n",
       "\n",
       "    .dataframe tbody tr th {\n",
       "        vertical-align: top;\n",
       "    }\n",
       "\n",
       "    .dataframe thead th {\n",
       "        text-align: right;\n",
       "    }\n",
       "</style>\n",
       "<table border=\"1\" class=\"dataframe\">\n",
       "  <thead>\n",
       "    <tr style=\"text-align: right;\">\n",
       "      <th></th>\n",
       "      <th>tconst</th>\n",
       "      <th>averageRating</th>\n",
       "      <th>numVotes</th>\n",
       "    </tr>\n",
       "  </thead>\n",
       "  <tbody>\n",
       "    <tr>\n",
       "      <th>17794</th>\n",
       "      <td>tt0035423</td>\n",
       "      <td>6.4</td>\n",
       "      <td>81936</td>\n",
       "    </tr>\n",
       "    <tr>\n",
       "      <th>18427</th>\n",
       "      <td>tt0036177</td>\n",
       "      <td>7.3</td>\n",
       "      <td>113</td>\n",
       "    </tr>\n",
       "    <tr>\n",
       "      <th>40529</th>\n",
       "      <td>tt0062336</td>\n",
       "      <td>6.3</td>\n",
       "      <td>157</td>\n",
       "    </tr>\n",
       "    <tr>\n",
       "      <th>43167</th>\n",
       "      <td>tt0065392</td>\n",
       "      <td>7.4</td>\n",
       "      <td>12</td>\n",
       "    </tr>\n",
       "    <tr>\n",
       "      <th>46361</th>\n",
       "      <td>tt0069049</td>\n",
       "      <td>6.8</td>\n",
       "      <td>6930</td>\n",
       "    </tr>\n",
       "    <tr>\n",
       "      <th>...</th>\n",
       "      <td>...</td>\n",
       "      <td>...</td>\n",
       "      <td>...</td>\n",
       "    </tr>\n",
       "    <tr>\n",
       "      <th>1197155</th>\n",
       "      <td>tt9915872</td>\n",
       "      <td>7.7</td>\n",
       "      <td>7</td>\n",
       "    </tr>\n",
       "    <tr>\n",
       "      <th>1197168</th>\n",
       "      <td>tt9916170</td>\n",
       "      <td>7.2</td>\n",
       "      <td>5</td>\n",
       "    </tr>\n",
       "    <tr>\n",
       "      <th>1197169</th>\n",
       "      <td>tt9916190</td>\n",
       "      <td>3.6</td>\n",
       "      <td>226</td>\n",
       "    </tr>\n",
       "    <tr>\n",
       "      <th>1197178</th>\n",
       "      <td>tt9916362</td>\n",
       "      <td>6.4</td>\n",
       "      <td>4085</td>\n",
       "    </tr>\n",
       "    <tr>\n",
       "      <th>1197181</th>\n",
       "      <td>tt9916428</td>\n",
       "      <td>3.8</td>\n",
       "      <td>14</td>\n",
       "    </tr>\n",
       "  </tbody>\n",
       "</table>\n",
       "<p>99150 rows × 3 columns</p>\n",
       "</div>"
      ],
      "text/plain": [
       "            tconst  averageRating  numVotes\n",
       "17794    tt0035423            6.4     81936\n",
       "18427    tt0036177            7.3       113\n",
       "40529    tt0062336            6.3       157\n",
       "43167    tt0065392            7.4        12\n",
       "46361    tt0069049            6.8      6930\n",
       "...            ...            ...       ...\n",
       "1197155  tt9915872            7.7         7\n",
       "1197168  tt9916170            7.2         5\n",
       "1197169  tt9916190            3.6       226\n",
       "1197178  tt9916362            6.4      4085\n",
       "1197181  tt9916428            3.8        14\n",
       "\n",
       "[99150 rows x 3 columns]"
      ]
     },
     "execution_count": 75,
     "metadata": {},
     "output_type": "execute_result"
    }
   ],
   "source": [
    "title_ratings"
   ]
  },
  {
   "cell_type": "code",
   "execution_count": null,
   "id": "8a48e88b",
   "metadata": {},
   "outputs": [],
   "source": []
  }
 ],
 "metadata": {
  "kernelspec": {
   "display_name": "Python 3",
   "language": "python",
   "name": "python3"
  },
  "language_info": {
   "codemirror_mode": {
    "name": "ipython",
    "version": 3
   },
   "file_extension": ".py",
   "mimetype": "text/x-python",
   "name": "python",
   "nbconvert_exporter": "python",
   "pygments_lexer": "ipython3",
   "version": "3.8.8"
  },
  "toc": {
   "base_numbering": 1,
   "nav_menu": {},
   "number_sections": true,
   "sideBar": true,
   "skip_h1_title": false,
   "title_cell": "Table of Contents",
   "title_sidebar": "Contents",
   "toc_cell": false,
   "toc_position": {},
   "toc_section_display": true,
   "toc_window_display": false
  }
 },
 "nbformat": 4,
 "nbformat_minor": 5
}
