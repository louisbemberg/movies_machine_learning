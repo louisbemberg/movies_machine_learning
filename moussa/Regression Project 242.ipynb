{
 "cells": [
  {
   "cell_type": "code",
   "execution_count": 190,
   "id": "e832fe38",
   "metadata": {},
   "outputs": [],
   "source": [
    "import pandas as pd\n",
    "import numpy as np\n",
    "import statsmodels.formula.api as smf\n",
    "from sklearn.metrics import confusion_matrix\n",
    "import matplotlib.pyplot as plt\n",
    "from sklearn.metrics import roc_curve, auc\n",
    "import statsmodels.api as sm"
   ]
  },
  {
   "cell_type": "code",
   "execution_count": 191,
   "id": "18d753c3",
   "metadata": {},
   "outputs": [],
   "source": [
    "test=pd.read_csv('test_dataset.csv')\n",
    "train=pd.read_csv('train_dataset.csv')"
   ]
  },
  {
   "cell_type": "code",
   "execution_count": 192,
   "id": "3bed1eae",
   "metadata": {
    "scrolled": false
   },
   "outputs": [
    {
     "name": "stdout",
     "output_type": "stream",
     "text": [
      "<class 'pandas.core.frame.DataFrame'>\n",
      "RangeIndex: 5550 entries, 0 to 5549\n",
      "Data columns (total 23 columns):\n",
      " #   Column              Non-Null Count  Dtype  \n",
      "---  ------              --------------  -----  \n",
      " 0   tconst              5550 non-null   object \n",
      " 1   primaryTitle        5550 non-null   object \n",
      " 2   originalTitle       5550 non-null   object \n",
      " 3   startYear           5550 non-null   int64  \n",
      " 4   runtimeMinutes      5550 non-null   int64  \n",
      " 5   Animation           5550 non-null   int64  \n",
      " 6   Fantasy             5550 non-null   int64  \n",
      " 7   GameShow            5550 non-null   int64  \n",
      " 8   History             5550 non-null   int64  \n",
      " 9   Music               5550 non-null   int64  \n",
      " 10  Musical             5550 non-null   int64  \n",
      " 11  News                5550 non-null   int64  \n",
      " 12  SciFi               5550 non-null   int64  \n",
      " 13  Sport               5550 non-null   int64  \n",
      " 14  War                 5550 non-null   int64  \n",
      " 15  Western             5550 non-null   int64  \n",
      " 16  averageRating       5550 non-null   float64\n",
      " 17  numVotes            5550 non-null   float64\n",
      " 18  budget              5550 non-null   int64  \n",
      " 19  revenue             5550 non-null   int64  \n",
      " 20  isTopActor          5550 non-null   int64  \n",
      " 21  isTopDirector       5550 non-null   int64  \n",
      " 22  yearsSinceProduced  5550 non-null   int64  \n",
      "dtypes: float64(2), int64(18), object(3)\n",
      "memory usage: 997.4+ KB\n"
     ]
    }
   ],
   "source": [
    "train.info()"
   ]
  },
  {
   "cell_type": "code",
   "execution_count": 193,
   "id": "607bf449",
   "metadata": {},
   "outputs": [
    {
     "data": {
      "text/plain": [
       "2.5372449530248577e+20"
      ]
     },
     "execution_count": 193,
     "metadata": {},
     "output_type": "execute_result"
    }
   ],
   "source": [
    "baelineModel = train['revenue'].mean(axis=0)\n",
    "SST = sum((train['revenue']- baelineModel)**2)\n",
    "SST"
   ]
  },
  {
   "cell_type": "code",
   "execution_count": 194,
   "id": "8baafbfd",
   "metadata": {},
   "outputs": [
    {
     "name": "stdout",
     "output_type": "stream",
     "text": [
      "                            OLS Regression Results                            \n",
      "==============================================================================\n",
      "Dep. Variable:                revenue   R-squared:                       0.603\n",
      "Model:                            OLS   Adj. R-squared:                  0.602\n",
      "Method:                 Least Squares   F-statistic:                     495.1\n",
      "Date:                Sat, 04 Dec 2021   Prob (F-statistic):               0.00\n",
      "Time:                        15:39:57   Log-Likelihood:            -1.1176e+05\n",
      "No. Observations:                5550   AIC:                         2.236e+05\n",
      "Df Residuals:                    5532   BIC:                         2.237e+05\n",
      "Df Model:                          17                                         \n",
      "Covariance Type:            nonrobust                                         \n",
      "======================================================================================\n",
      "                         coef    std err          t      P>|t|      [0.025      0.975]\n",
      "--------------------------------------------------------------------------------------\n",
      "Intercept           -671.5343    202.068     -3.323      0.001   -1067.666    -275.402\n",
      "startYear           1.411e+04   6804.692      2.073      0.038     767.045    2.74e+04\n",
      "runtimeMinutes     -8.369e+04   8.29e+04     -1.009      0.313   -2.46e+05    7.88e+04\n",
      "Animation          -6.791e+06   9.07e+06     -0.748      0.454   -2.46e+07     1.1e+07\n",
      "Fantasy             1.758e+06   7.64e+06      0.230      0.818   -1.32e+07    1.67e+07\n",
      "GameShow           -3.721e-08   2.33e-08     -1.597      0.110   -8.29e-08    8.48e-09\n",
      "History            -6.116e+06   1.12e+07     -0.548      0.584    -2.8e+07    1.58e+07\n",
      "Music               3.893e+06   1.08e+07      0.360      0.719   -1.73e+07    2.51e+07\n",
      "Musical             1.425e+07    1.9e+07      0.752      0.452   -2.29e+07    5.14e+07\n",
      "News               -3.249e+07   4.78e+07     -0.679      0.497   -1.26e+08    6.13e+07\n",
      "SciFi              -3.362e+07   8.17e+06     -4.114      0.000   -4.96e+07   -1.76e+07\n",
      "Sport              -1.929e+07   1.31e+07     -1.478      0.140   -4.49e+07     6.3e+06\n",
      "War                 -1.62e+07   1.52e+07     -1.062      0.288   -4.61e+07    1.37e+07\n",
      "Western            -5.713e+07   2.88e+07     -1.980      0.048   -1.14e+08   -5.75e+05\n",
      "averageRating       5.096e+05    1.7e+06      0.301      0.764   -2.81e+06    3.83e+06\n",
      "numVotes             298.5739     14.530     20.549      0.000     270.090     327.058\n",
      "budget                 3.1063      0.040     77.148      0.000       3.027       3.185\n",
      "isTopActor         -3.514e+07   4.38e+06     -8.023      0.000   -4.37e+07   -2.65e+07\n",
      "isTopDirector      -2.488e+07    4.7e+06     -5.297      0.000   -3.41e+07   -1.57e+07\n",
      "yearsSinceProduced -1.371e+06   4.11e+05     -3.338      0.001   -2.18e+06   -5.66e+05\n",
      "==============================================================================\n",
      "Omnibus:                     5193.317   Durbin-Watson:                   2.018\n",
      "Prob(Omnibus):                  0.000   Jarque-Bera (JB):           471595.094\n",
      "Skew:                           4.202   Prob(JB):                         0.00\n",
      "Kurtosis:                      47.370   Cond. No.                     1.01e+27\n",
      "==============================================================================\n",
      "\n",
      "Notes:\n",
      "[1] Standard Errors assume that the covariance matrix of the errors is correctly specified.\n",
      "[2] The smallest eigenvalue is 2.1e-35. This might indicate that there are\n",
      "strong multicollinearity problems or that the design matrix is singular.\n"
     ]
    }
   ],
   "source": [
    "linreg = smf.ols(formula = 'revenue ~ startYear + runtimeMinutes + Animation + Fantasy + GameShow + History+Music + Musical + News + SciFi + Sport + War +Western + averageRating + numVotes + budget + isTopActor + isTopDirector + yearsSinceProduced',\n",
    "                   data = train).fit()\n",
    "\n",
    "print(linreg.summary())"
   ]
  },
  {
   "cell_type": "code",
   "execution_count": 195,
   "id": "42686c1d",
   "metadata": {},
   "outputs": [
    {
     "name": "stdout",
     "output_type": "stream",
     "text": [
      "                            OLS Regression Results                            \n",
      "==============================================================================\n",
      "Dep. Variable:                revenue   R-squared:                       0.603\n",
      "Model:                            OLS   Adj. R-squared:                  0.602\n",
      "Method:                 Least Squares   F-statistic:                     1401.\n",
      "Date:                Sat, 04 Dec 2021   Prob (F-statistic):               0.00\n",
      "Time:                        15:40:01   Log-Likelihood:            -1.1177e+05\n",
      "No. Observations:                5550   AIC:                         2.235e+05\n",
      "Df Residuals:                    5543   BIC:                         2.236e+05\n",
      "Df Model:                           6                                         \n",
      "Covariance Type:            nonrobust                                         \n",
      "======================================================================================\n",
      "                         coef    std err          t      P>|t|      [0.025      0.975]\n",
      "--------------------------------------------------------------------------------------\n",
      "Intercept           2.269e+07   5.75e+06      3.947      0.000    1.14e+07     3.4e+07\n",
      "SciFi              -3.274e+07   8.06e+06     -4.060      0.000   -4.85e+07   -1.69e+07\n",
      "numVotes             296.9630     13.694     21.686      0.000     270.118     323.808\n",
      "budget                 3.1028      0.040     78.061      0.000       3.025       3.181\n",
      "isTopActor         -3.569e+07   4.32e+06     -8.265      0.000   -4.42e+07   -2.72e+07\n",
      "isTopDirector      -2.524e+07   4.57e+06     -5.529      0.000   -3.42e+07   -1.63e+07\n",
      "yearsSinceProduced -1.387e+06   4.12e+05     -3.364      0.001    -2.2e+06   -5.79e+05\n",
      "==============================================================================\n",
      "Omnibus:                     5191.009   Durbin-Watson:                   2.016\n",
      "Prob(Omnibus):                  0.000   Jarque-Bera (JB):           470711.705\n",
      "Skew:                           4.200   Prob(JB):                         0.00\n",
      "Kurtosis:                      47.328   Cond. No.                     2.77e+08\n",
      "==============================================================================\n",
      "\n",
      "Notes:\n",
      "[1] Standard Errors assume that the covariance matrix of the errors is correctly specified.\n",
      "[2] The condition number is large, 2.77e+08. This might indicate that there are\n",
      "strong multicollinearity or other numerical problems.\n"
     ]
    }
   ],
   "source": [
    "# removing Music Fantasy News HistoryAnimation Gameshow Musical War +Western + averageRating+ Sport+ runtimeMinutes+startYear\n",
    "linreg = smf.ols(formula = 'revenue ~ SciFi  + numVotes + budget + isTopActor + isTopDirector + yearsSinceProduced',\n",
    "                   data = train).fit()\n",
    "\n",
    "print(linreg.summary())"
   ]
  },
  {
   "cell_type": "code",
   "execution_count": 197,
   "id": "61c34cb3",
   "metadata": {},
   "outputs": [
    {
     "data": {
      "text/plain": [
       "SciFi                 1.052746\n",
       "numVotes              1.423608\n",
       "budget                1.123771\n",
       "isTopActor            1.399782\n",
       "isTopDirector         1.462944\n",
       "yearsSinceProduced    1.026661\n",
       "dtype: float64"
      ]
     },
     "execution_count": 197,
     "metadata": {},
     "output_type": "execute_result"
    }
   ],
   "source": [
    "from statsmodels.stats.outliers_influence import variance_inflation_factor\n",
    "\n",
    "def VIF(df, columns):\n",
    "    \n",
    "    values = sm.add_constant(df[columns]).values  # the dataframe passed to VIF must include the intercept term. We add it the same way we did before.\n",
    "    num_columns = len(columns)+1\n",
    "    vif = [variance_inflation_factor(values, i) for i in range(num_columns)]\n",
    "    \n",
    "    return pd.Series(vif[1:], index=columns)\n",
    "\n",
    "VIF(train, ['SciFi', 'numVotes','budget', 'isTopActor','isTopDirector', 'yearsSinceProduced'])\n"
   ]
  },
  {
   "cell_type": "code",
   "execution_count": 198,
   "id": "f13bec9c",
   "metadata": {},
   "outputs": [
    {
     "data": {
      "text/plain": [
       "0       1.294560e+08\n",
       "1       1.212517e+07\n",
       "2       5.505249e+07\n",
       "3       5.279516e+08\n",
       "4       6.187867e+07\n",
       "            ...     \n",
       "2348    2.357342e+08\n",
       "2349    9.129106e+07\n",
       "2350    4.853948e+07\n",
       "2351    5.891340e+08\n",
       "2352    1.101547e+08\n",
       "Length: 2353, dtype: float64"
      ]
     },
     "execution_count": 198,
     "metadata": {},
     "output_type": "execute_result"
    }
   ],
   "source": [
    "linreg.predict(test)"
   ]
  },
  {
   "cell_type": "code",
   "execution_count": 201,
   "id": "c1ab1ac4",
   "metadata": {},
   "outputs": [],
   "source": [
    "df_test = test[['revenue','SciFi', 'numVotes','budget', 'isTopActor','isTopDirector', 'yearsSinceProduced']]\n",
    "df_train = train[['revenue','SciFi', 'numVotes','budget', 'isTopActor','isTopDirector', 'yearsSinceProduced']]\n",
    "\n",
    "\n",
    "def OSR2(model, df_train, df_test, dependent_var):   \n",
    "    \n",
    "    y_test = df_test[dependent_var]\n",
    "    y_pred = model.predict(df_test)\n",
    "    SSE = np.sum((y_test - y_pred)**2)\n",
    "    SST = np.sum((y_test - np.mean(df_train[dependent_var]))**2)    \n",
    "    \n",
    "    return 1 - SSE/SST"
   ]
  },
  {
   "cell_type": "code",
   "execution_count": 202,
   "id": "4fd378b0",
   "metadata": {},
   "outputs": [
    {
     "name": "stdout",
     "output_type": "stream",
     "text": [
      "The OSR2 for the Linear Regression model is:  0.5623209277886974\n"
     ]
    }
   ],
   "source": [
    "print('The OSR2 for the Linear Regression model is: ',OSR2(linreg, df_train, df_test, dependent_var='revenue'))"
   ]
  },
  {
   "cell_type": "markdown",
   "id": "9868a6aa",
   "metadata": {},
   "source": [
    "# CART MODEL "
   ]
  },
  {
   "cell_type": "code",
   "execution_count": 203,
   "id": "98b20a08",
   "metadata": {},
   "outputs": [],
   "source": [
    "from sklearn.tree import DecisionTreeRegressor\n",
    "from sklearn.tree import plot_tree\n",
    "from sklearn.model_selection import GridSearchCV\n"
   ]
  },
  {
   "cell_type": "code",
   "execution_count": 205,
   "id": "ee2e422f",
   "metadata": {},
   "outputs": [
    {
     "name": "stdout",
     "output_type": "stream",
     "text": [
      "Fitting 10 folds for each of 201 candidates, totalling 2010 fits\n"
     ]
    },
    {
     "data": {
      "text/plain": [
       "GridSearchCV(cv=10, estimator=DecisionTreeRegressor(),\n",
       "             param_grid={'ccp_alpha': array([0.    , 0.0005, 0.001 , 0.0015, 0.002 , 0.0025, 0.003 , 0.0035,\n",
       "       0.004 , 0.0045, 0.005 , 0.0055, 0.006 , 0.0065, 0.007 , 0.0075,\n",
       "       0.008 , 0.0085, 0.009 , 0.0095, 0.01  , 0.0105, 0.011 , 0.0115,\n",
       "       0.012 , 0.0125, 0.013 , 0.0135, 0.014 , 0.0145, 0.015 , 0.0155,\n",
       "       0.016 , 0.0165, 0.017 , 0.0175, 0.018 , 0.0185, 0.019 , 0.0195,\n",
       "       0.02  , 0.020...\n",
       "       0.08  , 0.0805, 0.081 , 0.0815, 0.082 , 0.0825, 0.083 , 0.0835,\n",
       "       0.084 , 0.0845, 0.085 , 0.0855, 0.086 , 0.0865, 0.087 , 0.0875,\n",
       "       0.088 , 0.0885, 0.089 , 0.0895, 0.09  , 0.0905, 0.091 , 0.0915,\n",
       "       0.092 , 0.0925, 0.093 , 0.0935, 0.094 , 0.0945, 0.095 , 0.0955,\n",
       "       0.096 , 0.0965, 0.097 , 0.0975, 0.098 , 0.0985, 0.099 , 0.0995,\n",
       "       0.1   ]),\n",
       "                         'max_depth': [30], 'min_samples_leaf': [5],\n",
       "                         'min_samples_split': [20], 'random_state': [88]},\n",
       "             scoring='r2', verbose=1)"
      ]
     },
     "execution_count": 205,
     "metadata": {},
     "output_type": "execute_result"
    }
   ],
   "source": [
    "# We use here cross validation to select the best ccp_alpha for our model\n",
    "#X_train = train.drop(['revenue','tconst','primaryTitle','originalTitle'], axis = 1)\n",
    "X_train = train[['SciFi', 'numVotes','budget', 'isTopActor','isTopDirector', 'yearsSinceProduced']]\n",
    "y_train = train['revenue']\n",
    "X_test = test[['SciFi', 'numVotes','budget', 'isTopActor','isTopDirector', 'yearsSinceProduced']]\n",
    "y_test = test['revenue']\n",
    "\n",
    "grid_values = {'ccp_alpha': np.linspace(0.0, 0.1, 201),\n",
    "               'min_samples_leaf': [5],\n",
    "               'min_samples_split': [20],\n",
    "               'max_depth': [30],\n",
    "               'random_state': [88]} \n",
    "            \n",
    "dtr = DecisionTreeRegressor()\n",
    "dtr_cv_custom = GridSearchCV(dtr, param_grid = grid_values, scoring = 'r2', cv=10, verbose = 1) \n",
    "# we use here the R2 score as optimization variable since we are dealing with a regression model\n",
    "dtr_cv_custom.fit(X_train, y_train)"
   ]
  },
  {
   "cell_type": "code",
   "execution_count": 206,
   "id": "23d784ad",
   "metadata": {},
   "outputs": [
    {
     "data": {
      "text/plain": [
       "0.0"
      ]
     },
     "execution_count": 206,
     "metadata": {},
     "output_type": "execute_result"
    }
   ],
   "source": [
    "dtr_cv_custom.best_params_['ccp_alpha']"
   ]
  },
  {
   "cell_type": "code",
   "execution_count": 207,
   "id": "31638be3",
   "metadata": {},
   "outputs": [
    {
     "data": {
      "image/png": "[encoded data removed]",
      "text/plain": [
       "<Figure size 576x432 with 1 Axes>"
      ]
     },
     "metadata": {
      "needs_background": "light"
     },
     "output_type": "display_data"
    },
    {
     "name": "stdout",
     "output_type": "stream",
     "text": [
      "Grid best parameter ccp_alpha :  0.0\n",
      "Grid best score (R2):  0.5690796796361659\n"
     ]
    }
   ],
   "source": [
    "acc = dtr_cv_custom.cv_results_['mean_test_score'] \n",
    "ccp = dtr_cv_custom.cv_results_['param_ccp_alpha'].data\n",
    "\n",
    "plt.figure(figsize=(8, 6))\n",
    "plt.title('Graph 1')\n",
    "plt.xlabel('ccp alpha', fontsize=16)\n",
    "plt.ylabel('R2 mean', fontsize=16)\n",
    "plt.scatter(ccp, acc, s=2)\n",
    "plt.plot(ccp, acc, linewidth=3)\n",
    "plt.grid(True, which='both')\n",
    "plt.show()\n",
    "print('Grid best parameter ccp_alpha : ', dtr_cv_custom.best_params_['ccp_alpha'])\n",
    "print('Grid best score (R2): ', dtr_cv_custom.best_score_)"
   ]
  },
  {
   "cell_type": "code",
   "execution_count": 208,
   "id": "0c0db27b",
   "metadata": {},
   "outputs": [],
   "source": [
    "#Now that we have our best hyper parameter alpha, let's put it in our regression Tree.\n",
    "dtrOptimal = DecisionTreeRegressor(min_samples_leaf=5, \n",
    "                             ccp_alpha= 0.0,\n",
    "                             random_state = 88)\n",
    "dtrOptimal = dtrOptimal.fit(X_train, y_train)"
   ]
  },
  {
   "cell_type": "code",
   "execution_count": 209,
   "id": "be3455eb",
   "metadata": {},
   "outputs": [
    {
     "data": {
      "text/plain": [
       "array([1.35459733e+08, 4.49649474e+07, 3.85395752e+07, ...,\n",
       "       7.37024568e+07, 2.86408790e+08, 9.00524841e+07])"
      ]
     },
     "execution_count": 209,
     "metadata": {},
     "output_type": "execute_result"
    }
   ],
   "source": [
    "dtrOptimal.predict(X_test)"
   ]
  },
  {
   "cell_type": "code",
   "execution_count": 210,
   "id": "daf2c464",
   "metadata": {},
   "outputs": [
    {
     "name": "stdout",
     "output_type": "stream",
     "text": [
      "The OSR2 :  0.5310423468981504\n"
     ]
    }
   ],
   "source": [
    "def OSR22(model, X_test, y_test, y_train):\n",
    "    \n",
    "    y_pred = model.predict(X_test)\n",
    "    SSE = np.sum((y_test - y_pred)**2)\n",
    "    SST = np.sum((y_test - np.mean(y_train))**2)\n",
    "    \n",
    "    return (1 - SSE/SST)\n",
    "\n",
    "print('The OSR2 : ',OSR22(dtrOptimal,X_test, y_test, y_train))"
   ]
  },
  {
   "cell_type": "markdown",
   "id": "ebed6f2d",
   "metadata": {},
   "source": [
    "# Random Forest Regressor"
   ]
  },
  {
   "cell_type": "code",
   "execution_count": 211,
   "id": "d468feba",
   "metadata": {},
   "outputs": [
    {
     "data": {
      "text/plain": [
       "RandomForestRegressor(max_features=6, min_samples_leaf=5, n_estimators=500,\n",
       "                      random_state=88)"
      ]
     },
     "execution_count": 211,
     "metadata": {},
     "output_type": "execute_result"
    }
   ],
   "source": [
    "from sklearn.ensemble import RandomForestRegressor\n",
    "\n",
    "rf = RandomForestRegressor(max_features=6, min_samples_leaf=5, \n",
    "                           n_estimators = 500, random_state=88)\n",
    "rf.fit(X_train, y_train)"
   ]
  },
  {
   "cell_type": "code",
   "execution_count": 212,
   "id": "59be779d",
   "metadata": {},
   "outputs": [
    {
     "name": "stdout",
     "output_type": "stream",
     "text": [
      "OSR2: 0.62216\n"
     ]
    }
   ],
   "source": [
    "print('OSR2:', round(OSR22(rf, X_test, y_test, y_train), 5))"
   ]
  },
  {
   "cell_type": "markdown",
   "id": "c52ec423",
   "metadata": {},
   "source": [
    "# Gradient Boosting Regressor"
   ]
  },
  {
   "cell_type": "code",
   "execution_count": 213,
   "id": "a06250ac",
   "metadata": {},
   "outputs": [
    {
     "name": "stdout",
     "output_type": "stream",
     "text": [
      "      Iter       Train Loss   Remaining Time \n",
      "         1 40371881474463888.0000            2.56s\n",
      "         2 35943055650075904.0000            2.26s\n",
      "         3 32364060419678524.0000            2.08s\n",
      "         4 29409352491484528.0000            2.08s\n",
      "         5 26996997571361684.0000            2.04s\n",
      "         6 24976066519249680.0000            2.00s\n",
      "         7 23325604360041788.0000            1.98s\n",
      "         8 21952152553123056.0000            1.99s\n",
      "         9 20758044947655028.0000            1.97s\n",
      "        10 19783681691988656.0000            1.96s\n",
      "        20 15472454742587102.0000            1.90s\n",
      "        30 14117980876718160.0000            1.75s\n",
      "        40 13427318796529306.0000            1.62s\n",
      "        50 12875609421938022.0000            1.52s\n",
      "        60 12442471829092384.0000            1.47s\n",
      "        70 12127282711143840.0000            1.43s\n",
      "        80 11877609723729976.0000            1.38s\n",
      "        90 11653127013003130.0000            1.33s\n",
      "       100 11436851831857606.0000            1.27s\n",
      "       200 9973169216230818.0000            0.95s\n",
      "       300 9073958583940406.0000            0.62s\n",
      "       400 8475725181293774.0000            0.30s\n",
      "       500 7962642842148657.0000            0.00s\n"
     ]
    },
    {
     "data": {
      "text/plain": [
       "GradientBoostingRegressor(max_features=6, min_samples_leaf=5, n_estimators=500,\n",
       "                          random_state=88, verbose=1)"
      ]
     },
     "execution_count": 213,
     "metadata": {},
     "output_type": "execute_result"
    }
   ],
   "source": [
    "from sklearn.ensemble import GradientBoostingRegressor\n",
    "\n",
    "gbr = GradientBoostingRegressor(max_features=6, min_samples_leaf=5, \n",
    "                           n_estimators = 500, random_state=88, verbose=1)\n",
    "gbr.fit(X_train, y_train)"
   ]
  },
  {
   "cell_type": "code",
   "execution_count": 214,
   "id": "830eeda0",
   "metadata": {},
   "outputs": [
    {
     "name": "stdout",
     "output_type": "stream",
     "text": [
      "OSR2: 0.56419\n"
     ]
    }
   ],
   "source": [
    "print('OSR2:', round(OSR22(gbr, X_test, y_test, y_train), 5))"
   ]
  },
  {
   "cell_type": "markdown",
   "id": "de926d9e",
   "metadata": {},
   "source": [
    "# Boostrap"
   ]
  },
  {
   "cell_type": "code",
   "execution_count": 215,
   "id": "4fa9643e",
   "metadata": {},
   "outputs": [],
   "source": [
    "def OS_R_squared(predictions, y_test,y_train):\n",
    "    SSE = np.sum((y_test-predictions)**2)\n",
    "    SST = np.sum((y_test-np.mean(y_train))**2)\n",
    "    r2 = 1-SSE/SST\n",
    "    return r2\n",
    "\n",
    "def mean_squared_error(predictions, y_test,y_train):\n",
    "    MSE = np.mean((y_test-predictions)**2)\n",
    "    return MSE\n",
    "\n",
    "def mean_absolute_error(predictions, y_test,y_train):\n",
    "    MAE = np.mean(np.abs(y_test-predictions))\n",
    "    return MAE"
   ]
  },
  {
   "cell_type": "code",
   "execution_count": 216,
   "id": "00668cca",
   "metadata": {},
   "outputs": [],
   "source": [
    "import time\n",
    "from sklearn.metrics import accuracy_score \n",
    "\n",
    "def bootstrap_validation(test_data, test_label, train_label, model, metrics_list, sample=500, random_state=66):\n",
    "    tic = time.time()\n",
    "    n_sample = sample\n",
    "    n_metrics = len(metrics_list)\n",
    "    output_array=np.zeros([n_sample, n_metrics])\n",
    "    output_array[:]=np.nan\n",
    "    print(output_array.shape)\n",
    "    for bs_iter in range(n_sample):\n",
    "        bs_index = np.random.choice(test_data.index, len(test_data.index), replace=True)\n",
    "        bs_data = test_data.loc[bs_index]\n",
    "        bs_label = test_label.loc[bs_index]\n",
    "        bs_predicted = model.predict(bs_data)\n",
    "        for metrics_iter in range(n_metrics):\n",
    "            metrics = metrics_list[metrics_iter]\n",
    "            output_array[bs_iter, metrics_iter]=metrics(bs_predicted,bs_label,train_label)\n",
    "#         if bs_iter % 100 == 0:\n",
    "#             print(bs_iter, time.time()-tic)\n",
    "    output_df = pd.DataFrame(output_array)\n",
    "    return output_df\n",
    "def accuracy(predictions, y_test,y_train): \n",
    "    return accuracy_score(y_test, predictions)"
   ]
  },
  {
   "cell_type": "code",
   "execution_count": 217,
   "id": "b315e22f",
   "metadata": {
    "scrolled": true
   },
   "outputs": [
    {
     "name": "stdout",
     "output_type": "stream",
     "text": [
      "(5000, 1)\n",
      "(5000, 1)\n",
      "(5000, 1)\n",
      "(5000, 1)\n"
     ]
    }
   ],
   "source": [
    "bs_output_CART = bootstrap_validation(X_test,y_test,y_train,dtrOptimal,\n",
    "                                 metrics_list=[OS_R_squared],\n",
    "                                 sample = 5000)\n",
    "bs_output_LinearRegression = bootstrap_validation(X_test,y_test,y_train,linreg,\n",
    "                                 metrics_list=[OS_R_squared],\n",
    "                                 sample = 5000)\n",
    "bs_output_GradientBoosting = bootstrap_validation(X_test,y_test,y_train,gbr,\n",
    "                                 metrics_list=[OS_R_squared],\n",
    "                                 sample = 5000)\n",
    "bs_output_RF = bootstrap_validation(X_test,y_test,y_train,rf,\n",
    "                                 metrics_list=[OS_R_squared],\n",
    "                                 sample = 5000)"
   ]
  },
  {
   "cell_type": "code",
   "execution_count": 228,
   "id": "a361c828",
   "metadata": {},
   "outputs": [
    {
     "data": {
      "image/png": "[encoded data removed]",
      "text/plain": [
       "<Figure size 576x432 with 1 Axes>"
      ]
     },
     "metadata": {
      "needs_background": "light"
     },
     "output_type": "display_data"
    }
   ],
   "source": [
    "CI_CART = np.quantile(bs_output_CART.iloc[:,0],np.array([0.025,0.975]))\n",
    "CI_LR = np.quantile(bs_output_LinearRegression.iloc[:,0],np.array([0.025,0.975]))\n",
    "CI_GBR = np.quantile(bs_output_GradientBoosting.iloc[:,0],np.array([0.025,0.975]))\n",
    "CI_RF = np.quantile(bs_output_RF.iloc[:,0],np.array([0.025,0.975]))\n",
    "\n",
    "\n",
    "\n",
    "data_dict = {}\n",
    "data_dict['Model'] = ['CART','linear Regression','Gradient Boosting','Random Forest']\n",
    "data_dict['Lower'] = [CI_CART[0],CI_LR[0],CI_GBR[0],CI_RF[0]]\n",
    "data_dict['Upper'] = [CI_CART[1],CI_LR[1],CI_GBR[1],CI_RF[1]]\n",
    "dataset = pd.DataFrame(data_dict)\n",
    "plt.figure(figsize=(8,6))\n",
    "for lower,upper,y in zip(dataset['Lower'],dataset['Upper'],range(len(dataset))):\n",
    "    plt.plot((lower,upper),(y,y),'ro-',color='red')\n",
    "plt.yticks(range(len(dataset)),list(dataset['Model']))\n",
    "plt.title('Bootstrap 95% Confidence Intervals Comparison', fontsize = 16)\n",
    "plt.xlabel('Accuracy', fontsize=12)\n",
    "plt.xlim([0.3,0.8])\n",
    "plt.show()"
   ]
  },
  {
   "cell_type": "code",
   "execution_count": 227,
   "id": "d543bb63",
   "metadata": {},
   "outputs": [
    {
     "data": {
      "text/html": [
       "<style  type=\"text/css\" >\n",
       "</style><table id=\"T_073d3_\" ><thead>    <tr>        <th class=\"col_heading level0 col0\" >Model</th>        <th class=\"col_heading level0 col1\" >Lower</th>        <th class=\"col_heading level0 col2\" >Upper</th>    </tr></thead><tbody>\n",
       "                <tr>\n",
       "                                <td id=\"T_073d3_row0_col0\" class=\"data row0 col0\" >CART</td>\n",
       "                        <td id=\"T_073d3_row0_col1\" class=\"data row0 col1\" >0.452048</td>\n",
       "                        <td id=\"T_073d3_row0_col2\" class=\"data row0 col2\" >0.597261</td>\n",
       "            </tr>\n",
       "            <tr>\n",
       "                                <td id=\"T_073d3_row1_col0\" class=\"data row1 col0\" >linear Regression</td>\n",
       "                        <td id=\"T_073d3_row1_col1\" class=\"data row1 col1\" >0.509767</td>\n",
       "                        <td id=\"T_073d3_row1_col2\" class=\"data row1 col2\" >0.608667</td>\n",
       "            </tr>\n",
       "            <tr>\n",
       "                                <td id=\"T_073d3_row2_col0\" class=\"data row2 col0\" >Gradient Boosting</td>\n",
       "                        <td id=\"T_073d3_row2_col1\" class=\"data row2 col1\" >0.496204</td>\n",
       "                        <td id=\"T_073d3_row2_col2\" class=\"data row2 col2\" >0.624146</td>\n",
       "            </tr>\n",
       "            <tr>\n",
       "                                <td id=\"T_073d3_row3_col0\" class=\"data row3 col0\" >Random Forest</td>\n",
       "                        <td id=\"T_073d3_row3_col1\" class=\"data row3 col1\" >0.551222</td>\n",
       "                        <td id=\"T_073d3_row3_col2\" class=\"data row3 col2\" >0.684663</td>\n",
       "            </tr>\n",
       "    </tbody></table>"
      ],
      "text/plain": [
       "<pandas.io.formats.style.Styler at 0x7fe86cecf100>"
      ]
     },
     "execution_count": 227,
     "metadata": {},
     "output_type": "execute_result"
    }
   ],
   "source": [
    "dataset.style.hide_index()"
   ]
  },
  {
   "cell_type": "code",
   "execution_count": null,
   "id": "1fae4be8",
   "metadata": {},
   "outputs": [],
   "source": []
  }
 ],
 "metadata": {
  "kernelspec": {
   "display_name": "Python 3",
   "language": "python",
   "name": "python3"
  },
  "language_info": {
   "codemirror_mode": {
    "name": "ipython",
    "version": 3
   },
   "file_extension": ".py",
   "mimetype": "text/x-python",
   "name": "python",
   "nbconvert_exporter": "python",
   "pygments_lexer": "ipython3",
   "version": "3.8.8"
  }
 },
 "nbformat": 4,
 "nbformat_minor": 5
}
